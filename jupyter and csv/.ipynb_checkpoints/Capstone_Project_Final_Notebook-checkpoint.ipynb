{
 "cells": [
  {
   "cell_type": "markdown",
   "metadata": {},
   "source": [
    "# Importing Libraries"
   ]
  },
  {
   "cell_type": "code",
   "execution_count": 1,
   "metadata": {},
   "outputs": [],
   "source": [
    "# importing mnupulating and mathematical library\n",
    "\n",
    "import numpy as np\n",
    "import pandas as pd\n",
    "\n",
    "# importing plotting libraries\n",
    "\n",
    "from matplotlib.colors import ListedColormap\n",
    "import klib\n",
    "import matplotlib.pyplot as plt\n",
    "import seaborn as sns\n",
    "%matplotlib inline\n",
    "\n",
    "# importing warnings library\n",
    "\n",
    "import warnings\n",
    "warnings.filterwarnings('ignore')\n",
    "\n",
    "# importing statistical library\n",
    "\n",
    "import statsmodels.stats.api as sm\n",
    "from scipy.stats import chi2_contingency\n",
    "\n",
    "# importing model builiding libraries\n",
    "\n",
    "from sklearn.preprocessing import PowerTransformer\n",
    "from sklearn.model_selection import train_test_split\n",
    "from sklearn.model_selection import GridSearchCV\n",
    "from sklearn.preprocessing import StandardScaler,PowerTransformer\n",
    "from sklearn import metrics\n",
    "from sklearn.metrics import accuracy_score,roc_curve,roc_auc_score, classification_report, plot_confusion_matrix, plot_roc_curve,confusion_matrix\n",
    "from sklearn.linear_model import LogisticRegression\n",
    "from sklearn.naive_bayes import GaussianNB\n",
    "from sklearn.neighbors import KNeighborsClassifier\n",
    "from sklearn.tree import DecisionTreeClassifier\n",
    "from xgboost import XGBClassifier\n",
    "from sklearn.model_selection import cross_val_score\n",
    "from sklearn.ensemble import AdaBoostClassifier,RandomForestClassifier,GradientBoostingClassifier\n",
    "from sklearn.metrics import confusion_matrix, accuracy_score, f1_score, classification_report,precision_score, recall_score, cohen_kappa_score\n",
    "from sklearn.model_selection import GridSearchCV,RandomizedSearchCV\n",
    "\n",
    "# importing pickle library\n",
    "\n",
    "import pickle"
   ]
  },
  {
   "cell_type": "code",
   "execution_count": 2,
   "metadata": {},
   "outputs": [],
   "source": [
    "# setting display size for rows and columns\n",
    "\n",
    "pd.set_option('display.max_columns',None)\n",
    "pd.set_option('display.max_rows',200)"
   ]
  },
  {
   "cell_type": "markdown",
   "metadata": {},
   "source": [
    "# Loading Dataset"
   ]
  },
  {
   "cell_type": "code",
   "execution_count": 3,
   "metadata": {
    "execution": {
     "iopub.execute_input": "2021-10-16T16:48:30.990481Z",
     "iopub.status.busy": "2021-10-16T16:48:30.990003Z",
     "iopub.status.idle": "2021-10-16T16:48:31.804222Z",
     "shell.execute_reply": "2021-10-16T16:48:31.803446Z",
     "shell.execute_reply.started": "2021-10-16T16:48:30.990442Z"
    }
   },
   "outputs": [
    {
     "data": {
      "text/html": [
       "<div>\n",
       "<style scoped>\n",
       "    .dataframe tbody tr th:only-of-type {\n",
       "        vertical-align: middle;\n",
       "    }\n",
       "\n",
       "    .dataframe tbody tr th {\n",
       "        vertical-align: top;\n",
       "    }\n",
       "\n",
       "    .dataframe thead th {\n",
       "        text-align: right;\n",
       "    }\n",
       "</style>\n",
       "<table border=\"1\" class=\"dataframe\">\n",
       "  <thead>\n",
       "    <tr style=\"text-align: right;\">\n",
       "      <th></th>\n",
       "      <th>Unnamed: 0</th>\n",
       "      <th>Gender</th>\n",
       "      <th>customer_type</th>\n",
       "      <th>age</th>\n",
       "      <th>type_of_travel</th>\n",
       "      <th>customer_class</th>\n",
       "      <th>flight_distance</th>\n",
       "      <th>inflight_wifi_service</th>\n",
       "      <th>departure_arrival_time_convenient</th>\n",
       "      <th>ease_of_online_booking</th>\n",
       "      <th>gate_location</th>\n",
       "      <th>food_and_drink</th>\n",
       "      <th>online_boarding</th>\n",
       "      <th>seat_comfort</th>\n",
       "      <th>inflight_entertainment</th>\n",
       "      <th>onboard_service</th>\n",
       "      <th>leg_room_service</th>\n",
       "      <th>baggage_handling</th>\n",
       "      <th>checkin_service</th>\n",
       "      <th>inflight_service</th>\n",
       "      <th>cleanliness</th>\n",
       "      <th>departure_delay_in_minutes</th>\n",
       "      <th>arrival_delay_in_minutes</th>\n",
       "      <th>satisfaction</th>\n",
       "    </tr>\n",
       "  </thead>\n",
       "  <tbody>\n",
       "    <tr>\n",
       "      <th>0</th>\n",
       "      <td>0</td>\n",
       "      <td>Male</td>\n",
       "      <td>Loyal Customer</td>\n",
       "      <td>13</td>\n",
       "      <td>Personal Travel</td>\n",
       "      <td>Eco Plus</td>\n",
       "      <td>460</td>\n",
       "      <td>3</td>\n",
       "      <td>4</td>\n",
       "      <td>3</td>\n",
       "      <td>1</td>\n",
       "      <td>5</td>\n",
       "      <td>3</td>\n",
       "      <td>5</td>\n",
       "      <td>5</td>\n",
       "      <td>4</td>\n",
       "      <td>3</td>\n",
       "      <td>4</td>\n",
       "      <td>4</td>\n",
       "      <td>5</td>\n",
       "      <td>5</td>\n",
       "      <td>25</td>\n",
       "      <td>18.0</td>\n",
       "      <td>neutral or dissatisfied</td>\n",
       "    </tr>\n",
       "    <tr>\n",
       "      <th>1</th>\n",
       "      <td>1</td>\n",
       "      <td>Male</td>\n",
       "      <td>disloyal Customer</td>\n",
       "      <td>25</td>\n",
       "      <td>Business travel</td>\n",
       "      <td>Business</td>\n",
       "      <td>235</td>\n",
       "      <td>3</td>\n",
       "      <td>2</td>\n",
       "      <td>3</td>\n",
       "      <td>3</td>\n",
       "      <td>1</td>\n",
       "      <td>3</td>\n",
       "      <td>1</td>\n",
       "      <td>1</td>\n",
       "      <td>1</td>\n",
       "      <td>5</td>\n",
       "      <td>3</td>\n",
       "      <td>1</td>\n",
       "      <td>4</td>\n",
       "      <td>1</td>\n",
       "      <td>1</td>\n",
       "      <td>6.0</td>\n",
       "      <td>neutral or dissatisfied</td>\n",
       "    </tr>\n",
       "    <tr>\n",
       "      <th>2</th>\n",
       "      <td>2</td>\n",
       "      <td>Female</td>\n",
       "      <td>Loyal Customer</td>\n",
       "      <td>26</td>\n",
       "      <td>Business travel</td>\n",
       "      <td>Business</td>\n",
       "      <td>1142</td>\n",
       "      <td>2</td>\n",
       "      <td>2</td>\n",
       "      <td>2</td>\n",
       "      <td>2</td>\n",
       "      <td>5</td>\n",
       "      <td>5</td>\n",
       "      <td>5</td>\n",
       "      <td>5</td>\n",
       "      <td>4</td>\n",
       "      <td>3</td>\n",
       "      <td>4</td>\n",
       "      <td>4</td>\n",
       "      <td>4</td>\n",
       "      <td>5</td>\n",
       "      <td>0</td>\n",
       "      <td>0.0</td>\n",
       "      <td>satisfied</td>\n",
       "    </tr>\n",
       "    <tr>\n",
       "      <th>3</th>\n",
       "      <td>3</td>\n",
       "      <td>Female</td>\n",
       "      <td>Loyal Customer</td>\n",
       "      <td>25</td>\n",
       "      <td>Business travel</td>\n",
       "      <td>Business</td>\n",
       "      <td>562</td>\n",
       "      <td>2</td>\n",
       "      <td>5</td>\n",
       "      <td>5</td>\n",
       "      <td>5</td>\n",
       "      <td>2</td>\n",
       "      <td>2</td>\n",
       "      <td>2</td>\n",
       "      <td>2</td>\n",
       "      <td>2</td>\n",
       "      <td>5</td>\n",
       "      <td>3</td>\n",
       "      <td>1</td>\n",
       "      <td>4</td>\n",
       "      <td>2</td>\n",
       "      <td>11</td>\n",
       "      <td>9.0</td>\n",
       "      <td>neutral or dissatisfied</td>\n",
       "    </tr>\n",
       "    <tr>\n",
       "      <th>4</th>\n",
       "      <td>4</td>\n",
       "      <td>Male</td>\n",
       "      <td>Loyal Customer</td>\n",
       "      <td>61</td>\n",
       "      <td>Business travel</td>\n",
       "      <td>Business</td>\n",
       "      <td>214</td>\n",
       "      <td>3</td>\n",
       "      <td>3</td>\n",
       "      <td>3</td>\n",
       "      <td>3</td>\n",
       "      <td>4</td>\n",
       "      <td>5</td>\n",
       "      <td>5</td>\n",
       "      <td>3</td>\n",
       "      <td>3</td>\n",
       "      <td>4</td>\n",
       "      <td>4</td>\n",
       "      <td>3</td>\n",
       "      <td>3</td>\n",
       "      <td>3</td>\n",
       "      <td>0</td>\n",
       "      <td>0.0</td>\n",
       "      <td>satisfied</td>\n",
       "    </tr>\n",
       "  </tbody>\n",
       "</table>\n",
       "</div>"
      ],
      "text/plain": [
       "   Unnamed: 0  Gender      customer_type  age   type_of_travel customer_class  \\\n",
       "0           0    Male     Loyal Customer   13  Personal Travel       Eco Plus   \n",
       "1           1    Male  disloyal Customer   25  Business travel       Business   \n",
       "2           2  Female     Loyal Customer   26  Business travel       Business   \n",
       "3           3  Female     Loyal Customer   25  Business travel       Business   \n",
       "4           4    Male     Loyal Customer   61  Business travel       Business   \n",
       "\n",
       "   flight_distance  inflight_wifi_service  departure_arrival_time_convenient  \\\n",
       "0              460                      3                                  4   \n",
       "1              235                      3                                  2   \n",
       "2             1142                      2                                  2   \n",
       "3              562                      2                                  5   \n",
       "4              214                      3                                  3   \n",
       "\n",
       "   ease_of_online_booking  gate_location  food_and_drink  online_boarding  \\\n",
       "0                       3              1               5                3   \n",
       "1                       3              3               1                3   \n",
       "2                       2              2               5                5   \n",
       "3                       5              5               2                2   \n",
       "4                       3              3               4                5   \n",
       "\n",
       "   seat_comfort  inflight_entertainment  onboard_service  leg_room_service  \\\n",
       "0             5                       5                4                 3   \n",
       "1             1                       1                1                 5   \n",
       "2             5                       5                4                 3   \n",
       "3             2                       2                2                 5   \n",
       "4             5                       3                3                 4   \n",
       "\n",
       "   baggage_handling  checkin_service  inflight_service  cleanliness  \\\n",
       "0                 4                4                 5            5   \n",
       "1                 3                1                 4            1   \n",
       "2                 4                4                 4            5   \n",
       "3                 3                1                 4            2   \n",
       "4                 4                3                 3            3   \n",
       "\n",
       "   departure_delay_in_minutes  arrival_delay_in_minutes  \\\n",
       "0                          25                      18.0   \n",
       "1                           1                       6.0   \n",
       "2                           0                       0.0   \n",
       "3                          11                       9.0   \n",
       "4                           0                       0.0   \n",
       "\n",
       "              satisfaction  \n",
       "0  neutral or dissatisfied  \n",
       "1  neutral or dissatisfied  \n",
       "2                satisfied  \n",
       "3  neutral or dissatisfied  \n",
       "4                satisfied  "
      ]
     },
     "execution_count": 3,
     "metadata": {},
     "output_type": "execute_result"
    }
   ],
   "source": [
    "df=pd.read_csv('airline_passenger_satisfaction.csv')\n",
    "df.head()"
   ]
  },
  {
   "cell_type": "code",
   "execution_count": 4,
   "metadata": {
    "execution": {
     "iopub.execute_input": "2021-10-16T16:48:31.806159Z",
     "iopub.status.busy": "2021-10-16T16:48:31.805710Z",
     "iopub.status.idle": "2021-10-16T16:48:31.900592Z",
     "shell.execute_reply": "2021-10-16T16:48:31.899525Z",
     "shell.execute_reply.started": "2021-10-16T16:48:31.806120Z"
    }
   },
   "outputs": [
    {
     "data": {
      "text/html": [
       "<div>\n",
       "<style scoped>\n",
       "    .dataframe tbody tr th:only-of-type {\n",
       "        vertical-align: middle;\n",
       "    }\n",
       "\n",
       "    .dataframe tbody tr th {\n",
       "        vertical-align: top;\n",
       "    }\n",
       "\n",
       "    .dataframe thead th {\n",
       "        text-align: right;\n",
       "    }\n",
       "</style>\n",
       "<table border=\"1\" class=\"dataframe\">\n",
       "  <thead>\n",
       "    <tr style=\"text-align: right;\">\n",
       "      <th></th>\n",
       "      <th>Gender</th>\n",
       "      <th>customer_type</th>\n",
       "      <th>age</th>\n",
       "      <th>type_of_travel</th>\n",
       "      <th>customer_class</th>\n",
       "      <th>flight_distance</th>\n",
       "      <th>inflight_wifi_service</th>\n",
       "      <th>departure_arrival_time_convenient</th>\n",
       "      <th>ease_of_online_booking</th>\n",
       "      <th>gate_location</th>\n",
       "      <th>food_and_drink</th>\n",
       "      <th>online_boarding</th>\n",
       "      <th>seat_comfort</th>\n",
       "      <th>inflight_entertainment</th>\n",
       "      <th>onboard_service</th>\n",
       "      <th>leg_room_service</th>\n",
       "      <th>baggage_handling</th>\n",
       "      <th>checkin_service</th>\n",
       "      <th>inflight_service</th>\n",
       "      <th>cleanliness</th>\n",
       "      <th>departure_delay_in_minutes</th>\n",
       "      <th>arrival_delay_in_minutes</th>\n",
       "      <th>satisfaction</th>\n",
       "    </tr>\n",
       "  </thead>\n",
       "  <tbody>\n",
       "    <tr>\n",
       "      <th>0</th>\n",
       "      <td>Male</td>\n",
       "      <td>Loyal Customer</td>\n",
       "      <td>13</td>\n",
       "      <td>Personal Travel</td>\n",
       "      <td>Eco Plus</td>\n",
       "      <td>460</td>\n",
       "      <td>3</td>\n",
       "      <td>4</td>\n",
       "      <td>3</td>\n",
       "      <td>1</td>\n",
       "      <td>5</td>\n",
       "      <td>3</td>\n",
       "      <td>5</td>\n",
       "      <td>5</td>\n",
       "      <td>4</td>\n",
       "      <td>3</td>\n",
       "      <td>4</td>\n",
       "      <td>4</td>\n",
       "      <td>5</td>\n",
       "      <td>5</td>\n",
       "      <td>25</td>\n",
       "      <td>18.0</td>\n",
       "      <td>neutral or dissatisfied</td>\n",
       "    </tr>\n",
       "    <tr>\n",
       "      <th>1</th>\n",
       "      <td>Male</td>\n",
       "      <td>disloyal Customer</td>\n",
       "      <td>25</td>\n",
       "      <td>Business travel</td>\n",
       "      <td>Business</td>\n",
       "      <td>235</td>\n",
       "      <td>3</td>\n",
       "      <td>2</td>\n",
       "      <td>3</td>\n",
       "      <td>3</td>\n",
       "      <td>1</td>\n",
       "      <td>3</td>\n",
       "      <td>1</td>\n",
       "      <td>1</td>\n",
       "      <td>1</td>\n",
       "      <td>5</td>\n",
       "      <td>3</td>\n",
       "      <td>1</td>\n",
       "      <td>4</td>\n",
       "      <td>1</td>\n",
       "      <td>1</td>\n",
       "      <td>6.0</td>\n",
       "      <td>neutral or dissatisfied</td>\n",
       "    </tr>\n",
       "    <tr>\n",
       "      <th>2</th>\n",
       "      <td>Female</td>\n",
       "      <td>Loyal Customer</td>\n",
       "      <td>26</td>\n",
       "      <td>Business travel</td>\n",
       "      <td>Business</td>\n",
       "      <td>1142</td>\n",
       "      <td>2</td>\n",
       "      <td>2</td>\n",
       "      <td>2</td>\n",
       "      <td>2</td>\n",
       "      <td>5</td>\n",
       "      <td>5</td>\n",
       "      <td>5</td>\n",
       "      <td>5</td>\n",
       "      <td>4</td>\n",
       "      <td>3</td>\n",
       "      <td>4</td>\n",
       "      <td>4</td>\n",
       "      <td>4</td>\n",
       "      <td>5</td>\n",
       "      <td>0</td>\n",
       "      <td>0.0</td>\n",
       "      <td>satisfied</td>\n",
       "    </tr>\n",
       "    <tr>\n",
       "      <th>3</th>\n",
       "      <td>Female</td>\n",
       "      <td>Loyal Customer</td>\n",
       "      <td>25</td>\n",
       "      <td>Business travel</td>\n",
       "      <td>Business</td>\n",
       "      <td>562</td>\n",
       "      <td>2</td>\n",
       "      <td>5</td>\n",
       "      <td>5</td>\n",
       "      <td>5</td>\n",
       "      <td>2</td>\n",
       "      <td>2</td>\n",
       "      <td>2</td>\n",
       "      <td>2</td>\n",
       "      <td>2</td>\n",
       "      <td>5</td>\n",
       "      <td>3</td>\n",
       "      <td>1</td>\n",
       "      <td>4</td>\n",
       "      <td>2</td>\n",
       "      <td>11</td>\n",
       "      <td>9.0</td>\n",
       "      <td>neutral or dissatisfied</td>\n",
       "    </tr>\n",
       "    <tr>\n",
       "      <th>4</th>\n",
       "      <td>Male</td>\n",
       "      <td>Loyal Customer</td>\n",
       "      <td>61</td>\n",
       "      <td>Business travel</td>\n",
       "      <td>Business</td>\n",
       "      <td>214</td>\n",
       "      <td>3</td>\n",
       "      <td>3</td>\n",
       "      <td>3</td>\n",
       "      <td>3</td>\n",
       "      <td>4</td>\n",
       "      <td>5</td>\n",
       "      <td>5</td>\n",
       "      <td>3</td>\n",
       "      <td>3</td>\n",
       "      <td>4</td>\n",
       "      <td>4</td>\n",
       "      <td>3</td>\n",
       "      <td>3</td>\n",
       "      <td>3</td>\n",
       "      <td>0</td>\n",
       "      <td>0.0</td>\n",
       "      <td>satisfied</td>\n",
       "    </tr>\n",
       "  </tbody>\n",
       "</table>\n",
       "</div>"
      ],
      "text/plain": [
       "   Gender      customer_type  age   type_of_travel customer_class  \\\n",
       "0    Male     Loyal Customer   13  Personal Travel       Eco Plus   \n",
       "1    Male  disloyal Customer   25  Business travel       Business   \n",
       "2  Female     Loyal Customer   26  Business travel       Business   \n",
       "3  Female     Loyal Customer   25  Business travel       Business   \n",
       "4    Male     Loyal Customer   61  Business travel       Business   \n",
       "\n",
       "   flight_distance  inflight_wifi_service  departure_arrival_time_convenient  \\\n",
       "0              460                      3                                  4   \n",
       "1              235                      3                                  2   \n",
       "2             1142                      2                                  2   \n",
       "3              562                      2                                  5   \n",
       "4              214                      3                                  3   \n",
       "\n",
       "   ease_of_online_booking  gate_location  food_and_drink  online_boarding  \\\n",
       "0                       3              1               5                3   \n",
       "1                       3              3               1                3   \n",
       "2                       2              2               5                5   \n",
       "3                       5              5               2                2   \n",
       "4                       3              3               4                5   \n",
       "\n",
       "   seat_comfort  inflight_entertainment  onboard_service  leg_room_service  \\\n",
       "0             5                       5                4                 3   \n",
       "1             1                       1                1                 5   \n",
       "2             5                       5                4                 3   \n",
       "3             2                       2                2                 5   \n",
       "4             5                       3                3                 4   \n",
       "\n",
       "   baggage_handling  checkin_service  inflight_service  cleanliness  \\\n",
       "0                 4                4                 5            5   \n",
       "1                 3                1                 4            1   \n",
       "2                 4                4                 4            5   \n",
       "3                 3                1                 4            2   \n",
       "4                 4                3                 3            3   \n",
       "\n",
       "   departure_delay_in_minutes  arrival_delay_in_minutes  \\\n",
       "0                          25                      18.0   \n",
       "1                           1                       6.0   \n",
       "2                           0                       0.0   \n",
       "3                          11                       9.0   \n",
       "4                           0                       0.0   \n",
       "\n",
       "              satisfaction  \n",
       "0  neutral or dissatisfied  \n",
       "1  neutral or dissatisfied  \n",
       "2                satisfied  \n",
       "3  neutral or dissatisfied  \n",
       "4                satisfied  "
      ]
     },
     "execution_count": 4,
     "metadata": {},
     "output_type": "execute_result"
    }
   ],
   "source": [
    "df.drop('Unnamed: 0',axis=1,inplace=True)\n",
    "df.head()"
   ]
  },
  {
   "cell_type": "markdown",
   "metadata": {
    "execution": {
     "iopub.execute_input": "2021-10-16T16:48:31.903884Z",
     "iopub.status.busy": "2021-10-16T16:48:31.903454Z",
     "iopub.status.idle": "2021-10-16T16:48:31.919045Z",
     "shell.execute_reply": "2021-10-16T16:48:31.917984Z",
     "shell.execute_reply.started": "2021-10-16T16:48:31.903837Z"
    }
   },
   "source": [
    "### Shape of The Dataset"
   ]
  },
  {
   "cell_type": "code",
   "execution_count": 5,
   "metadata": {
    "execution": {
     "iopub.execute_input": "2021-10-16T16:48:31.903884Z",
     "iopub.status.busy": "2021-10-16T16:48:31.903454Z",
     "iopub.status.idle": "2021-10-16T16:48:31.919045Z",
     "shell.execute_reply": "2021-10-16T16:48:31.917984Z",
     "shell.execute_reply.started": "2021-10-16T16:48:31.903837Z"
    }
   },
   "outputs": [
    {
     "data": {
      "text/plain": [
       "(129880, 23)"
      ]
     },
     "execution_count": 5,
     "metadata": {},
     "output_type": "execute_result"
    }
   ],
   "source": [
    "df.shape "
   ]
  },
  {
   "cell_type": "markdown",
   "metadata": {
    "execution": {
     "iopub.execute_input": "2021-10-16T16:48:31.920934Z",
     "iopub.status.busy": "2021-10-16T16:48:31.920499Z",
     "iopub.status.idle": "2021-10-16T16:48:32.083949Z",
     "shell.execute_reply": "2021-10-16T16:48:32.082764Z",
     "shell.execute_reply.started": "2021-10-16T16:48:31.920888Z"
    }
   },
   "source": [
    "### Info of Dataset"
   ]
  },
  {
   "cell_type": "code",
   "execution_count": 6,
   "metadata": {
    "execution": {
     "iopub.execute_input": "2021-10-16T16:48:31.920934Z",
     "iopub.status.busy": "2021-10-16T16:48:31.920499Z",
     "iopub.status.idle": "2021-10-16T16:48:32.083949Z",
     "shell.execute_reply": "2021-10-16T16:48:32.082764Z",
     "shell.execute_reply.started": "2021-10-16T16:48:31.920888Z"
    }
   },
   "outputs": [
    {
     "name": "stdout",
     "output_type": "stream",
     "text": [
      "<class 'pandas.core.frame.DataFrame'>\n",
      "RangeIndex: 129880 entries, 0 to 129879\n",
      "Data columns (total 23 columns):\n",
      " #   Column                             Non-Null Count   Dtype  \n",
      "---  ------                             --------------   -----  \n",
      " 0   Gender                             129880 non-null  object \n",
      " 1   customer_type                      129880 non-null  object \n",
      " 2   age                                129880 non-null  int64  \n",
      " 3   type_of_travel                     129880 non-null  object \n",
      " 4   customer_class                     129880 non-null  object \n",
      " 5   flight_distance                    129880 non-null  int64  \n",
      " 6   inflight_wifi_service              129880 non-null  int64  \n",
      " 7   departure_arrival_time_convenient  129880 non-null  int64  \n",
      " 8   ease_of_online_booking             129880 non-null  int64  \n",
      " 9   gate_location                      129880 non-null  int64  \n",
      " 10  food_and_drink                     129880 non-null  int64  \n",
      " 11  online_boarding                    129880 non-null  int64  \n",
      " 12  seat_comfort                       129880 non-null  int64  \n",
      " 13  inflight_entertainment             129880 non-null  int64  \n",
      " 14  onboard_service                    129880 non-null  int64  \n",
      " 15  leg_room_service                   129880 non-null  int64  \n",
      " 16  baggage_handling                   129880 non-null  int64  \n",
      " 17  checkin_service                    129880 non-null  int64  \n",
      " 18  inflight_service                   129880 non-null  int64  \n",
      " 19  cleanliness                        129880 non-null  int64  \n",
      " 20  departure_delay_in_minutes         129880 non-null  int64  \n",
      " 21  arrival_delay_in_minutes           129487 non-null  float64\n",
      " 22  satisfaction                       129880 non-null  object \n",
      "dtypes: float64(1), int64(17), object(5)\n",
      "memory usage: 22.8+ MB\n"
     ]
    }
   ],
   "source": [
    "df.info()"
   ]
  },
  {
   "cell_type": "markdown",
   "metadata": {
    "execution": {
     "iopub.execute_input": "2021-10-16T16:48:32.089381Z",
     "iopub.status.busy": "2021-10-16T16:48:32.085574Z",
     "iopub.status.idle": "2021-10-16T16:48:32.297676Z",
     "shell.execute_reply": "2021-10-16T16:48:32.296603Z",
     "shell.execute_reply.started": "2021-10-16T16:48:32.089332Z"
    }
   },
   "source": [
    "### Five Point Summary For The Dataset (Numerical Columns)"
   ]
  },
  {
   "cell_type": "code",
   "execution_count": 7,
   "metadata": {
    "execution": {
     "iopub.execute_input": "2021-10-16T16:48:32.089381Z",
     "iopub.status.busy": "2021-10-16T16:48:32.085574Z",
     "iopub.status.idle": "2021-10-16T16:48:32.297676Z",
     "shell.execute_reply": "2021-10-16T16:48:32.296603Z",
     "shell.execute_reply.started": "2021-10-16T16:48:32.089332Z"
    }
   },
   "outputs": [
    {
     "data": {
      "text/html": [
       "<div>\n",
       "<style scoped>\n",
       "    .dataframe tbody tr th:only-of-type {\n",
       "        vertical-align: middle;\n",
       "    }\n",
       "\n",
       "    .dataframe tbody tr th {\n",
       "        vertical-align: top;\n",
       "    }\n",
       "\n",
       "    .dataframe thead th {\n",
       "        text-align: right;\n",
       "    }\n",
       "</style>\n",
       "<table border=\"1\" class=\"dataframe\">\n",
       "  <thead>\n",
       "    <tr style=\"text-align: right;\">\n",
       "      <th></th>\n",
       "      <th>count</th>\n",
       "      <th>mean</th>\n",
       "      <th>std</th>\n",
       "      <th>min</th>\n",
       "      <th>25%</th>\n",
       "      <th>50%</th>\n",
       "      <th>75%</th>\n",
       "      <th>max</th>\n",
       "    </tr>\n",
       "  </thead>\n",
       "  <tbody>\n",
       "    <tr>\n",
       "      <th>age</th>\n",
       "      <td>129880.0</td>\n",
       "      <td>39.427957</td>\n",
       "      <td>15.119360</td>\n",
       "      <td>7.0</td>\n",
       "      <td>27.0</td>\n",
       "      <td>40.0</td>\n",
       "      <td>51.0</td>\n",
       "      <td>85.0</td>\n",
       "    </tr>\n",
       "    <tr>\n",
       "      <th>flight_distance</th>\n",
       "      <td>129880.0</td>\n",
       "      <td>1190.316392</td>\n",
       "      <td>997.452477</td>\n",
       "      <td>31.0</td>\n",
       "      <td>414.0</td>\n",
       "      <td>844.0</td>\n",
       "      <td>1744.0</td>\n",
       "      <td>4983.0</td>\n",
       "    </tr>\n",
       "    <tr>\n",
       "      <th>inflight_wifi_service</th>\n",
       "      <td>129880.0</td>\n",
       "      <td>2.728696</td>\n",
       "      <td>1.329340</td>\n",
       "      <td>0.0</td>\n",
       "      <td>2.0</td>\n",
       "      <td>3.0</td>\n",
       "      <td>4.0</td>\n",
       "      <td>5.0</td>\n",
       "    </tr>\n",
       "    <tr>\n",
       "      <th>departure_arrival_time_convenient</th>\n",
       "      <td>129880.0</td>\n",
       "      <td>3.057599</td>\n",
       "      <td>1.526741</td>\n",
       "      <td>0.0</td>\n",
       "      <td>2.0</td>\n",
       "      <td>3.0</td>\n",
       "      <td>4.0</td>\n",
       "      <td>5.0</td>\n",
       "    </tr>\n",
       "    <tr>\n",
       "      <th>ease_of_online_booking</th>\n",
       "      <td>129880.0</td>\n",
       "      <td>2.756876</td>\n",
       "      <td>1.401740</td>\n",
       "      <td>0.0</td>\n",
       "      <td>2.0</td>\n",
       "      <td>3.0</td>\n",
       "      <td>4.0</td>\n",
       "      <td>5.0</td>\n",
       "    </tr>\n",
       "    <tr>\n",
       "      <th>gate_location</th>\n",
       "      <td>129880.0</td>\n",
       "      <td>2.976925</td>\n",
       "      <td>1.278520</td>\n",
       "      <td>0.0</td>\n",
       "      <td>2.0</td>\n",
       "      <td>3.0</td>\n",
       "      <td>4.0</td>\n",
       "      <td>5.0</td>\n",
       "    </tr>\n",
       "    <tr>\n",
       "      <th>food_and_drink</th>\n",
       "      <td>129880.0</td>\n",
       "      <td>3.204774</td>\n",
       "      <td>1.329933</td>\n",
       "      <td>0.0</td>\n",
       "      <td>2.0</td>\n",
       "      <td>3.0</td>\n",
       "      <td>4.0</td>\n",
       "      <td>5.0</td>\n",
       "    </tr>\n",
       "    <tr>\n",
       "      <th>online_boarding</th>\n",
       "      <td>129880.0</td>\n",
       "      <td>3.252633</td>\n",
       "      <td>1.350719</td>\n",
       "      <td>0.0</td>\n",
       "      <td>2.0</td>\n",
       "      <td>3.0</td>\n",
       "      <td>4.0</td>\n",
       "      <td>5.0</td>\n",
       "    </tr>\n",
       "    <tr>\n",
       "      <th>seat_comfort</th>\n",
       "      <td>129880.0</td>\n",
       "      <td>3.441361</td>\n",
       "      <td>1.319289</td>\n",
       "      <td>0.0</td>\n",
       "      <td>2.0</td>\n",
       "      <td>4.0</td>\n",
       "      <td>5.0</td>\n",
       "      <td>5.0</td>\n",
       "    </tr>\n",
       "    <tr>\n",
       "      <th>inflight_entertainment</th>\n",
       "      <td>129880.0</td>\n",
       "      <td>3.358077</td>\n",
       "      <td>1.334049</td>\n",
       "      <td>0.0</td>\n",
       "      <td>2.0</td>\n",
       "      <td>4.0</td>\n",
       "      <td>4.0</td>\n",
       "      <td>5.0</td>\n",
       "    </tr>\n",
       "    <tr>\n",
       "      <th>onboard_service</th>\n",
       "      <td>129880.0</td>\n",
       "      <td>3.383023</td>\n",
       "      <td>1.287099</td>\n",
       "      <td>0.0</td>\n",
       "      <td>2.0</td>\n",
       "      <td>4.0</td>\n",
       "      <td>4.0</td>\n",
       "      <td>5.0</td>\n",
       "    </tr>\n",
       "    <tr>\n",
       "      <th>leg_room_service</th>\n",
       "      <td>129880.0</td>\n",
       "      <td>3.350878</td>\n",
       "      <td>1.316252</td>\n",
       "      <td>0.0</td>\n",
       "      <td>2.0</td>\n",
       "      <td>4.0</td>\n",
       "      <td>4.0</td>\n",
       "      <td>5.0</td>\n",
       "    </tr>\n",
       "    <tr>\n",
       "      <th>baggage_handling</th>\n",
       "      <td>129880.0</td>\n",
       "      <td>3.632114</td>\n",
       "      <td>1.180025</td>\n",
       "      <td>1.0</td>\n",
       "      <td>3.0</td>\n",
       "      <td>4.0</td>\n",
       "      <td>5.0</td>\n",
       "      <td>5.0</td>\n",
       "    </tr>\n",
       "    <tr>\n",
       "      <th>checkin_service</th>\n",
       "      <td>129880.0</td>\n",
       "      <td>3.306267</td>\n",
       "      <td>1.266185</td>\n",
       "      <td>0.0</td>\n",
       "      <td>3.0</td>\n",
       "      <td>3.0</td>\n",
       "      <td>4.0</td>\n",
       "      <td>5.0</td>\n",
       "    </tr>\n",
       "    <tr>\n",
       "      <th>inflight_service</th>\n",
       "      <td>129880.0</td>\n",
       "      <td>3.642193</td>\n",
       "      <td>1.176669</td>\n",
       "      <td>0.0</td>\n",
       "      <td>3.0</td>\n",
       "      <td>4.0</td>\n",
       "      <td>5.0</td>\n",
       "      <td>5.0</td>\n",
       "    </tr>\n",
       "    <tr>\n",
       "      <th>cleanliness</th>\n",
       "      <td>129880.0</td>\n",
       "      <td>3.286326</td>\n",
       "      <td>1.313682</td>\n",
       "      <td>0.0</td>\n",
       "      <td>2.0</td>\n",
       "      <td>3.0</td>\n",
       "      <td>4.0</td>\n",
       "      <td>5.0</td>\n",
       "    </tr>\n",
       "    <tr>\n",
       "      <th>departure_delay_in_minutes</th>\n",
       "      <td>129880.0</td>\n",
       "      <td>14.713713</td>\n",
       "      <td>38.071126</td>\n",
       "      <td>0.0</td>\n",
       "      <td>0.0</td>\n",
       "      <td>0.0</td>\n",
       "      <td>12.0</td>\n",
       "      <td>1592.0</td>\n",
       "    </tr>\n",
       "    <tr>\n",
       "      <th>arrival_delay_in_minutes</th>\n",
       "      <td>129487.0</td>\n",
       "      <td>15.091129</td>\n",
       "      <td>38.465650</td>\n",
       "      <td>0.0</td>\n",
       "      <td>0.0</td>\n",
       "      <td>0.0</td>\n",
       "      <td>13.0</td>\n",
       "      <td>1584.0</td>\n",
       "    </tr>\n",
       "  </tbody>\n",
       "</table>\n",
       "</div>"
      ],
      "text/plain": [
       "                                      count         mean         std   min  \\\n",
       "age                                129880.0    39.427957   15.119360   7.0   \n",
       "flight_distance                    129880.0  1190.316392  997.452477  31.0   \n",
       "inflight_wifi_service              129880.0     2.728696    1.329340   0.0   \n",
       "departure_arrival_time_convenient  129880.0     3.057599    1.526741   0.0   \n",
       "ease_of_online_booking             129880.0     2.756876    1.401740   0.0   \n",
       "gate_location                      129880.0     2.976925    1.278520   0.0   \n",
       "food_and_drink                     129880.0     3.204774    1.329933   0.0   \n",
       "online_boarding                    129880.0     3.252633    1.350719   0.0   \n",
       "seat_comfort                       129880.0     3.441361    1.319289   0.0   \n",
       "inflight_entertainment             129880.0     3.358077    1.334049   0.0   \n",
       "onboard_service                    129880.0     3.383023    1.287099   0.0   \n",
       "leg_room_service                   129880.0     3.350878    1.316252   0.0   \n",
       "baggage_handling                   129880.0     3.632114    1.180025   1.0   \n",
       "checkin_service                    129880.0     3.306267    1.266185   0.0   \n",
       "inflight_service                   129880.0     3.642193    1.176669   0.0   \n",
       "cleanliness                        129880.0     3.286326    1.313682   0.0   \n",
       "departure_delay_in_minutes         129880.0    14.713713   38.071126   0.0   \n",
       "arrival_delay_in_minutes           129487.0    15.091129   38.465650   0.0   \n",
       "\n",
       "                                     25%    50%     75%     max  \n",
       "age                                 27.0   40.0    51.0    85.0  \n",
       "flight_distance                    414.0  844.0  1744.0  4983.0  \n",
       "inflight_wifi_service                2.0    3.0     4.0     5.0  \n",
       "departure_arrival_time_convenient    2.0    3.0     4.0     5.0  \n",
       "ease_of_online_booking               2.0    3.0     4.0     5.0  \n",
       "gate_location                        2.0    3.0     4.0     5.0  \n",
       "food_and_drink                       2.0    3.0     4.0     5.0  \n",
       "online_boarding                      2.0    3.0     4.0     5.0  \n",
       "seat_comfort                         2.0    4.0     5.0     5.0  \n",
       "inflight_entertainment               2.0    4.0     4.0     5.0  \n",
       "onboard_service                      2.0    4.0     4.0     5.0  \n",
       "leg_room_service                     2.0    4.0     4.0     5.0  \n",
       "baggage_handling                     3.0    4.0     5.0     5.0  \n",
       "checkin_service                      3.0    3.0     4.0     5.0  \n",
       "inflight_service                     3.0    4.0     5.0     5.0  \n",
       "cleanliness                          2.0    3.0     4.0     5.0  \n",
       "departure_delay_in_minutes           0.0    0.0    12.0  1592.0  \n",
       "arrival_delay_in_minutes             0.0    0.0    13.0  1584.0  "
      ]
     },
     "execution_count": 7,
     "metadata": {},
     "output_type": "execute_result"
    }
   ],
   "source": [
    "df.describe(include=np.number).T"
   ]
  },
  {
   "cell_type": "markdown",
   "metadata": {
    "execution": {
     "iopub.execute_input": "2021-10-16T16:48:32.303161Z",
     "iopub.status.busy": "2021-10-16T16:48:32.302623Z",
     "iopub.status.idle": "2021-10-16T16:48:32.801744Z",
     "shell.execute_reply": "2021-10-16T16:48:32.800629Z",
     "shell.execute_reply.started": "2021-10-16T16:48:32.303114Z"
    }
   },
   "source": [
    "### Checking For Null Values"
   ]
  },
  {
   "cell_type": "code",
   "execution_count": 8,
   "metadata": {
    "execution": {
     "iopub.execute_input": "2021-10-16T16:48:32.303161Z",
     "iopub.status.busy": "2021-10-16T16:48:32.302623Z",
     "iopub.status.idle": "2021-10-16T16:48:32.801744Z",
     "shell.execute_reply": "2021-10-16T16:48:32.800629Z",
     "shell.execute_reply.started": "2021-10-16T16:48:32.303114Z"
    }
   },
   "outputs": [
    {
     "data": {
      "text/html": [
       "<div>\n",
       "<style scoped>\n",
       "    .dataframe tbody tr th:only-of-type {\n",
       "        vertical-align: middle;\n",
       "    }\n",
       "\n",
       "    .dataframe tbody tr th {\n",
       "        vertical-align: top;\n",
       "    }\n",
       "\n",
       "    .dataframe thead th {\n",
       "        text-align: right;\n",
       "    }\n",
       "</style>\n",
       "<table border=\"1\" class=\"dataframe\">\n",
       "  <thead>\n",
       "    <tr style=\"text-align: right;\">\n",
       "      <th></th>\n",
       "      <th>null_value_sum</th>\n",
       "      <th>null_value_percentage</th>\n",
       "    </tr>\n",
       "  </thead>\n",
       "  <tbody>\n",
       "    <tr>\n",
       "      <th>Gender</th>\n",
       "      <td>0</td>\n",
       "      <td>0.000000</td>\n",
       "    </tr>\n",
       "    <tr>\n",
       "      <th>customer_type</th>\n",
       "      <td>0</td>\n",
       "      <td>0.000000</td>\n",
       "    </tr>\n",
       "    <tr>\n",
       "      <th>age</th>\n",
       "      <td>0</td>\n",
       "      <td>0.000000</td>\n",
       "    </tr>\n",
       "    <tr>\n",
       "      <th>type_of_travel</th>\n",
       "      <td>0</td>\n",
       "      <td>0.000000</td>\n",
       "    </tr>\n",
       "    <tr>\n",
       "      <th>customer_class</th>\n",
       "      <td>0</td>\n",
       "      <td>0.000000</td>\n",
       "    </tr>\n",
       "    <tr>\n",
       "      <th>flight_distance</th>\n",
       "      <td>0</td>\n",
       "      <td>0.000000</td>\n",
       "    </tr>\n",
       "    <tr>\n",
       "      <th>inflight_wifi_service</th>\n",
       "      <td>0</td>\n",
       "      <td>0.000000</td>\n",
       "    </tr>\n",
       "    <tr>\n",
       "      <th>departure_arrival_time_convenient</th>\n",
       "      <td>0</td>\n",
       "      <td>0.000000</td>\n",
       "    </tr>\n",
       "    <tr>\n",
       "      <th>ease_of_online_booking</th>\n",
       "      <td>0</td>\n",
       "      <td>0.000000</td>\n",
       "    </tr>\n",
       "    <tr>\n",
       "      <th>gate_location</th>\n",
       "      <td>0</td>\n",
       "      <td>0.000000</td>\n",
       "    </tr>\n",
       "    <tr>\n",
       "      <th>food_and_drink</th>\n",
       "      <td>0</td>\n",
       "      <td>0.000000</td>\n",
       "    </tr>\n",
       "    <tr>\n",
       "      <th>online_boarding</th>\n",
       "      <td>0</td>\n",
       "      <td>0.000000</td>\n",
       "    </tr>\n",
       "    <tr>\n",
       "      <th>seat_comfort</th>\n",
       "      <td>0</td>\n",
       "      <td>0.000000</td>\n",
       "    </tr>\n",
       "    <tr>\n",
       "      <th>inflight_entertainment</th>\n",
       "      <td>0</td>\n",
       "      <td>0.000000</td>\n",
       "    </tr>\n",
       "    <tr>\n",
       "      <th>onboard_service</th>\n",
       "      <td>0</td>\n",
       "      <td>0.000000</td>\n",
       "    </tr>\n",
       "    <tr>\n",
       "      <th>leg_room_service</th>\n",
       "      <td>0</td>\n",
       "      <td>0.000000</td>\n",
       "    </tr>\n",
       "    <tr>\n",
       "      <th>baggage_handling</th>\n",
       "      <td>0</td>\n",
       "      <td>0.000000</td>\n",
       "    </tr>\n",
       "    <tr>\n",
       "      <th>checkin_service</th>\n",
       "      <td>0</td>\n",
       "      <td>0.000000</td>\n",
       "    </tr>\n",
       "    <tr>\n",
       "      <th>inflight_service</th>\n",
       "      <td>0</td>\n",
       "      <td>0.000000</td>\n",
       "    </tr>\n",
       "    <tr>\n",
       "      <th>cleanliness</th>\n",
       "      <td>0</td>\n",
       "      <td>0.000000</td>\n",
       "    </tr>\n",
       "    <tr>\n",
       "      <th>departure_delay_in_minutes</th>\n",
       "      <td>0</td>\n",
       "      <td>0.000000</td>\n",
       "    </tr>\n",
       "    <tr>\n",
       "      <th>arrival_delay_in_minutes</th>\n",
       "      <td>393</td>\n",
       "      <td>0.302587</td>\n",
       "    </tr>\n",
       "    <tr>\n",
       "      <th>satisfaction</th>\n",
       "      <td>0</td>\n",
       "      <td>0.000000</td>\n",
       "    </tr>\n",
       "  </tbody>\n",
       "</table>\n",
       "</div>"
      ],
      "text/plain": [
       "                                   null_value_sum  null_value_percentage\n",
       "Gender                                          0               0.000000\n",
       "customer_type                                   0               0.000000\n",
       "age                                             0               0.000000\n",
       "type_of_travel                                  0               0.000000\n",
       "customer_class                                  0               0.000000\n",
       "flight_distance                                 0               0.000000\n",
       "inflight_wifi_service                           0               0.000000\n",
       "departure_arrival_time_convenient               0               0.000000\n",
       "ease_of_online_booking                          0               0.000000\n",
       "gate_location                                   0               0.000000\n",
       "food_and_drink                                  0               0.000000\n",
       "online_boarding                                 0               0.000000\n",
       "seat_comfort                                    0               0.000000\n",
       "inflight_entertainment                          0               0.000000\n",
       "onboard_service                                 0               0.000000\n",
       "leg_room_service                                0               0.000000\n",
       "baggage_handling                                0               0.000000\n",
       "checkin_service                                 0               0.000000\n",
       "inflight_service                                0               0.000000\n",
       "cleanliness                                     0               0.000000\n",
       "departure_delay_in_minutes                      0               0.000000\n",
       "arrival_delay_in_minutes                      393               0.302587\n",
       "satisfaction                                    0               0.000000"
      ]
     },
     "execution_count": 8,
     "metadata": {},
     "output_type": "execute_result"
    }
   ],
   "source": [
    "x=df.isna().sum()\n",
    "y=df.isna().sum()/len(df)*100\n",
    "null_c=pd.concat([x,y],axis=1,keys=['null_value_sum','null_value_percentage'])\n",
    "null_c"
   ]
  },
  {
   "cell_type": "markdown",
   "metadata": {
    "execution": {
     "iopub.execute_input": "2021-10-16T16:48:32.803584Z",
     "iopub.status.busy": "2021-10-16T16:48:32.803251Z",
     "iopub.status.idle": "2021-10-16T16:48:32.844961Z",
     "shell.execute_reply": "2021-10-16T16:48:32.839570Z",
     "shell.execute_reply.started": "2021-10-16T16:48:32.803541Z"
    }
   },
   "source": [
    "### Missing Value Treatment"
   ]
  },
  {
   "cell_type": "code",
   "execution_count": 9,
   "metadata": {
    "execution": {
     "iopub.execute_input": "2021-10-16T16:48:32.803584Z",
     "iopub.status.busy": "2021-10-16T16:48:32.803251Z",
     "iopub.status.idle": "2021-10-16T16:48:32.844961Z",
     "shell.execute_reply": "2021-10-16T16:48:32.839570Z",
     "shell.execute_reply.started": "2021-10-16T16:48:32.803541Z"
    }
   },
   "outputs": [
    {
     "data": {
      "text/html": [
       "<div>\n",
       "<style scoped>\n",
       "    .dataframe tbody tr th:only-of-type {\n",
       "        vertical-align: middle;\n",
       "    }\n",
       "\n",
       "    .dataframe tbody tr th {\n",
       "        vertical-align: top;\n",
       "    }\n",
       "\n",
       "    .dataframe thead th {\n",
       "        text-align: right;\n",
       "    }\n",
       "</style>\n",
       "<table border=\"1\" class=\"dataframe\">\n",
       "  <thead>\n",
       "    <tr style=\"text-align: right;\">\n",
       "      <th></th>\n",
       "      <th>null_value_sum</th>\n",
       "      <th>null_value_percentage</th>\n",
       "    </tr>\n",
       "  </thead>\n",
       "  <tbody>\n",
       "    <tr>\n",
       "      <th>arrival_delay_in_minutes</th>\n",
       "      <td>393</td>\n",
       "      <td>0.302587</td>\n",
       "    </tr>\n",
       "  </tbody>\n",
       "</table>\n",
       "</div>"
      ],
      "text/plain": [
       "                          null_value_sum  null_value_percentage\n",
       "arrival_delay_in_minutes             393               0.302587"
      ]
     },
     "execution_count": 9,
     "metadata": {},
     "output_type": "execute_result"
    }
   ],
   "source": [
    "null_c[null_c['null_value_percentage']>0]"
   ]
  },
  {
   "cell_type": "markdown",
   "metadata": {},
   "source": [
    "there is only one feature in the dataset which contains null values. And i.e., arrival_delay_in_minutes. Now we will check for the distribution of the arrival_delay_in_minutes feature."
   ]
  },
  {
   "cell_type": "code",
   "execution_count": 10,
   "metadata": {
    "execution": {
     "iopub.execute_input": "2021-10-16T16:48:32.847002Z",
     "iopub.status.busy": "2021-10-16T16:48:32.846663Z",
     "iopub.status.idle": "2021-10-16T16:48:35.230617Z",
     "shell.execute_reply": "2021-10-16T16:48:35.229564Z",
     "shell.execute_reply.started": "2021-10-16T16:48:32.846958Z"
    }
   },
   "outputs": [
    {
     "data": {
      "image/png": "[encoded data removed]",
      "text/plain": [
       "<Figure size 1296x360 with 1 Axes>"
      ]
     },
     "metadata": {
      "needs_background": "light"
     },
     "output_type": "display_data"
    }
   ],
   "source": [
    "plt.figure(figsize=(18,5))\n",
    "sns.distplot(df['arrival_delay_in_minutes'])\n",
    "plt.show()"
   ]
  },
  {
   "cell_type": "markdown",
   "metadata": {},
   "source": [
    "The distribution of arrival_delay_in_minutes appear to be right skewed. Therfore we cant go ahead with mean imputation as it will be impacted through outliers.\n",
    "Now we will check for the median value i.e., positional centre of the data."
   ]
  },
  {
   "cell_type": "code",
   "execution_count": 11,
   "metadata": {
    "execution": {
     "iopub.execute_input": "2021-10-16T16:48:35.238843Z",
     "iopub.status.busy": "2021-10-16T16:48:35.236123Z",
     "iopub.status.idle": "2021-10-16T16:48:35.262835Z",
     "shell.execute_reply": "2021-10-16T16:48:35.261816Z",
     "shell.execute_reply.started": "2021-10-16T16:48:35.238786Z"
    }
   },
   "outputs": [
    {
     "data": {
      "text/plain": [
       "0.0"
      ]
     },
     "execution_count": 11,
     "metadata": {},
     "output_type": "execute_result"
    }
   ],
   "source": [
    "df['arrival_delay_in_minutes'].median()"
   ]
  },
  {
   "cell_type": "markdown",
   "metadata": {},
   "source": [
    "As we see that the median value for 'arrival_delay_in_minutes' feature is 0. We can't go ahead with median imputation too. As we think logically imputing null values with 0 for this feature doesn't have any solid proof.\n",
    "\n",
    "So now we will go ahead and use the KNN Imputer to impute the null values for the feature 'arrival_delay_in_minutes'."
   ]
  },
  {
   "cell_type": "markdown",
   "metadata": {},
   "source": [
    "### KNN Imputation"
   ]
  },
  {
   "cell_type": "code",
   "execution_count": 12,
   "metadata": {
    "execution": {
     "iopub.execute_input": "2021-10-16T16:48:35.264460Z",
     "iopub.status.busy": "2021-10-16T16:48:35.264110Z",
     "iopub.status.idle": "2021-10-16T16:48:35.532637Z",
     "shell.execute_reply": "2021-10-16T16:48:35.531403Z",
     "shell.execute_reply.started": "2021-10-16T16:48:35.264394Z"
    }
   },
   "outputs": [
    {
     "data": {
      "text/html": [
       "<div>\n",
       "<style scoped>\n",
       "    .dataframe tbody tr th:only-of-type {\n",
       "        vertical-align: middle;\n",
       "    }\n",
       "\n",
       "    .dataframe tbody tr th {\n",
       "        vertical-align: top;\n",
       "    }\n",
       "\n",
       "    .dataframe thead th {\n",
       "        text-align: right;\n",
       "    }\n",
       "</style>\n",
       "<table border=\"1\" class=\"dataframe\">\n",
       "  <thead>\n",
       "    <tr style=\"text-align: right;\">\n",
       "      <th></th>\n",
       "      <th>age</th>\n",
       "      <th>flight_distance</th>\n",
       "      <th>inflight_wifi_service</th>\n",
       "      <th>departure_arrival_time_convenient</th>\n",
       "      <th>ease_of_online_booking</th>\n",
       "      <th>gate_location</th>\n",
       "      <th>food_and_drink</th>\n",
       "      <th>online_boarding</th>\n",
       "      <th>seat_comfort</th>\n",
       "      <th>inflight_entertainment</th>\n",
       "      <th>onboard_service</th>\n",
       "      <th>leg_room_service</th>\n",
       "      <th>baggage_handling</th>\n",
       "      <th>checkin_service</th>\n",
       "      <th>inflight_service</th>\n",
       "      <th>cleanliness</th>\n",
       "      <th>departure_delay_in_minutes</th>\n",
       "      <th>arrival_delay_in_minutes</th>\n",
       "      <th>Gender_Male</th>\n",
       "      <th>customer_type_disloyal Customer</th>\n",
       "      <th>type_of_travel_Personal Travel</th>\n",
       "      <th>customer_class_Eco</th>\n",
       "      <th>customer_class_Eco Plus</th>\n",
       "    </tr>\n",
       "  </thead>\n",
       "  <tbody>\n",
       "    <tr>\n",
       "      <th>0</th>\n",
       "      <td>13</td>\n",
       "      <td>460</td>\n",
       "      <td>3</td>\n",
       "      <td>4</td>\n",
       "      <td>3</td>\n",
       "      <td>1</td>\n",
       "      <td>5</td>\n",
       "      <td>3</td>\n",
       "      <td>5</td>\n",
       "      <td>5</td>\n",
       "      <td>4</td>\n",
       "      <td>3</td>\n",
       "      <td>4</td>\n",
       "      <td>4</td>\n",
       "      <td>5</td>\n",
       "      <td>5</td>\n",
       "      <td>25</td>\n",
       "      <td>18.0</td>\n",
       "      <td>1</td>\n",
       "      <td>0</td>\n",
       "      <td>1</td>\n",
       "      <td>0</td>\n",
       "      <td>1</td>\n",
       "    </tr>\n",
       "    <tr>\n",
       "      <th>1</th>\n",
       "      <td>25</td>\n",
       "      <td>235</td>\n",
       "      <td>3</td>\n",
       "      <td>2</td>\n",
       "      <td>3</td>\n",
       "      <td>3</td>\n",
       "      <td>1</td>\n",
       "      <td>3</td>\n",
       "      <td>1</td>\n",
       "      <td>1</td>\n",
       "      <td>1</td>\n",
       "      <td>5</td>\n",
       "      <td>3</td>\n",
       "      <td>1</td>\n",
       "      <td>4</td>\n",
       "      <td>1</td>\n",
       "      <td>1</td>\n",
       "      <td>6.0</td>\n",
       "      <td>1</td>\n",
       "      <td>1</td>\n",
       "      <td>0</td>\n",
       "      <td>0</td>\n",
       "      <td>0</td>\n",
       "    </tr>\n",
       "    <tr>\n",
       "      <th>2</th>\n",
       "      <td>26</td>\n",
       "      <td>1142</td>\n",
       "      <td>2</td>\n",
       "      <td>2</td>\n",
       "      <td>2</td>\n",
       "      <td>2</td>\n",
       "      <td>5</td>\n",
       "      <td>5</td>\n",
       "      <td>5</td>\n",
       "      <td>5</td>\n",
       "      <td>4</td>\n",
       "      <td>3</td>\n",
       "      <td>4</td>\n",
       "      <td>4</td>\n",
       "      <td>4</td>\n",
       "      <td>5</td>\n",
       "      <td>0</td>\n",
       "      <td>0.0</td>\n",
       "      <td>0</td>\n",
       "      <td>0</td>\n",
       "      <td>0</td>\n",
       "      <td>0</td>\n",
       "      <td>0</td>\n",
       "    </tr>\n",
       "    <tr>\n",
       "      <th>3</th>\n",
       "      <td>25</td>\n",
       "      <td>562</td>\n",
       "      <td>2</td>\n",
       "      <td>5</td>\n",
       "      <td>5</td>\n",
       "      <td>5</td>\n",
       "      <td>2</td>\n",
       "      <td>2</td>\n",
       "      <td>2</td>\n",
       "      <td>2</td>\n",
       "      <td>2</td>\n",
       "      <td>5</td>\n",
       "      <td>3</td>\n",
       "      <td>1</td>\n",
       "      <td>4</td>\n",
       "      <td>2</td>\n",
       "      <td>11</td>\n",
       "      <td>9.0</td>\n",
       "      <td>0</td>\n",
       "      <td>0</td>\n",
       "      <td>0</td>\n",
       "      <td>0</td>\n",
       "      <td>0</td>\n",
       "    </tr>\n",
       "    <tr>\n",
       "      <th>4</th>\n",
       "      <td>61</td>\n",
       "      <td>214</td>\n",
       "      <td>3</td>\n",
       "      <td>3</td>\n",
       "      <td>3</td>\n",
       "      <td>3</td>\n",
       "      <td>4</td>\n",
       "      <td>5</td>\n",
       "      <td>5</td>\n",
       "      <td>3</td>\n",
       "      <td>3</td>\n",
       "      <td>4</td>\n",
       "      <td>4</td>\n",
       "      <td>3</td>\n",
       "      <td>3</td>\n",
       "      <td>3</td>\n",
       "      <td>0</td>\n",
       "      <td>0.0</td>\n",
       "      <td>1</td>\n",
       "      <td>0</td>\n",
       "      <td>0</td>\n",
       "      <td>0</td>\n",
       "      <td>0</td>\n",
       "    </tr>\n",
       "  </tbody>\n",
       "</table>\n",
       "</div>"
      ],
      "text/plain": [
       "   age  flight_distance  inflight_wifi_service  \\\n",
       "0   13              460                      3   \n",
       "1   25              235                      3   \n",
       "2   26             1142                      2   \n",
       "3   25              562                      2   \n",
       "4   61              214                      3   \n",
       "\n",
       "   departure_arrival_time_convenient  ease_of_online_booking  gate_location  \\\n",
       "0                                  4                       3              1   \n",
       "1                                  2                       3              3   \n",
       "2                                  2                       2              2   \n",
       "3                                  5                       5              5   \n",
       "4                                  3                       3              3   \n",
       "\n",
       "   food_and_drink  online_boarding  seat_comfort  inflight_entertainment  \\\n",
       "0               5                3             5                       5   \n",
       "1               1                3             1                       1   \n",
       "2               5                5             5                       5   \n",
       "3               2                2             2                       2   \n",
       "4               4                5             5                       3   \n",
       "\n",
       "   onboard_service  leg_room_service  baggage_handling  checkin_service  \\\n",
       "0                4                 3                 4                4   \n",
       "1                1                 5                 3                1   \n",
       "2                4                 3                 4                4   \n",
       "3                2                 5                 3                1   \n",
       "4                3                 4                 4                3   \n",
       "\n",
       "   inflight_service  cleanliness  departure_delay_in_minutes  \\\n",
       "0                 5            5                          25   \n",
       "1                 4            1                           1   \n",
       "2                 4            5                           0   \n",
       "3                 4            2                          11   \n",
       "4                 3            3                           0   \n",
       "\n",
       "   arrival_delay_in_minutes  Gender_Male  customer_type_disloyal Customer  \\\n",
       "0                      18.0            1                                0   \n",
       "1                       6.0            1                                1   \n",
       "2                       0.0            0                                0   \n",
       "3                       9.0            0                                0   \n",
       "4                       0.0            1                                0   \n",
       "\n",
       "   type_of_travel_Personal Travel  customer_class_Eco  customer_class_Eco Plus  \n",
       "0                               1                   0                        1  \n",
       "1                               0                   0                        0  \n",
       "2                               0                   0                        0  \n",
       "3                               0                   0                        0  \n",
       "4                               0                   0                        0  "
      ]
     },
     "execution_count": 12,
     "metadata": {},
     "output_type": "execute_result"
    }
   ],
   "source": [
    "from sklearn.impute import KNNImputer\n",
    "knn_imp=KNNImputer()\n",
    "\n",
    "cat_cols=df.drop('satisfaction',axis=1).select_dtypes(object)\n",
    "con_cols=df.select_dtypes(np.number)\n",
    "X=pd.concat([con_cols,pd.get_dummies(cat_cols,drop_first=True)],axis=1)\n",
    "X.head()"
   ]
  },
  {
   "cell_type": "code",
   "execution_count": 13,
   "metadata": {
    "execution": {
     "iopub.execute_input": "2021-10-16T16:48:35.534716Z",
     "iopub.status.busy": "2021-10-16T16:48:35.534179Z",
     "iopub.status.idle": "2021-10-16T16:48:44.814062Z",
     "shell.execute_reply": "2021-10-16T16:48:44.813249Z",
     "shell.execute_reply.started": "2021-10-16T16:48:35.534670Z"
    }
   },
   "outputs": [],
   "source": [
    "df1=pd.DataFrame(knn_imp.fit_transform(X,X['arrival_delay_in_minutes']),columns=X.columns)"
   ]
  },
  {
   "cell_type": "code",
   "execution_count": 14,
   "metadata": {
    "execution": {
     "iopub.execute_input": "2021-10-16T16:48:44.824322Z",
     "iopub.status.busy": "2021-10-16T16:48:44.821763Z",
     "iopub.status.idle": "2021-10-16T16:48:44.856637Z",
     "shell.execute_reply": "2021-10-16T16:48:44.855598Z",
     "shell.execute_reply.started": "2021-10-16T16:48:44.824257Z"
    }
   },
   "outputs": [
    {
     "data": {
      "text/plain": [
       "age                                  0\n",
       "flight_distance                      0\n",
       "inflight_wifi_service                0\n",
       "departure_arrival_time_convenient    0\n",
       "ease_of_online_booking               0\n",
       "gate_location                        0\n",
       "food_and_drink                       0\n",
       "online_boarding                      0\n",
       "seat_comfort                         0\n",
       "inflight_entertainment               0\n",
       "onboard_service                      0\n",
       "leg_room_service                     0\n",
       "baggage_handling                     0\n",
       "checkin_service                      0\n",
       "inflight_service                     0\n",
       "cleanliness                          0\n",
       "departure_delay_in_minutes           0\n",
       "arrival_delay_in_minutes             0\n",
       "Gender_Male                          0\n",
       "customer_type_disloyal Customer      0\n",
       "type_of_travel_Personal Travel       0\n",
       "customer_class_Eco                   0\n",
       "customer_class_Eco Plus              0\n",
       "dtype: int64"
      ]
     },
     "execution_count": 14,
     "metadata": {},
     "output_type": "execute_result"
    }
   ],
   "source": [
    "df1.isna().sum()"
   ]
  },
  {
   "cell_type": "code",
   "execution_count": 15,
   "metadata": {
    "execution": {
     "iopub.execute_input": "2021-10-16T16:48:44.864232Z",
     "iopub.status.busy": "2021-10-16T16:48:44.861797Z",
     "iopub.status.idle": "2021-10-16T16:48:44.910633Z",
     "shell.execute_reply": "2021-10-16T16:48:44.909599Z",
     "shell.execute_reply.started": "2021-10-16T16:48:44.864175Z"
    }
   },
   "outputs": [],
   "source": [
    "cmp=pd.concat([df['departure_delay_in_minutes'],df['arrival_delay_in_minutes'],df1['arrival_delay_in_minutes']],axis=1)"
   ]
  },
  {
   "cell_type": "code",
   "execution_count": 16,
   "metadata": {
    "execution": {
     "iopub.execute_input": "2021-10-16T16:48:44.918258Z",
     "iopub.status.busy": "2021-10-16T16:48:44.915848Z",
     "iopub.status.idle": "2021-10-16T16:48:45.122671Z",
     "shell.execute_reply": "2021-10-16T16:48:45.121604Z",
     "shell.execute_reply.started": "2021-10-16T16:48:44.918205Z"
    }
   },
   "outputs": [
    {
     "data": {
      "text/plain": [
       "Gender                                 0\n",
       "customer_type                          0\n",
       "age                                    0\n",
       "type_of_travel                         0\n",
       "customer_class                         0\n",
       "flight_distance                        0\n",
       "inflight_wifi_service                  0\n",
       "departure_arrival_time_convenient      0\n",
       "ease_of_online_booking                 0\n",
       "gate_location                          0\n",
       "food_and_drink                         0\n",
       "online_boarding                        0\n",
       "seat_comfort                           0\n",
       "inflight_entertainment                 0\n",
       "onboard_service                        0\n",
       "leg_room_service                       0\n",
       "baggage_handling                       0\n",
       "checkin_service                        0\n",
       "inflight_service                       0\n",
       "cleanliness                            0\n",
       "departure_delay_in_minutes             0\n",
       "arrival_delay_in_minutes             393\n",
       "satisfaction                           0\n",
       "dtype: int64"
      ]
     },
     "execution_count": 16,
     "metadata": {},
     "output_type": "execute_result"
    }
   ],
   "source": [
    "df.isna().sum()"
   ]
  },
  {
   "cell_type": "code",
   "execution_count": 17,
   "metadata": {
    "execution": {
     "iopub.execute_input": "2021-10-16T16:48:45.128476Z",
     "iopub.status.busy": "2021-10-16T16:48:45.127925Z",
     "iopub.status.idle": "2021-10-16T16:48:45.155699Z",
     "shell.execute_reply": "2021-10-16T16:48:45.154704Z",
     "shell.execute_reply.started": "2021-10-16T16:48:45.128411Z"
    }
   },
   "outputs": [
    {
     "data": {
      "text/plain": [
       "age                                  0\n",
       "flight_distance                      0\n",
       "inflight_wifi_service                0\n",
       "departure_arrival_time_convenient    0\n",
       "ease_of_online_booking               0\n",
       "gate_location                        0\n",
       "food_and_drink                       0\n",
       "online_boarding                      0\n",
       "seat_comfort                         0\n",
       "inflight_entertainment               0\n",
       "onboard_service                      0\n",
       "leg_room_service                     0\n",
       "baggage_handling                     0\n",
       "checkin_service                      0\n",
       "inflight_service                     0\n",
       "cleanliness                          0\n",
       "departure_delay_in_minutes           0\n",
       "arrival_delay_in_minutes             0\n",
       "Gender_Male                          0\n",
       "customer_type_disloyal Customer      0\n",
       "type_of_travel_Personal Travel       0\n",
       "customer_class_Eco                   0\n",
       "customer_class_Eco Plus              0\n",
       "dtype: int64"
      ]
     },
     "execution_count": 17,
     "metadata": {},
     "output_type": "execute_result"
    }
   ],
   "source": [
    "df1.isna().sum()"
   ]
  },
  {
   "cell_type": "code",
   "execution_count": 18,
   "metadata": {
    "execution": {
     "iopub.execute_input": "2021-10-16T16:48:45.157197Z",
     "iopub.status.busy": "2021-10-16T16:48:45.156912Z",
     "iopub.status.idle": "2021-10-16T16:48:45.668167Z",
     "shell.execute_reply": "2021-10-16T16:48:45.667008Z",
     "shell.execute_reply.started": "2021-10-16T16:48:45.157160Z"
    }
   },
   "outputs": [],
   "source": [
    "df['arrival_delay_in_minutes']=df1['arrival_delay_in_minutes']"
   ]
  },
  {
   "cell_type": "code",
   "execution_count": 19,
   "metadata": {
    "execution": {
     "iopub.execute_input": "2021-10-16T16:48:45.669926Z",
     "iopub.status.busy": "2021-10-16T16:48:45.669594Z",
     "iopub.status.idle": "2021-10-16T16:48:45.806151Z",
     "shell.execute_reply": "2021-10-16T16:48:45.805126Z",
     "shell.execute_reply.started": "2021-10-16T16:48:45.669884Z"
    }
   },
   "outputs": [
    {
     "data": {
      "text/plain": [
       "Gender                               0\n",
       "customer_type                        0\n",
       "age                                  0\n",
       "type_of_travel                       0\n",
       "customer_class                       0\n",
       "flight_distance                      0\n",
       "inflight_wifi_service                0\n",
       "departure_arrival_time_convenient    0\n",
       "ease_of_online_booking               0\n",
       "gate_location                        0\n",
       "food_and_drink                       0\n",
       "online_boarding                      0\n",
       "seat_comfort                         0\n",
       "inflight_entertainment               0\n",
       "onboard_service                      0\n",
       "leg_room_service                     0\n",
       "baggage_handling                     0\n",
       "checkin_service                      0\n",
       "inflight_service                     0\n",
       "cleanliness                          0\n",
       "departure_delay_in_minutes           0\n",
       "arrival_delay_in_minutes             0\n",
       "satisfaction                         0\n",
       "dtype: int64"
      ]
     },
     "execution_count": 19,
     "metadata": {},
     "output_type": "execute_result"
    }
   ],
   "source": [
    "df.isna().sum()"
   ]
  },
  {
   "cell_type": "markdown",
   "metadata": {},
   "source": [
    "comparing the data for arrival_delay_in_minutes and departure_delay_in_minutes before and after imputation."
   ]
  },
  {
   "cell_type": "markdown",
   "metadata": {
    "execution": {
     "iopub.execute_input": "2021-10-16T16:48:45.808868Z",
     "iopub.status.busy": "2021-10-16T16:48:45.808146Z",
     "iopub.status.idle": "2021-10-16T16:48:45.944856Z",
     "shell.execute_reply": "2021-10-16T16:48:45.943724Z",
     "shell.execute_reply.started": "2021-10-16T16:48:45.808814Z"
    }
   },
   "source": [
    "### Checking For Any Irrelevant Value In Any Column"
   ]
  },
  {
   "cell_type": "code",
   "execution_count": 20,
   "metadata": {
    "execution": {
     "iopub.execute_input": "2021-10-16T16:48:45.808868Z",
     "iopub.status.busy": "2021-10-16T16:48:45.808146Z",
     "iopub.status.idle": "2021-10-16T16:48:45.944856Z",
     "shell.execute_reply": "2021-10-16T16:48:45.943724Z",
     "shell.execute_reply.started": "2021-10-16T16:48:45.808814Z"
    }
   },
   "outputs": [
    {
     "name": "stdout",
     "output_type": "stream",
     "text": [
      "for feature:- age\n",
      "39.0    3692\n",
      "25.0    3511\n",
      "40.0    3209\n",
      "44.0    3104\n",
      "41.0    3089\n",
      "42.0    3017\n",
      "43.0    2941\n",
      "45.0    2939\n",
      "23.0    2935\n",
      "22.0    2931\n",
      "48.0    2889\n",
      "47.0    2888\n",
      "37.0    2881\n",
      "38.0    2878\n",
      "36.0    2867\n",
      "24.0    2836\n",
      "26.0    2822\n",
      "49.0    2789\n",
      "27.0    2781\n",
      "46.0    2771\n",
      "51.0    2611\n",
      "52.0    2599\n",
      "50.0    2579\n",
      "30.0    2521\n",
      "29.0    2435\n",
      "35.0    2398\n",
      "54.0    2397\n",
      "53.0    2377\n",
      "55.0    2339\n",
      "57.0    2334\n",
      "33.0    2334\n",
      "56.0    2310\n",
      "58.0    2214\n",
      "59.0    2206\n",
      "34.0    2198\n",
      "60.0    2161\n",
      "28.0    2148\n",
      "31.0    2007\n",
      "32.0    1928\n",
      "21.0    1902\n",
      "20.0    1878\n",
      "17.0    1225\n",
      "18.0    1223\n",
      "16.0    1156\n",
      "61.0    1145\n",
      "19.0    1110\n",
      "62.0    1071\n",
      "15.0    1006\n",
      "63.0     947\n",
      "65.0     938\n",
      "64.0     908\n",
      "66.0     870\n",
      "14.0     860\n",
      "9.0      859\n",
      "11.0     837\n",
      "67.0     823\n",
      "68.0     823\n",
      "10.0     822\n",
      "13.0     806\n",
      "69.0     799\n",
      "8.0      797\n",
      "12.0     794\n",
      "70.0     766\n",
      "7.0      685\n",
      "72.0     249\n",
      "71.0     114\n",
      "80.0     110\n",
      "77.0     106\n",
      "75.0      76\n",
      "73.0      67\n",
      "74.0      61\n",
      "76.0      60\n",
      "79.0      52\n",
      "78.0      44\n",
      "85.0      25\n",
      "Name: age, dtype: int64\n",
      "for feature:- flight_distance\n",
      "337.0     841\n",
      "594.0     505\n",
      "404.0     480\n",
      "862.0     473\n",
      "2475.0    470\n",
      "         ... \n",
      "1484.0      1\n",
      "778.0       1\n",
      "1434.0      1\n",
      "1361.0      1\n",
      "884.0       1\n",
      "Name: flight_distance, Length: 3821, dtype: int64\n",
      "for feature:- inflight_wifi_service\n",
      "2.0    32320\n",
      "3.0    32185\n",
      "4.0    24775\n",
      "1.0    22328\n",
      "5.0    14356\n",
      "0.0     3916\n",
      "Name: inflight_wifi_service, dtype: int64\n",
      "for feature:- departure_arrival_time_convenient\n",
      "4.0    31880\n",
      "5.0    27998\n",
      "3.0    22378\n",
      "2.0    21534\n",
      "1.0    19409\n",
      "0.0     6681\n",
      "Name: departure_arrival_time_convenient, dtype: int64\n",
      "for feature:- ease_of_online_booking\n",
      "3.0    30393\n",
      "2.0    30051\n",
      "4.0    24444\n",
      "1.0    21886\n",
      "5.0    17424\n",
      "0.0     5682\n",
      "Name: ease_of_online_booking, dtype: int64\n",
      "for feature:- gate_location\n",
      "3.0    35717\n",
      "4.0    30466\n",
      "2.0    24296\n",
      "1.0    21991\n",
      "5.0    17409\n",
      "0.0        1\n",
      "Name: gate_location, dtype: int64\n",
      "for feature:- food_and_drink\n",
      "4.0    30563\n",
      "5.0    27957\n",
      "3.0    27794\n",
      "2.0    27383\n",
      "1.0    16051\n",
      "0.0      132\n",
      "Name: food_and_drink, dtype: int64\n",
      "for feature:- online_boarding\n",
      "4.0    38468\n",
      "3.0    27117\n",
      "5.0    26020\n",
      "2.0    21934\n",
      "1.0    13261\n",
      "0.0     3080\n",
      "Name: online_boarding, dtype: int64\n",
      "for feature:- seat_comfort\n",
      "4.0    39756\n",
      "5.0    33158\n",
      "3.0    23328\n",
      "2.0    18529\n",
      "1.0    15108\n",
      "0.0        1\n",
      "Name: seat_comfort, dtype: int64\n",
      "for feature:- inflight_entertainment\n",
      "4.0    36791\n",
      "5.0    31544\n",
      "3.0    23884\n",
      "2.0    21968\n",
      "1.0    15675\n",
      "0.0       18\n",
      "Name: inflight_entertainment, dtype: int64\n",
      "for feature:- onboard_service\n",
      "4.0    38703\n",
      "5.0    29492\n",
      "3.0    28542\n",
      "2.0    18351\n",
      "1.0    14787\n",
      "0.0        5\n",
      "Name: onboard_service, dtype: int64\n",
      "for feature:- leg_room_service\n",
      "4.0    35886\n",
      "5.0    30905\n",
      "3.0    25056\n",
      "2.0    24540\n",
      "1.0    12895\n",
      "0.0      598\n",
      "Name: leg_room_service, dtype: int64\n",
      "for feature:- baggage_handling\n",
      "4.0    46761\n",
      "5.0    33878\n",
      "3.0    25851\n",
      "2.0    14362\n",
      "1.0     9028\n",
      "Name: baggage_handling, dtype: int64\n",
      "for feature:- checkin_service\n",
      "4.0    36333\n",
      "3.0    35453\n",
      "5.0    25883\n",
      "1.0    16108\n",
      "2.0    16102\n",
      "0.0        1\n",
      "Name: checkin_service, dtype: int64\n",
      "for feature:- inflight_service\n",
      "4.0    47323\n",
      "5.0    34066\n",
      "3.0    25316\n",
      "2.0    14308\n",
      "1.0     8862\n",
      "0.0        5\n",
      "Name: inflight_service, dtype: int64\n",
      "for feature:- cleanliness\n",
      "4.0    33969\n",
      "3.0    30639\n",
      "5.0    28416\n",
      "2.0    20113\n",
      "1.0    16729\n",
      "0.0       14\n",
      "Name: cleanliness, dtype: int64\n",
      "for feature:- departure_delay_in_minutes\n",
      "0.0      73356\n",
      "1.0       3682\n",
      "2.0       2855\n",
      "3.0       2535\n",
      "4.0       2309\n",
      "         ...  \n",
      "626.0        1\n",
      "460.0        1\n",
      "600.0        1\n",
      "514.0        1\n",
      "530.0        1\n",
      "Name: departure_delay_in_minutes, Length: 466, dtype: int64\n",
      "for feature:- arrival_delay_in_minutes\n",
      "0.0      72813\n",
      "1.0       2753\n",
      "2.0       2592\n",
      "3.0       2446\n",
      "4.0       2373\n",
      "         ...  \n",
      "176.6        1\n",
      "108.8        1\n",
      "717.0        1\n",
      "356.0        1\n",
      "59.6         1\n",
      "Name: arrival_delay_in_minutes, Length: 638, dtype: int64\n",
      "for feature:- Gender_Male\n",
      "0.0    65899\n",
      "1.0    63981\n",
      "Name: Gender_Male, dtype: int64\n",
      "for feature:- customer_type_disloyal Customer\n",
      "0.0    106100\n",
      "1.0     23780\n",
      "Name: customer_type_disloyal Customer, dtype: int64\n",
      "for feature:- type_of_travel_Personal Travel\n",
      "0.0    89693\n",
      "1.0    40187\n",
      "Name: type_of_travel_Personal Travel, dtype: int64\n",
      "for feature:- customer_class_Eco\n",
      "0.0    71571\n",
      "1.0    58309\n",
      "Name: customer_class_Eco, dtype: int64\n",
      "for feature:- customer_class_Eco Plus\n",
      "0.0    120469\n",
      "1.0      9411\n",
      "Name: customer_class_Eco Plus, dtype: int64\n"
     ]
    }
   ],
   "source": [
    "for cols in df1.columns:\n",
    "    print(f'for feature:- {cols}')\n",
    "    print(df1[cols].value_counts())"
   ]
  },
  {
   "cell_type": "code",
   "execution_count": 21,
   "metadata": {
    "execution": {
     "iopub.execute_input": "2021-10-16T16:48:45.946573Z",
     "iopub.status.busy": "2021-10-16T16:48:45.946219Z",
     "iopub.status.idle": "2021-10-16T16:48:46.291152Z",
     "shell.execute_reply": "2021-10-16T16:48:46.290213Z",
     "shell.execute_reply.started": "2021-10-16T16:48:45.946523Z"
    }
   },
   "outputs": [
    {
     "data": {
      "text/html": [
       "<div>\n",
       "<style scoped>\n",
       "    .dataframe tbody tr th:only-of-type {\n",
       "        vertical-align: middle;\n",
       "    }\n",
       "\n",
       "    .dataframe tbody tr th {\n",
       "        vertical-align: top;\n",
       "    }\n",
       "\n",
       "    .dataframe thead th {\n",
       "        text-align: right;\n",
       "    }\n",
       "</style>\n",
       "<table border=\"1\" class=\"dataframe\">\n",
       "  <thead>\n",
       "    <tr style=\"text-align: right;\">\n",
       "      <th></th>\n",
       "      <th>count</th>\n",
       "      <th>mean</th>\n",
       "      <th>std</th>\n",
       "      <th>min</th>\n",
       "      <th>25%</th>\n",
       "      <th>50%</th>\n",
       "      <th>75%</th>\n",
       "      <th>max</th>\n",
       "    </tr>\n",
       "  </thead>\n",
       "  <tbody>\n",
       "    <tr>\n",
       "      <th>age</th>\n",
       "      <td>129880.0</td>\n",
       "      <td>39.427957</td>\n",
       "      <td>15.119360</td>\n",
       "      <td>7.0</td>\n",
       "      <td>27.0</td>\n",
       "      <td>40.0</td>\n",
       "      <td>51.0</td>\n",
       "      <td>85.0</td>\n",
       "    </tr>\n",
       "    <tr>\n",
       "      <th>flight_distance</th>\n",
       "      <td>129880.0</td>\n",
       "      <td>1190.316392</td>\n",
       "      <td>997.452477</td>\n",
       "      <td>31.0</td>\n",
       "      <td>414.0</td>\n",
       "      <td>844.0</td>\n",
       "      <td>1744.0</td>\n",
       "      <td>4983.0</td>\n",
       "    </tr>\n",
       "    <tr>\n",
       "      <th>inflight_wifi_service</th>\n",
       "      <td>129880.0</td>\n",
       "      <td>2.728696</td>\n",
       "      <td>1.329340</td>\n",
       "      <td>0.0</td>\n",
       "      <td>2.0</td>\n",
       "      <td>3.0</td>\n",
       "      <td>4.0</td>\n",
       "      <td>5.0</td>\n",
       "    </tr>\n",
       "    <tr>\n",
       "      <th>departure_arrival_time_convenient</th>\n",
       "      <td>129880.0</td>\n",
       "      <td>3.057599</td>\n",
       "      <td>1.526741</td>\n",
       "      <td>0.0</td>\n",
       "      <td>2.0</td>\n",
       "      <td>3.0</td>\n",
       "      <td>4.0</td>\n",
       "      <td>5.0</td>\n",
       "    </tr>\n",
       "    <tr>\n",
       "      <th>ease_of_online_booking</th>\n",
       "      <td>129880.0</td>\n",
       "      <td>2.756876</td>\n",
       "      <td>1.401740</td>\n",
       "      <td>0.0</td>\n",
       "      <td>2.0</td>\n",
       "      <td>3.0</td>\n",
       "      <td>4.0</td>\n",
       "      <td>5.0</td>\n",
       "    </tr>\n",
       "    <tr>\n",
       "      <th>gate_location</th>\n",
       "      <td>129880.0</td>\n",
       "      <td>2.976925</td>\n",
       "      <td>1.278520</td>\n",
       "      <td>0.0</td>\n",
       "      <td>2.0</td>\n",
       "      <td>3.0</td>\n",
       "      <td>4.0</td>\n",
       "      <td>5.0</td>\n",
       "    </tr>\n",
       "    <tr>\n",
       "      <th>food_and_drink</th>\n",
       "      <td>129880.0</td>\n",
       "      <td>3.204774</td>\n",
       "      <td>1.329933</td>\n",
       "      <td>0.0</td>\n",
       "      <td>2.0</td>\n",
       "      <td>3.0</td>\n",
       "      <td>4.0</td>\n",
       "      <td>5.0</td>\n",
       "    </tr>\n",
       "    <tr>\n",
       "      <th>online_boarding</th>\n",
       "      <td>129880.0</td>\n",
       "      <td>3.252633</td>\n",
       "      <td>1.350719</td>\n",
       "      <td>0.0</td>\n",
       "      <td>2.0</td>\n",
       "      <td>3.0</td>\n",
       "      <td>4.0</td>\n",
       "      <td>5.0</td>\n",
       "    </tr>\n",
       "    <tr>\n",
       "      <th>seat_comfort</th>\n",
       "      <td>129880.0</td>\n",
       "      <td>3.441361</td>\n",
       "      <td>1.319289</td>\n",
       "      <td>0.0</td>\n",
       "      <td>2.0</td>\n",
       "      <td>4.0</td>\n",
       "      <td>5.0</td>\n",
       "      <td>5.0</td>\n",
       "    </tr>\n",
       "    <tr>\n",
       "      <th>inflight_entertainment</th>\n",
       "      <td>129880.0</td>\n",
       "      <td>3.358077</td>\n",
       "      <td>1.334049</td>\n",
       "      <td>0.0</td>\n",
       "      <td>2.0</td>\n",
       "      <td>4.0</td>\n",
       "      <td>4.0</td>\n",
       "      <td>5.0</td>\n",
       "    </tr>\n",
       "    <tr>\n",
       "      <th>onboard_service</th>\n",
       "      <td>129880.0</td>\n",
       "      <td>3.383023</td>\n",
       "      <td>1.287099</td>\n",
       "      <td>0.0</td>\n",
       "      <td>2.0</td>\n",
       "      <td>4.0</td>\n",
       "      <td>4.0</td>\n",
       "      <td>5.0</td>\n",
       "    </tr>\n",
       "    <tr>\n",
       "      <th>leg_room_service</th>\n",
       "      <td>129880.0</td>\n",
       "      <td>3.350878</td>\n",
       "      <td>1.316252</td>\n",
       "      <td>0.0</td>\n",
       "      <td>2.0</td>\n",
       "      <td>4.0</td>\n",
       "      <td>4.0</td>\n",
       "      <td>5.0</td>\n",
       "    </tr>\n",
       "    <tr>\n",
       "      <th>baggage_handling</th>\n",
       "      <td>129880.0</td>\n",
       "      <td>3.632114</td>\n",
       "      <td>1.180025</td>\n",
       "      <td>1.0</td>\n",
       "      <td>3.0</td>\n",
       "      <td>4.0</td>\n",
       "      <td>5.0</td>\n",
       "      <td>5.0</td>\n",
       "    </tr>\n",
       "    <tr>\n",
       "      <th>checkin_service</th>\n",
       "      <td>129880.0</td>\n",
       "      <td>3.306267</td>\n",
       "      <td>1.266185</td>\n",
       "      <td>0.0</td>\n",
       "      <td>3.0</td>\n",
       "      <td>3.0</td>\n",
       "      <td>4.0</td>\n",
       "      <td>5.0</td>\n",
       "    </tr>\n",
       "    <tr>\n",
       "      <th>inflight_service</th>\n",
       "      <td>129880.0</td>\n",
       "      <td>3.642193</td>\n",
       "      <td>1.176669</td>\n",
       "      <td>0.0</td>\n",
       "      <td>3.0</td>\n",
       "      <td>4.0</td>\n",
       "      <td>5.0</td>\n",
       "      <td>5.0</td>\n",
       "    </tr>\n",
       "    <tr>\n",
       "      <th>cleanliness</th>\n",
       "      <td>129880.0</td>\n",
       "      <td>3.286326</td>\n",
       "      <td>1.313682</td>\n",
       "      <td>0.0</td>\n",
       "      <td>2.0</td>\n",
       "      <td>3.0</td>\n",
       "      <td>4.0</td>\n",
       "      <td>5.0</td>\n",
       "    </tr>\n",
       "    <tr>\n",
       "      <th>departure_delay_in_minutes</th>\n",
       "      <td>129880.0</td>\n",
       "      <td>14.713713</td>\n",
       "      <td>38.071126</td>\n",
       "      <td>0.0</td>\n",
       "      <td>0.0</td>\n",
       "      <td>0.0</td>\n",
       "      <td>12.0</td>\n",
       "      <td>1592.0</td>\n",
       "    </tr>\n",
       "    <tr>\n",
       "      <th>arrival_delay_in_minutes</th>\n",
       "      <td>129880.0</td>\n",
       "      <td>15.156454</td>\n",
       "      <td>38.583196</td>\n",
       "      <td>0.0</td>\n",
       "      <td>0.0</td>\n",
       "      <td>0.0</td>\n",
       "      <td>13.0</td>\n",
       "      <td>1584.0</td>\n",
       "    </tr>\n",
       "    <tr>\n",
       "      <th>Gender_Male</th>\n",
       "      <td>129880.0</td>\n",
       "      <td>0.492616</td>\n",
       "      <td>0.499947</td>\n",
       "      <td>0.0</td>\n",
       "      <td>0.0</td>\n",
       "      <td>0.0</td>\n",
       "      <td>1.0</td>\n",
       "      <td>1.0</td>\n",
       "    </tr>\n",
       "    <tr>\n",
       "      <th>customer_type_disloyal Customer</th>\n",
       "      <td>129880.0</td>\n",
       "      <td>0.183092</td>\n",
       "      <td>0.386743</td>\n",
       "      <td>0.0</td>\n",
       "      <td>0.0</td>\n",
       "      <td>0.0</td>\n",
       "      <td>0.0</td>\n",
       "      <td>1.0</td>\n",
       "    </tr>\n",
       "    <tr>\n",
       "      <th>type_of_travel_Personal Travel</th>\n",
       "      <td>129880.0</td>\n",
       "      <td>0.309416</td>\n",
       "      <td>0.462255</td>\n",
       "      <td>0.0</td>\n",
       "      <td>0.0</td>\n",
       "      <td>0.0</td>\n",
       "      <td>1.0</td>\n",
       "      <td>1.0</td>\n",
       "    </tr>\n",
       "    <tr>\n",
       "      <th>customer_class_Eco</th>\n",
       "      <td>129880.0</td>\n",
       "      <td>0.448945</td>\n",
       "      <td>0.497388</td>\n",
       "      <td>0.0</td>\n",
       "      <td>0.0</td>\n",
       "      <td>0.0</td>\n",
       "      <td>1.0</td>\n",
       "      <td>1.0</td>\n",
       "    </tr>\n",
       "    <tr>\n",
       "      <th>customer_class_Eco Plus</th>\n",
       "      <td>129880.0</td>\n",
       "      <td>0.072459</td>\n",
       "      <td>0.259248</td>\n",
       "      <td>0.0</td>\n",
       "      <td>0.0</td>\n",
       "      <td>0.0</td>\n",
       "      <td>0.0</td>\n",
       "      <td>1.0</td>\n",
       "    </tr>\n",
       "  </tbody>\n",
       "</table>\n",
       "</div>"
      ],
      "text/plain": [
       "                                      count         mean         std   min  \\\n",
       "age                                129880.0    39.427957   15.119360   7.0   \n",
       "flight_distance                    129880.0  1190.316392  997.452477  31.0   \n",
       "inflight_wifi_service              129880.0     2.728696    1.329340   0.0   \n",
       "departure_arrival_time_convenient  129880.0     3.057599    1.526741   0.0   \n",
       "ease_of_online_booking             129880.0     2.756876    1.401740   0.0   \n",
       "gate_location                      129880.0     2.976925    1.278520   0.0   \n",
       "food_and_drink                     129880.0     3.204774    1.329933   0.0   \n",
       "online_boarding                    129880.0     3.252633    1.350719   0.0   \n",
       "seat_comfort                       129880.0     3.441361    1.319289   0.0   \n",
       "inflight_entertainment             129880.0     3.358077    1.334049   0.0   \n",
       "onboard_service                    129880.0     3.383023    1.287099   0.0   \n",
       "leg_room_service                   129880.0     3.350878    1.316252   0.0   \n",
       "baggage_handling                   129880.0     3.632114    1.180025   1.0   \n",
       "checkin_service                    129880.0     3.306267    1.266185   0.0   \n",
       "inflight_service                   129880.0     3.642193    1.176669   0.0   \n",
       "cleanliness                        129880.0     3.286326    1.313682   0.0   \n",
       "departure_delay_in_minutes         129880.0    14.713713   38.071126   0.0   \n",
       "arrival_delay_in_minutes           129880.0    15.156454   38.583196   0.0   \n",
       "Gender_Male                        129880.0     0.492616    0.499947   0.0   \n",
       "customer_type_disloyal Customer    129880.0     0.183092    0.386743   0.0   \n",
       "type_of_travel_Personal Travel     129880.0     0.309416    0.462255   0.0   \n",
       "customer_class_Eco                 129880.0     0.448945    0.497388   0.0   \n",
       "customer_class_Eco Plus            129880.0     0.072459    0.259248   0.0   \n",
       "\n",
       "                                     25%    50%     75%     max  \n",
       "age                                 27.0   40.0    51.0    85.0  \n",
       "flight_distance                    414.0  844.0  1744.0  4983.0  \n",
       "inflight_wifi_service                2.0    3.0     4.0     5.0  \n",
       "departure_arrival_time_convenient    2.0    3.0     4.0     5.0  \n",
       "ease_of_online_booking               2.0    3.0     4.0     5.0  \n",
       "gate_location                        2.0    3.0     4.0     5.0  \n",
       "food_and_drink                       2.0    3.0     4.0     5.0  \n",
       "online_boarding                      2.0    3.0     4.0     5.0  \n",
       "seat_comfort                         2.0    4.0     5.0     5.0  \n",
       "inflight_entertainment               2.0    4.0     4.0     5.0  \n",
       "onboard_service                      2.0    4.0     4.0     5.0  \n",
       "leg_room_service                     2.0    4.0     4.0     5.0  \n",
       "baggage_handling                     3.0    4.0     5.0     5.0  \n",
       "checkin_service                      3.0    3.0     4.0     5.0  \n",
       "inflight_service                     3.0    4.0     5.0     5.0  \n",
       "cleanliness                          2.0    3.0     4.0     5.0  \n",
       "departure_delay_in_minutes           0.0    0.0    12.0  1592.0  \n",
       "arrival_delay_in_minutes             0.0    0.0    13.0  1584.0  \n",
       "Gender_Male                          0.0    0.0     1.0     1.0  \n",
       "customer_type_disloyal Customer      0.0    0.0     0.0     1.0  \n",
       "type_of_travel_Personal Travel       0.0    0.0     1.0     1.0  \n",
       "customer_class_Eco                   0.0    0.0     1.0     1.0  \n",
       "customer_class_Eco Plus              0.0    0.0     0.0     1.0  "
      ]
     },
     "execution_count": 21,
     "metadata": {},
     "output_type": "execute_result"
    }
   ],
   "source": [
    "df1.describe().T # five point summary for numerical columns from new dataset"
   ]
  },
  {
   "cell_type": "markdown",
   "metadata": {
    "execution": {
     "iopub.execute_input": "2021-10-16T16:48:46.298940Z",
     "iopub.status.busy": "2021-10-16T16:48:46.296309Z",
     "iopub.status.idle": "2021-10-16T16:48:46.385699Z",
     "shell.execute_reply": "2021-10-16T16:48:46.384590Z",
     "shell.execute_reply.started": "2021-10-16T16:48:46.298888Z"
    }
   },
   "source": [
    "### Checking for Skewness"
   ]
  },
  {
   "cell_type": "code",
   "execution_count": 22,
   "metadata": {
    "execution": {
     "iopub.execute_input": "2021-10-16T16:48:46.298940Z",
     "iopub.status.busy": "2021-10-16T16:48:46.296309Z",
     "iopub.status.idle": "2021-10-16T16:48:46.385699Z",
     "shell.execute_reply": "2021-10-16T16:48:46.384590Z",
     "shell.execute_reply.started": "2021-10-16T16:48:46.298888Z"
    }
   },
   "outputs": [
    {
     "data": {
      "text/plain": [
       "flight_distance                    1.108142\n",
       "departure_delay_in_minutes         6.821980\n",
       "arrival_delay_in_minutes           6.638487\n",
       "customer_type_disloyal Customer    1.638879\n",
       "type_of_travel_Personal Travel     0.824595\n",
       "customer_class_Eco Plus            3.298370\n",
       "dtype: float64"
      ]
     },
     "execution_count": 22,
     "metadata": {},
     "output_type": "execute_result"
    }
   ],
   "source": [
    "skew=df1.skew()\n",
    "skew[skew>0.5]"
   ]
  },
  {
   "cell_type": "code",
   "execution_count": 23,
   "metadata": {
    "execution": {
     "iopub.execute_input": "2021-10-16T16:48:46.393833Z",
     "iopub.status.busy": "2021-10-16T16:48:46.391212Z",
     "iopub.status.idle": "2021-10-16T16:48:46.453744Z",
     "shell.execute_reply": "2021-10-16T16:48:46.452616Z",
     "shell.execute_reply.started": "2021-10-16T16:48:46.393778Z"
    }
   },
   "outputs": [],
   "source": [
    "cat_cols=df.drop('satisfaction',axis=1).select_dtypes(object)\n",
    "con_cols=df.select_dtypes(np.number)"
   ]
  },
  {
   "cell_type": "code",
   "execution_count": 24,
   "metadata": {
    "execution": {
     "iopub.execute_input": "2021-10-16T16:48:46.462002Z",
     "iopub.status.busy": "2021-10-16T16:48:46.459345Z",
     "iopub.status.idle": "2021-10-16T16:48:46.492396Z",
     "shell.execute_reply": "2021-10-16T16:48:46.491088Z",
     "shell.execute_reply.started": "2021-10-16T16:48:46.461948Z"
    }
   },
   "outputs": [
    {
     "data": {
      "text/plain": [
       "age                                  0\n",
       "flight_distance                      0\n",
       "inflight_wifi_service                0\n",
       "departure_arrival_time_convenient    0\n",
       "ease_of_online_booking               0\n",
       "gate_location                        0\n",
       "food_and_drink                       0\n",
       "online_boarding                      0\n",
       "seat_comfort                         0\n",
       "inflight_entertainment               0\n",
       "onboard_service                      0\n",
       "leg_room_service                     0\n",
       "baggage_handling                     0\n",
       "checkin_service                      0\n",
       "inflight_service                     0\n",
       "cleanliness                          0\n",
       "departure_delay_in_minutes           0\n",
       "arrival_delay_in_minutes             0\n",
       "dtype: int64"
      ]
     },
     "execution_count": 24,
     "metadata": {},
     "output_type": "execute_result"
    }
   ],
   "source": [
    "con_cols.isna().sum()"
   ]
  },
  {
   "cell_type": "code",
   "execution_count": 25,
   "metadata": {
    "execution": {
     "iopub.execute_input": "2021-10-16T16:48:46.499693Z",
     "iopub.status.busy": "2021-10-16T16:48:46.498793Z",
     "iopub.status.idle": "2021-10-16T16:48:46.521444Z",
     "shell.execute_reply": "2021-10-16T16:48:46.520071Z",
     "shell.execute_reply.started": "2021-10-16T16:48:46.499619Z"
    }
   },
   "outputs": [
    {
     "name": "stdout",
     "output_type": "stream",
     "text": [
      "Categorical_columns:- \n",
      " Index(['Gender', 'customer_type', 'type_of_travel', 'customer_class'], dtype='object')\n",
      "Numerical_columns:- \n",
      " Index(['age', 'flight_distance', 'inflight_wifi_service',\n",
      "       'departure_arrival_time_convenient', 'ease_of_online_booking',\n",
      "       'gate_location', 'food_and_drink', 'online_boarding', 'seat_comfort',\n",
      "       'inflight_entertainment', 'onboard_service', 'leg_room_service',\n",
      "       'baggage_handling', 'checkin_service', 'inflight_service',\n",
      "       'cleanliness', 'departure_delay_in_minutes',\n",
      "       'arrival_delay_in_minutes'],\n",
      "      dtype='object')\n"
     ]
    }
   ],
   "source": [
    "print('Categorical_columns:- \\n',cat_cols.columns)\n",
    "print('Numerical_columns:- \\n',con_cols.columns)"
   ]
  },
  {
   "cell_type": "markdown",
   "metadata": {
    "execution": {
     "iopub.execute_input": "2021-10-16T16:48:46.523407Z",
     "iopub.status.busy": "2021-10-16T16:48:46.523025Z",
     "iopub.status.idle": "2021-10-16T16:48:47.167889Z",
     "shell.execute_reply": "2021-10-16T16:48:47.166587Z",
     "shell.execute_reply.started": "2021-10-16T16:48:46.523353Z"
    }
   },
   "source": [
    "# Statistical Test"
   ]
  },
  {
   "cell_type": "markdown",
   "metadata": {
    "execution": {
     "iopub.execute_input": "2021-10-16T16:48:46.523407Z",
     "iopub.status.busy": "2021-10-16T16:48:46.523025Z",
     "iopub.status.idle": "2021-10-16T16:48:47.167889Z",
     "shell.execute_reply": "2021-10-16T16:48:47.166587Z",
     "shell.execute_reply.started": "2021-10-16T16:48:46.523353Z"
    }
   },
   "source": [
    "### 1. Categorical vs Target Variable (categorical) : - Performing chi2contengency test "
   ]
  },
  {
   "cell_type": "markdown",
   "metadata": {
    "execution": {
     "iopub.execute_input": "2021-10-16T16:48:46.523407Z",
     "iopub.status.busy": "2021-10-16T16:48:46.523025Z",
     "iopub.status.idle": "2021-10-16T16:48:47.167889Z",
     "shell.execute_reply": "2021-10-16T16:48:47.166587Z",
     "shell.execute_reply.started": "2021-10-16T16:48:46.523353Z"
    }
   },
   "source": [
    "<b>Null Hypothesis, H0: The features are independent</b><br>\n",
    "<b>Alternate Hypothesis, H1: The features are not independent. (i.e, they are dependent)</b>"
   ]
  },
  {
   "cell_type": "code",
   "execution_count": 26,
   "metadata": {
    "execution": {
     "iopub.execute_input": "2021-10-16T16:48:46.523407Z",
     "iopub.status.busy": "2021-10-16T16:48:46.523025Z",
     "iopub.status.idle": "2021-10-16T16:48:47.167889Z",
     "shell.execute_reply": "2021-10-16T16:48:47.166587Z",
     "shell.execute_reply.started": "2021-10-16T16:48:46.523353Z"
    }
   },
   "outputs": [
    {
     "name": "stdout",
     "output_type": "stream",
     "text": [
      "Gender vs satisfaction \n",
      "\n",
      "observed_value: \n",
      " satisfaction  neutral or dissatisfied  satisfied\n",
      "Gender                                          \n",
      "Female                          37630      28269\n",
      "Male                            35822      28159\n",
      "\n",
      "\n",
      "observed_value %: \n",
      " satisfaction  neutral or dissatisfied  satisfied\n",
      "Gender                                          \n",
      "Female                       0.571025   0.428975\n",
      "Male                         0.559885   0.440115\n",
      "\n",
      "\n",
      "p_value:  5.135589964552752e-05\n",
      "As the p-value<0.05, we fail to accept the null hypothesis. And this infers that the feature Gender and satisfaction is related to each other.\n",
      "\n",
      "customer_type vs satisfaction \n",
      "\n",
      "observed_value: \n",
      " satisfaction       neutral or dissatisfied  satisfied\n",
      "customer_type                                        \n",
      "Loyal Customer                       55372      50728\n",
      "disloyal Customer                    18080       5700\n",
      "\n",
      "\n",
      "observed_value %: \n",
      " satisfaction       neutral or dissatisfied  satisfied\n",
      "customer_type                                        \n",
      "Loyal Customer                    0.521885   0.478115\n",
      "disloyal Customer                 0.760303   0.239697\n",
      "\n",
      "\n",
      "p_value:  0.0\n",
      "As the p-value<0.05, we fail to accept the null hypothesis. And this infers that the feature customer_type and satisfaction is related to each other.\n",
      "\n",
      "type_of_travel vs satisfaction \n",
      "\n",
      "observed_value: \n",
      " satisfaction     neutral or dissatisfied  satisfied\n",
      "type_of_travel                                     \n",
      "Business travel                    37337      52356\n",
      "Personal Travel                    36115       4072\n",
      "\n",
      "\n",
      "observed_value %: \n",
      " satisfaction     neutral or dissatisfied  satisfied\n",
      "type_of_travel                                     \n",
      "Business travel                 0.416276   0.583724\n",
      "Personal Travel                 0.898674   0.101326\n",
      "\n",
      "\n",
      "p_value:  0.0\n",
      "As the p-value<0.05, we fail to accept the null hypothesis. And this infers that the feature type_of_travel and satisfaction is related to each other.\n",
      "\n",
      "customer_class vs satisfaction \n",
      "\n",
      "observed_value: \n",
      " satisfaction    neutral or dissatisfied  satisfied\n",
      "customer_class                                    \n",
      "Business                          18994      43166\n",
      "Eco                               47366      10943\n",
      "Eco Plus                           7092       2319\n",
      "\n",
      "\n",
      "observed_value %: \n",
      " satisfaction    neutral or dissatisfied  satisfied\n",
      "customer_class                                    \n",
      "Business                       0.305566   0.694434\n",
      "Eco                            0.812327   0.187673\n",
      "Eco Plus                       0.753586   0.246414\n",
      "\n",
      "\n",
      "p_value:  0.0\n",
      "As the p-value<0.05, we fail to accept the null hypothesis. And this infers that the feature customer_class and satisfaction is related to each other.\n",
      "\n"
     ]
    }
   ],
   "source": [
    "a=dict()\n",
    "for i in cat_cols.columns:\n",
    "    print(f'{i} vs satisfaction \\n')\n",
    "    observed_value=pd.crosstab(df[i],df['satisfaction'])\n",
    "    print('observed_value: \\n',observed_value)\n",
    "    print('\\n')\n",
    "    observed_value_per=pd.crosstab(df[i],df['satisfaction'],normalize='index')\n",
    "    print('observed_value %: \\n',observed_value_per)\n",
    "    print('\\n')\n",
    "    test_stat,p_value,dof,expected_value=chi2_contingency(observed=observed_value,correction=False)\n",
    "    print('p_value: ',p_value)\n",
    "    a[i]=p_value\n",
    "    if p_value<0.05:\n",
    "        print(f'As the p-value<0.05, we fail to accept the null hypothesis. And this infers that the feature {i} and satisfaction is related to each other.\\n')\n",
    "    else:\n",
    "        print(f'As the p-value>0.05, we fail to reject the null hypothesis. And this infers that the feature {i} and satisfaction is not related to each other.\\n')"
   ]
  },
  {
   "cell_type": "code",
   "execution_count": 27,
   "metadata": {
    "execution": {
     "iopub.execute_input": "2021-10-16T16:48:47.174390Z",
     "iopub.status.busy": "2021-10-16T16:48:47.173622Z",
     "iopub.status.idle": "2021-10-16T16:48:47.207034Z",
     "shell.execute_reply": "2021-10-16T16:48:47.205743Z",
     "shell.execute_reply.started": "2021-10-16T16:48:47.174314Z"
    }
   },
   "outputs": [
    {
     "data": {
      "text/html": [
       "<div>\n",
       "<style scoped>\n",
       "    .dataframe tbody tr th:only-of-type {\n",
       "        vertical-align: middle;\n",
       "    }\n",
       "\n",
       "    .dataframe tbody tr th {\n",
       "        vertical-align: top;\n",
       "    }\n",
       "\n",
       "    .dataframe thead th {\n",
       "        text-align: right;\n",
       "    }\n",
       "</style>\n",
       "<table border=\"1\" class=\"dataframe\">\n",
       "  <thead>\n",
       "    <tr style=\"text-align: right;\">\n",
       "      <th></th>\n",
       "      <th>p_value</th>\n",
       "    </tr>\n",
       "  </thead>\n",
       "  <tbody>\n",
       "    <tr>\n",
       "      <th>Gender</th>\n",
       "      <td>0.000051</td>\n",
       "    </tr>\n",
       "    <tr>\n",
       "      <th>customer_type</th>\n",
       "      <td>0.000000</td>\n",
       "    </tr>\n",
       "    <tr>\n",
       "      <th>type_of_travel</th>\n",
       "      <td>0.000000</td>\n",
       "    </tr>\n",
       "    <tr>\n",
       "      <th>customer_class</th>\n",
       "      <td>0.000000</td>\n",
       "    </tr>\n",
       "  </tbody>\n",
       "</table>\n",
       "</div>"
      ],
      "text/plain": [
       "                 p_value\n",
       "Gender          0.000051\n",
       "customer_type   0.000000\n",
       "type_of_travel  0.000000\n",
       "customer_class  0.000000"
      ]
     },
     "execution_count": 27,
     "metadata": {},
     "output_type": "execute_result"
    }
   ],
   "source": [
    "pd.DataFrame(a.values(),index=a.keys(),columns=['p_value'])"
   ]
  },
  {
   "cell_type": "markdown",
   "metadata": {
    "execution": {
     "iopub.execute_input": "2021-10-16T16:48:47.209667Z",
     "iopub.status.busy": "2021-10-16T16:48:47.208948Z",
     "iopub.status.idle": "2021-10-16T16:48:49.856934Z",
     "shell.execute_reply": "2021-10-16T16:48:49.855619Z",
     "shell.execute_reply.started": "2021-10-16T16:48:47.209612Z"
    }
   },
   "source": [
    "### 2. Numerical columns vs Target feature (categorical)"
   ]
  },
  {
   "cell_type": "markdown",
   "metadata": {
    "execution": {
     "iopub.execute_input": "2021-10-16T16:48:47.209667Z",
     "iopub.status.busy": "2021-10-16T16:48:47.208948Z",
     "iopub.status.idle": "2021-10-16T16:48:49.856934Z",
     "shell.execute_reply": "2021-10-16T16:48:49.855619Z",
     "shell.execute_reply.started": "2021-10-16T16:48:47.209612Z"
    }
   },
   "source": [
    "<b>Checking for normality of numrical features</b>\n",
    "- if feature normally distributed, Performing f_oneway Anova test, else performing kruskal_wallis test\n",
    "\n",
    "<b>Null Hypothesis, H0: The features are independent</b><br>\n",
    "<b>Alternate Hypothesis, H1: The features are not independent. (i.e, they are dependent)</b>"
   ]
  },
  {
   "cell_type": "code",
   "execution_count": 28,
   "metadata": {
    "execution": {
     "iopub.execute_input": "2021-10-16T16:48:47.209667Z",
     "iopub.status.busy": "2021-10-16T16:48:47.208948Z",
     "iopub.status.idle": "2021-10-16T16:48:49.856934Z",
     "shell.execute_reply": "2021-10-16T16:48:49.855619Z",
     "shell.execute_reply.started": "2021-10-16T16:48:47.209612Z"
    }
   },
   "outputs": [
    {
     "name": "stdout",
     "output_type": "stream",
     "text": [
      "age vs satisfaction: \n",
      "Shapiro_test_p_value:- 0.0\n",
      "The feature age is not normally distributed.\n",
      "Kruskal_p_value:- 0.0\n",
      "As the p-value<0.05, we fail to accept the null hypothesis. And this infers that the feature age and satisfaction is related to each other.\n",
      "\n",
      "\n",
      "\n",
      "flight_distance vs satisfaction: \n",
      "Shapiro_test_p_value:- 0.0\n",
      "The feature flight_distance is not normally distributed.\n",
      "Kruskal_p_value:- 0.0\n",
      "As the p-value<0.05, we fail to accept the null hypothesis. And this infers that the feature flight_distance and satisfaction is related to each other.\n",
      "\n",
      "\n",
      "\n",
      "inflight_wifi_service vs satisfaction: \n",
      "Shapiro_test_p_value:- 0.0\n",
      "The feature inflight_wifi_service is not normally distributed.\n",
      "Kruskal_p_value:- 0.0\n",
      "As the p-value<0.05, we fail to accept the null hypothesis. And this infers that the feature inflight_wifi_service and satisfaction is related to each other.\n",
      "\n",
      "\n",
      "\n",
      "departure_arrival_time_convenient vs satisfaction: \n",
      "Shapiro_test_p_value:- 0.0\n",
      "The feature departure_arrival_time_convenient is not normally distributed.\n",
      "Kruskal_p_value:- 9.557221024204057e-79\n",
      "As the p-value<0.05, we fail to accept the null hypothesis. And this infers that the feature departure_arrival_time_convenient and satisfaction is related to each other.\n",
      "\n",
      "\n",
      "\n",
      "ease_of_online_booking vs satisfaction: \n",
      "Shapiro_test_p_value:- 0.0\n",
      "The feature ease_of_online_booking is not normally distributed.\n",
      "Kruskal_p_value:- 0.0\n",
      "As the p-value<0.05, we fail to accept the null hypothesis. And this infers that the feature ease_of_online_booking and satisfaction is related to each other.\n",
      "\n",
      "\n",
      "\n",
      "gate_location vs satisfaction: \n",
      "Shapiro_test_p_value:- 0.0\n",
      "The feature gate_location is not normally distributed.\n",
      "Kruskal_p_value:- 0.20891594655742543\n",
      "As the p-value>0.05, we fail to reject the null hypothesis. And this infers that the feature gate_location and satisfaction is not related to each other.\n",
      "\n",
      "\n",
      "\n",
      "food_and_drink vs satisfaction: \n",
      "Shapiro_test_p_value:- 0.0\n",
      "The feature food_and_drink is not normally distributed.\n",
      "Kruskal_p_value:- 0.0\n",
      "As the p-value<0.05, we fail to accept the null hypothesis. And this infers that the feature food_and_drink and satisfaction is related to each other.\n",
      "\n",
      "\n",
      "\n",
      "online_boarding vs satisfaction: \n",
      "Shapiro_test_p_value:- 0.0\n",
      "The feature online_boarding is not normally distributed.\n",
      "Kruskal_p_value:- 0.0\n",
      "As the p-value<0.05, we fail to accept the null hypothesis. And this infers that the feature online_boarding and satisfaction is related to each other.\n",
      "\n",
      "\n",
      "\n",
      "seat_comfort vs satisfaction: \n",
      "Shapiro_test_p_value:- 0.0\n",
      "The feature seat_comfort is not normally distributed.\n",
      "Kruskal_p_value:- 0.0\n",
      "As the p-value<0.05, we fail to accept the null hypothesis. And this infers that the feature seat_comfort and satisfaction is related to each other.\n",
      "\n",
      "\n",
      "\n",
      "inflight_entertainment vs satisfaction: \n",
      "Shapiro_test_p_value:- 0.0\n",
      "The feature inflight_entertainment is not normally distributed.\n",
      "Kruskal_p_value:- 0.0\n",
      "As the p-value<0.05, we fail to accept the null hypothesis. And this infers that the feature inflight_entertainment and satisfaction is related to each other.\n",
      "\n",
      "\n",
      "\n",
      "onboard_service vs satisfaction: \n",
      "Shapiro_test_p_value:- 0.0\n",
      "The feature onboard_service is not normally distributed.\n",
      "Kruskal_p_value:- 0.0\n",
      "As the p-value<0.05, we fail to accept the null hypothesis. And this infers that the feature onboard_service and satisfaction is related to each other.\n",
      "\n",
      "\n",
      "\n",
      "leg_room_service vs satisfaction: \n",
      "Shapiro_test_p_value:- 0.0\n",
      "The feature leg_room_service is not normally distributed.\n",
      "Kruskal_p_value:- 0.0\n",
      "As the p-value<0.05, we fail to accept the null hypothesis. And this infers that the feature leg_room_service and satisfaction is related to each other.\n",
      "\n",
      "\n",
      "\n",
      "baggage_handling vs satisfaction: \n",
      "Shapiro_test_p_value:- 0.0\n",
      "The feature baggage_handling is not normally distributed.\n",
      "Kruskal_p_value:- 0.0\n",
      "As the p-value<0.05, we fail to accept the null hypothesis. And this infers that the feature baggage_handling and satisfaction is related to each other.\n",
      "\n",
      "\n",
      "\n",
      "checkin_service vs satisfaction: \n",
      "Shapiro_test_p_value:- 0.0\n",
      "The feature checkin_service is not normally distributed.\n",
      "Kruskal_p_value:- 0.0\n",
      "As the p-value<0.05, we fail to accept the null hypothesis. And this infers that the feature checkin_service and satisfaction is related to each other.\n",
      "\n",
      "\n",
      "\n",
      "inflight_service vs satisfaction: \n",
      "Shapiro_test_p_value:- 0.0\n",
      "The feature inflight_service is not normally distributed.\n",
      "Kruskal_p_value:- 0.0\n",
      "As the p-value<0.05, we fail to accept the null hypothesis. And this infers that the feature inflight_service and satisfaction is related to each other.\n",
      "\n",
      "\n",
      "\n",
      "cleanliness vs satisfaction: \n",
      "Shapiro_test_p_value:- 0.0\n",
      "The feature cleanliness is not normally distributed.\n",
      "Kruskal_p_value:- 0.0\n",
      "As the p-value<0.05, we fail to accept the null hypothesis. And this infers that the feature cleanliness and satisfaction is related to each other.\n",
      "\n",
      "\n",
      "\n",
      "departure_delay_in_minutes vs satisfaction: \n",
      "Shapiro_test_p_value:- 0.0\n",
      "The feature departure_delay_in_minutes is not normally distributed.\n",
      "Kruskal_p_value:- 3.101822303026585e-136\n",
      "As the p-value<0.05, we fail to accept the null hypothesis. And this infers that the feature departure_delay_in_minutes and satisfaction is related to each other.\n",
      "\n",
      "\n",
      "\n",
      "arrival_delay_in_minutes vs satisfaction: \n",
      "Shapiro_test_p_value:- 0.0\n",
      "The feature arrival_delay_in_minutes is not normally distributed.\n",
      "Kruskal_p_value:- 2.8629454605344895e-286\n",
      "As the p-value<0.05, we fail to accept the null hypothesis. And this infers that the feature arrival_delay_in_minutes and satisfaction is related to each other.\n",
      "\n",
      "\n",
      "\n"
     ]
    }
   ],
   "source": [
    "from scipy.stats import shapiro, f_oneway, kruskal\n",
    "#a1=dict()\n",
    "for cols in con_cols.columns:\n",
    "    print(f'{cols} vs satisfaction: ')\n",
    "    test_stat,p_value_s=shapiro(df[cols])\n",
    "    print(f'Shapiro_test_p_value:- {p_value_s}')\n",
    "    if p_value_s>0.05:\n",
    "        print(f'The feature {cols} is normally distributed.')\n",
    "        # statistical test to check the relationship b/w independent and dependent variable (f-one_way Anova)\n",
    "        x=df[df['satisfaction']=='neutral or dissatisfied'][cols]\n",
    "        y=df[df['satisfaction']=='satisfied'][cols]\n",
    "        test_stat,p_value_f=f_oneway(x,y)\n",
    "        print(f'f_oneway_p_value:- {p_value_f}')\n",
    "        a[cols]=p_value_f\n",
    "        if p_value_f<0.05:\n",
    "            print(f'As the p-value<0.05, we fail to accept the null hypothesis. And this infers that the feature {cols} and satisfaction is related to each other.\\n')\n",
    "        else:\n",
    "            print(f'As the p-value>0.05, we fail to reject the null hypothesis. And this infers that the feature {cols} and satisfaction is not related to each other.\\n')\n",
    "        \n",
    "    else:\n",
    "        print(f'The feature {cols} is not normally distributed.')\n",
    "        # statistical test to check the relationship b/w independent and dependent variable (kruskal)\n",
    "        x=df[df['satisfaction']=='neutral or dissatisfied'][cols]\n",
    "        y=df[df['satisfaction']=='satisfied'][cols]\n",
    "        test_stat,p_value_k=kruskal(x,y)\n",
    "        print(f'Kruskal_p_value:- {p_value_k}')\n",
    "        a[cols]=p_value_k\n",
    "        if p_value_k<0.05:\n",
    "            print(f'As the p-value<0.05, we fail to accept the null hypothesis. And this infers that the feature {cols} and satisfaction is related to each other.\\n')\n",
    "        else:\n",
    "            print(f'As the p-value>0.05, we fail to reject the null hypothesis. And this infers that the feature {cols} and satisfaction is not related to each other.\\n')        \n",
    "    print('\\n')"
   ]
  },
  {
   "cell_type": "code",
   "execution_count": 29,
   "metadata": {
    "execution": {
     "iopub.execute_input": "2021-10-16T16:48:49.859251Z",
     "iopub.status.busy": "2021-10-16T16:48:49.858740Z",
     "iopub.status.idle": "2021-10-16T16:48:49.881518Z",
     "shell.execute_reply": "2021-10-16T16:48:49.880516Z",
     "shell.execute_reply.started": "2021-10-16T16:48:49.859203Z"
    }
   },
   "outputs": [
    {
     "data": {
      "text/html": [
       "<div>\n",
       "<style scoped>\n",
       "    .dataframe tbody tr th:only-of-type {\n",
       "        vertical-align: middle;\n",
       "    }\n",
       "\n",
       "    .dataframe tbody tr th {\n",
       "        vertical-align: top;\n",
       "    }\n",
       "\n",
       "    .dataframe thead th {\n",
       "        text-align: right;\n",
       "    }\n",
       "</style>\n",
       "<table border=\"1\" class=\"dataframe\">\n",
       "  <thead>\n",
       "    <tr style=\"text-align: right;\">\n",
       "      <th></th>\n",
       "      <th>feature</th>\n",
       "      <th>p_value</th>\n",
       "    </tr>\n",
       "  </thead>\n",
       "  <tbody>\n",
       "    <tr>\n",
       "      <th>0</th>\n",
       "      <td>Gender</td>\n",
       "      <td>5.135590e-05</td>\n",
       "    </tr>\n",
       "    <tr>\n",
       "      <th>1</th>\n",
       "      <td>customer_type</td>\n",
       "      <td>0.000000e+00</td>\n",
       "    </tr>\n",
       "    <tr>\n",
       "      <th>2</th>\n",
       "      <td>type_of_travel</td>\n",
       "      <td>0.000000e+00</td>\n",
       "    </tr>\n",
       "    <tr>\n",
       "      <th>3</th>\n",
       "      <td>customer_class</td>\n",
       "      <td>0.000000e+00</td>\n",
       "    </tr>\n",
       "    <tr>\n",
       "      <th>4</th>\n",
       "      <td>age</td>\n",
       "      <td>0.000000e+00</td>\n",
       "    </tr>\n",
       "    <tr>\n",
       "      <th>5</th>\n",
       "      <td>flight_distance</td>\n",
       "      <td>0.000000e+00</td>\n",
       "    </tr>\n",
       "    <tr>\n",
       "      <th>6</th>\n",
       "      <td>inflight_wifi_service</td>\n",
       "      <td>0.000000e+00</td>\n",
       "    </tr>\n",
       "    <tr>\n",
       "      <th>7</th>\n",
       "      <td>departure_arrival_time_convenient</td>\n",
       "      <td>9.557221e-79</td>\n",
       "    </tr>\n",
       "    <tr>\n",
       "      <th>8</th>\n",
       "      <td>ease_of_online_booking</td>\n",
       "      <td>0.000000e+00</td>\n",
       "    </tr>\n",
       "    <tr>\n",
       "      <th>9</th>\n",
       "      <td>gate_location</td>\n",
       "      <td>2.089159e-01</td>\n",
       "    </tr>\n",
       "    <tr>\n",
       "      <th>10</th>\n",
       "      <td>food_and_drink</td>\n",
       "      <td>0.000000e+00</td>\n",
       "    </tr>\n",
       "    <tr>\n",
       "      <th>11</th>\n",
       "      <td>online_boarding</td>\n",
       "      <td>0.000000e+00</td>\n",
       "    </tr>\n",
       "    <tr>\n",
       "      <th>12</th>\n",
       "      <td>seat_comfort</td>\n",
       "      <td>0.000000e+00</td>\n",
       "    </tr>\n",
       "    <tr>\n",
       "      <th>13</th>\n",
       "      <td>inflight_entertainment</td>\n",
       "      <td>0.000000e+00</td>\n",
       "    </tr>\n",
       "    <tr>\n",
       "      <th>14</th>\n",
       "      <td>onboard_service</td>\n",
       "      <td>0.000000e+00</td>\n",
       "    </tr>\n",
       "    <tr>\n",
       "      <th>15</th>\n",
       "      <td>leg_room_service</td>\n",
       "      <td>0.000000e+00</td>\n",
       "    </tr>\n",
       "    <tr>\n",
       "      <th>16</th>\n",
       "      <td>baggage_handling</td>\n",
       "      <td>0.000000e+00</td>\n",
       "    </tr>\n",
       "    <tr>\n",
       "      <th>17</th>\n",
       "      <td>checkin_service</td>\n",
       "      <td>0.000000e+00</td>\n",
       "    </tr>\n",
       "    <tr>\n",
       "      <th>18</th>\n",
       "      <td>inflight_service</td>\n",
       "      <td>0.000000e+00</td>\n",
       "    </tr>\n",
       "    <tr>\n",
       "      <th>19</th>\n",
       "      <td>cleanliness</td>\n",
       "      <td>0.000000e+00</td>\n",
       "    </tr>\n",
       "    <tr>\n",
       "      <th>20</th>\n",
       "      <td>departure_delay_in_minutes</td>\n",
       "      <td>3.101822e-136</td>\n",
       "    </tr>\n",
       "    <tr>\n",
       "      <th>21</th>\n",
       "      <td>arrival_delay_in_minutes</td>\n",
       "      <td>2.862945e-286</td>\n",
       "    </tr>\n",
       "  </tbody>\n",
       "</table>\n",
       "</div>"
      ],
      "text/plain": [
       "                              feature        p_value\n",
       "0                              Gender   5.135590e-05\n",
       "1                       customer_type   0.000000e+00\n",
       "2                      type_of_travel   0.000000e+00\n",
       "3                      customer_class   0.000000e+00\n",
       "4                                 age   0.000000e+00\n",
       "5                     flight_distance   0.000000e+00\n",
       "6               inflight_wifi_service   0.000000e+00\n",
       "7   departure_arrival_time_convenient   9.557221e-79\n",
       "8              ease_of_online_booking   0.000000e+00\n",
       "9                       gate_location   2.089159e-01\n",
       "10                     food_and_drink   0.000000e+00\n",
       "11                    online_boarding   0.000000e+00\n",
       "12                       seat_comfort   0.000000e+00\n",
       "13             inflight_entertainment   0.000000e+00\n",
       "14                    onboard_service   0.000000e+00\n",
       "15                   leg_room_service   0.000000e+00\n",
       "16                   baggage_handling   0.000000e+00\n",
       "17                    checkin_service   0.000000e+00\n",
       "18                   inflight_service   0.000000e+00\n",
       "19                        cleanliness   0.000000e+00\n",
       "20         departure_delay_in_minutes  3.101822e-136\n",
       "21           arrival_delay_in_minutes  2.862945e-286"
      ]
     },
     "execution_count": 29,
     "metadata": {},
     "output_type": "execute_result"
    }
   ],
   "source": [
    "p_val=pd.DataFrame(a.values(),index=a.keys(),columns=['p_value']).reset_index().rename(columns={'index':'feature'})\n",
    "p_val"
   ]
  },
  {
   "cell_type": "markdown",
   "metadata": {},
   "source": [
    "#### From above statistical test on numerical and categorical features, we can infer that the all features are dependent on target feature i.e., satisfaction.  "
   ]
  },
  {
   "cell_type": "markdown",
   "metadata": {
    "execution": {
     "iopub.execute_input": "2021-10-16T16:48:51.903191Z",
     "iopub.status.busy": "2021-10-16T16:48:51.902599Z",
     "iopub.status.idle": "2021-10-16T16:48:56.271648Z",
     "shell.execute_reply": "2021-10-16T16:48:56.270588Z",
     "shell.execute_reply.started": "2021-10-16T16:48:51.903143Z"
    }
   },
   "source": [
    "### Checking for Outliers Using Boxplot"
   ]
  },
  {
   "cell_type": "code",
   "execution_count": null,
   "metadata": {
    "execution": {
     "iopub.execute_input": "2021-10-16T16:48:51.903191Z",
     "iopub.status.busy": "2021-10-16T16:48:51.902599Z",
     "iopub.status.idle": "2021-10-16T16:48:56.271648Z",
     "shell.execute_reply": "2021-10-16T16:48:56.270588Z",
     "shell.execute_reply.started": "2021-10-16T16:48:51.903143Z"
    }
   },
   "outputs": [],
   "source": [
    "fig,ax=plt.subplots(3,6,figsize=(18,7))\n",
    "for x,y in zip(con_cols.columns,ax.flatten()):\n",
    "    sns.boxplot(df[x],ax=y)\n",
    "plt.tight_layout()\n",
    "plt.show()"
   ]
  },
  {
   "cell_type": "code",
   "execution_count": null,
   "metadata": {
    "execution": {
     "iopub.execute_input": "2021-10-16T16:48:56.273594Z",
     "iopub.status.busy": "2021-10-16T16:48:56.273065Z",
     "iopub.status.idle": "2021-10-16T16:48:56.292159Z",
     "shell.execute_reply": "2021-10-16T16:48:56.291286Z",
     "shell.execute_reply.started": "2021-10-16T16:48:56.273553Z"
    }
   },
   "outputs": [],
   "source": [
    "def outlier_check(data,n):\n",
    "    for col in data.columns:\n",
    "        if data[col].dtype == 'int64' or data[col].dtype == 'float64':\n",
    "            Q1 = data[col].quantile(0.25)\n",
    "            Q3 = data[col].quantile(0.75)\n",
    "            IQR = Q3 - Q1\n",
    "            lower_range= Q1-(n * IQR)\n",
    "            upper_range= Q3+(n * IQR)\n",
    "            print(f\"{col}\")\n",
    "            print(\"Number of outliers:\",data[(data[col] > upper_range) | (data[col] < lower_range)].shape[0])\n",
    "            print(\"Percentage of outliers:{0:10.3f}\".format(((data[(data[col] > upper_range) | (data[col] < lower_range)].shape[0])/data.shape[0])*100),\"%\\n\")"
   ]
  },
  {
   "cell_type": "code",
   "execution_count": null,
   "metadata": {
    "execution": {
     "iopub.execute_input": "2021-10-16T16:48:56.294398Z",
     "iopub.status.busy": "2021-10-16T16:48:56.293287Z",
     "iopub.status.idle": "2021-10-16T16:48:56.437646Z",
     "shell.execute_reply": "2021-10-16T16:48:56.436535Z",
     "shell.execute_reply.started": "2021-10-16T16:48:56.294356Z"
    }
   },
   "outputs": [],
   "source": [
    "outlier_check(df[['age','flight_distance','checkin_service','departure_delay_in_minutes','arrival_delay_in_minutes']], 1.5)"
   ]
  },
  {
   "cell_type": "markdown",
   "metadata": {},
   "source": [
    "# Exploratory Data Analysis"
   ]
  },
  {
   "cell_type": "code",
   "execution_count": null,
   "metadata": {
    "execution": {
     "iopub.execute_input": "2021-10-16T16:48:56.439507Z",
     "iopub.status.busy": "2021-10-16T16:48:56.439195Z",
     "iopub.status.idle": "2021-10-16T16:48:57.420052Z",
     "shell.execute_reply": "2021-10-16T16:48:57.418617Z",
     "shell.execute_reply.started": "2021-10-16T16:48:56.439466Z"
    }
   },
   "outputs": [],
   "source": [
    "# Analyzing target feature\n",
    "plt.figure(figsize=(15,5))\n",
    "plt.suptitle('Distribution of Target Feature: Satisfaction',fontsize=16)\n",
    "plt.subplot(1, 2, 1)\n",
    "sns.countplot(df['satisfaction'], palette = ['tomato','seagreen'])\n",
    "plt.title('Count_Plot')\n",
    "plt.ylabel('count')\n",
    "plt.subplot(1, 2, 2)\n",
    "plt.title('Pie_Plot')\n",
    "plt.pie(df[\"satisfaction\"].value_counts(),labels=df['satisfaction'].value_counts().index,autopct='%1.2f',colors=['tomato','seagreen'])\n",
    "plt.tight_layout()\n",
    "plt.show()"
   ]
  },
  {
   "cell_type": "markdown",
   "metadata": {},
   "source": [
    "- On analysing target feature, we can say that the dataset is balanced.\n",
    "- from the dataset, we can see more passengers are dissatisfied with the current ongoing passenger facing facilities provided by the airline franchise."
   ]
  },
  {
   "cell_type": "markdown",
   "metadata": {},
   "source": [
    "## Univariate Analysis"
   ]
  },
  {
   "cell_type": "markdown",
   "metadata": {
    "execution": {
     "iopub.execute_input": "2021-10-16T16:48:57.422614Z",
     "iopub.status.busy": "2021-10-16T16:48:57.422009Z",
     "iopub.status.idle": "2021-10-16T16:48:57.437997Z",
     "shell.execute_reply": "2021-10-16T16:48:57.436655Z",
     "shell.execute_reply.started": "2021-10-16T16:48:57.422560Z"
    }
   },
   "source": [
    "#### Performing Univariate Analysis on Categorical Columns"
   ]
  },
  {
   "cell_type": "code",
   "execution_count": null,
   "metadata": {
    "execution": {
     "iopub.execute_input": "2021-10-16T16:48:57.422614Z",
     "iopub.status.busy": "2021-10-16T16:48:57.422009Z",
     "iopub.status.idle": "2021-10-16T16:48:57.437997Z",
     "shell.execute_reply": "2021-10-16T16:48:57.436655Z",
     "shell.execute_reply.started": "2021-10-16T16:48:57.422560Z"
    }
   },
   "outputs": [],
   "source": [
    "cat_cols.columns"
   ]
  },
  {
   "cell_type": "code",
   "execution_count": null,
   "metadata": {
    "execution": {
     "iopub.execute_input": "2021-10-16T16:48:57.440245Z",
     "iopub.status.busy": "2021-10-16T16:48:57.439784Z",
     "iopub.status.idle": "2021-10-16T16:48:58.357638Z",
     "shell.execute_reply": "2021-10-16T16:48:58.356598Z",
     "shell.execute_reply.started": "2021-10-16T16:48:57.440178Z"
    }
   },
   "outputs": [],
   "source": [
    "plt.figure(figsize=(18,7))\n",
    "j=1\n",
    "for cols in cat_cols.columns:\n",
    "    plt.subplot(1,4,j)\n",
    "    plt.title(cols)\n",
    "    plt.pie(df[cols].value_counts(),labels=df[cols].value_counts().index,autopct='%1.2f')\n",
    "    j+=1\n",
    "    \n",
    "plt.tight_layout()\n",
    "plt.show()"
   ]
  },
  {
   "cell_type": "code",
   "execution_count": null,
   "metadata": {
    "execution": {
     "iopub.execute_input": "2021-10-16T16:48:58.363187Z",
     "iopub.status.busy": "2021-10-16T16:48:58.362614Z",
     "iopub.status.idle": "2021-10-16T16:49:00.957685Z",
     "shell.execute_reply": "2021-10-16T16:49:00.956578Z",
     "shell.execute_reply.started": "2021-10-16T16:48:58.363139Z"
    }
   },
   "outputs": [],
   "source": [
    "plt.figure(figsize=(18,5))\n",
    "j=1\n",
    "for cols in cat_cols.columns:\n",
    "    plt.subplot(1,4,j)\n",
    "    plt.title(cols)\n",
    "    sns.countplot(df[cols])\n",
    "    j+=1\n",
    "    \n",
    "plt.tight_layout()\n",
    "plt.show()"
   ]
  },
  {
   "cell_type": "markdown",
   "metadata": {},
   "source": [
    "### Inferences\n",
    "- The airline franchise is commonly used by both genders male and female. And the gender proprotion for the airline passenger is also similar i.e., 50:50.\n",
    "- In the past years, the airline company has more loyal customers in comparison to disloyal one's. The ratio for loyal to disloyal is approximately 81:19.\n",
    "- The airline franchise has attracted more business travelers. The ratio of business travelers to personal travelers is approximately 69:31.\n",
    "- The airline franchise has more customers who prefers to travel in business or economic class. There are very few people who opt for economic plus class."
   ]
  },
  {
   "cell_type": "markdown",
   "metadata": {},
   "source": [
    "#### Traveler Rating Analysis:"
   ]
  },
  {
   "cell_type": "code",
   "execution_count": null,
   "metadata": {
    "execution": {
     "iopub.execute_input": "2021-10-16T16:49:00.963483Z",
     "iopub.status.busy": "2021-10-16T16:49:00.962891Z",
     "iopub.status.idle": "2021-10-16T16:49:04.882117Z",
     "shell.execute_reply": "2021-10-16T16:49:04.881193Z",
     "shell.execute_reply.started": "2021-10-16T16:49:00.963417Z"
    }
   },
   "outputs": [],
   "source": [
    "plt.figure(figsize=(18,8))\n",
    "j = 1\n",
    "for cols in con_cols.iloc[:,2:-2].columns:\n",
    "    plt.subplot(2,7,j)\n",
    "    plt.title(cols)\n",
    "    plt.pie(df[cols].value_counts().sort_index(),labels=df[cols].value_counts().sort_index().index,autopct='%1.2f',colors=['slategrey','wheat','lightgreen','lavender','pink','aqua'])\n",
    "    j += 1\n",
    "plt.tight_layout()\n",
    "plt.show()"
   ]
  },
  {
   "cell_type": "markdown",
   "metadata": {
    "execution": {
     "iopub.execute_input": "2021-10-15T07:14:10.797598Z",
     "iopub.status.busy": "2021-10-15T07:14:10.797281Z",
     "iopub.status.idle": "2021-10-15T07:14:10.81242Z",
     "shell.execute_reply": "2021-10-15T07:14:10.811311Z",
     "shell.execute_reply.started": "2021-10-15T07:14:10.797553Z"
    }
   },
   "source": [
    "### Inferences\n",
    "-\t<b>Inflight wifi services:</b> Majority of customers have rated 2 or 3 stars for Inflight wifi services, Only 11% of customers have given 5 star rating. On whole, only 30% customers are satisfied with inflight-wifi service.\n",
    "-\t<b>Ease of online booking:</b> Majority of customers have rated 2 or 3 stars, only 32% of customers are satisfied with online booking system facility\n",
    "-\t<b>Departure_arrival_time_convenient:</b> Majority of them rated 4 and 5 implying that only 45% of customers are satisfied with airline flight timings and might have not have faced delay. \n",
    "-\tThe 55% of travelers have faced flight delay issues.\n",
    "-\t<b>Gate Location:</b> Majority customers have given 3 or 4 as the rating, only 13% of customers has given 5 as rating.\n",
    "-\tOn whole, 36% of travelers are satisfied with the gate location.\n",
    "-\t<b>Food and drink:</b> majority of 2, 3 and 5 rating in equal percentages, on whole, 45% of travelers satisfied with food and drink.\n",
    "-\t<b>Online boarding:</b> Many customers have rated for 4. On whole, 49% travelers are satisfied with online boarding facility.\n",
    "-\t<b>Seat comfort:</b> Many customers have rated for 4. On whole, 56% customers are satisfied with seat comfort.\n",
    "-\t<b>Inflight Entertainment:</b> Many customers have rated for 4. On whole, 52 % travelers are satisfied with inflight entertainments.\n",
    "-\t<b>Onboard Services:</b> Many customers have rated for 4. On whole, 52% travelers are satisfied with onboard service.\n",
    "-\t<b>Leg Room Services:</b> Many customers have rated for 4.On whole, 50% travelers are satisfied with leg_room_service.\n",
    "-\t<b>Baggage Handling:</b> Many customers have rated for 4. On whole, 62 % travelers are satisfied with baggage handling.\n",
    "-\t<b>Inflight Service:</b> Many customers have rated for 4.On whole, 62% travelers are satisfied with inflight_service.\n",
    "-\t<b>Cleanliness:</b>  Many customers have rated for 4.On whole, 47% travelers are satisfied with cleanliness.\n",
    "-\t<b>Checkin-service:</b> 47% travelers are satisfied with checkin-service."
   ]
  },
  {
   "cell_type": "markdown",
   "metadata": {
    "execution": {
     "iopub.execute_input": "2021-10-16T16:49:04.883594Z",
     "iopub.status.busy": "2021-10-16T16:49:04.883288Z",
     "iopub.status.idle": "2021-10-16T16:49:12.904095Z",
     "shell.execute_reply": "2021-10-16T16:49:12.903027Z",
     "shell.execute_reply.started": "2021-10-16T16:49:04.883556Z"
    }
   },
   "source": [
    "### Analysing Numeric Features"
   ]
  },
  {
   "cell_type": "code",
   "execution_count": null,
   "metadata": {
    "execution": {
     "iopub.execute_input": "2021-10-16T16:49:04.883594Z",
     "iopub.status.busy": "2021-10-16T16:49:04.883288Z",
     "iopub.status.idle": "2021-10-16T16:49:12.904095Z",
     "shell.execute_reply": "2021-10-16T16:49:12.903027Z",
     "shell.execute_reply.started": "2021-10-16T16:49:04.883556Z"
    }
   },
   "outputs": [],
   "source": [
    "plt.figure(figsize=(18,7))\n",
    "j=1\n",
    "for cols in con_cols[['age','flight_distance','departure_delay_in_minutes','arrival_delay_in_minutes']].columns:\n",
    "    plt.subplot(2,2,j)\n",
    "    sns.distplot(df[cols],kde=True)\n",
    "    j+=1\n",
    "plt.tight_layout()\n",
    "plt.show()"
   ]
  },
  {
   "cell_type": "markdown",
   "metadata": {},
   "source": [
    "<b>Inferences</b>\n",
    "- The airline franchise has more travelers in the age group 22 to 57.\n",
    "- More traveler have opted the airline franchise for short distance travel (10-800 miles).\n",
    "- More than 50% of the travelers have not faced delay in departure and arrival time."
   ]
  },
  {
   "cell_type": "code",
   "execution_count": null,
   "metadata": {
    "execution": {
     "iopub.execute_input": "2021-10-16T16:49:12.905948Z",
     "iopub.status.busy": "2021-10-16T16:49:12.905639Z",
     "iopub.status.idle": "2021-10-16T16:51:00.067064Z",
     "shell.execute_reply": "2021-10-16T16:51:00.065630Z",
     "shell.execute_reply.started": "2021-10-16T16:49:12.905909Z"
    }
   },
   "outputs": [],
   "source": [
    "df_=df.copy()\n",
    "for i in range(len(df_['departure_delay_in_minutes'])):\n",
    "    if df_['departure_delay_in_minutes'].iloc[i] == 0.0:\n",
    "        df_['departure_delay_in_minutes'].iloc[i]='No_Delay'\n",
    "    elif df_['departure_delay_in_minutes'].iloc[i] > 0.0 and df1['departure_delay_in_minutes'].iloc[i] < 10:\n",
    "        df_['departure_delay_in_minutes'].iloc[i]='1-10'\n",
    "    elif df_['departure_delay_in_minutes'].iloc[i] >= 10 and df1['departure_delay_in_minutes'].iloc[i] < 50:\n",
    "        df_['departure_delay_in_minutes'].iloc[i]='10-50'\n",
    "    elif df_['departure_delay_in_minutes'].iloc[i] >= 50.0 and df1['departure_delay_in_minutes'].iloc[i] < 100:\n",
    "        df_['departure_delay_in_minutes'].iloc[i]='50-100'\n",
    "    elif df_['departure_delay_in_minutes'].iloc[i] >= 100.0 and df1['departure_delay_in_minutes'].iloc[i] < 400:\n",
    "        df_['departure_delay_in_minutes'].iloc[i]='100-400'        \n",
    "    elif df_['departure_delay_in_minutes'].iloc[i] >=400  and df1['departure_delay_in_minutes'].iloc[i] < 800:\n",
    "        df_['departure_delay_in_minutes'].iloc[i]='400-800'\n",
    "    elif df_['departure_delay_in_minutes'].iloc[i] >= 800 and df1['departure_delay_in_minutes'].iloc[i] < 1200:\n",
    "        df_['departure_delay_in_minutes'].iloc[i]='800-1200'\n",
    "    else:\n",
    "        df_['departure_delay_in_minutes'].iloc[i]='>1200'"
   ]
  },
  {
   "cell_type": "code",
   "execution_count": null,
   "metadata": {
    "execution": {
     "iopub.execute_input": "2021-10-16T16:51:00.090320Z",
     "iopub.status.busy": "2021-10-16T16:51:00.089484Z",
     "iopub.status.idle": "2021-10-16T16:52:53.824823Z",
     "shell.execute_reply": "2021-10-16T16:52:53.823727Z",
     "shell.execute_reply.started": "2021-10-16T16:51:00.090267Z"
    }
   },
   "outputs": [],
   "source": [
    "for i in range(len(df_['arrival_delay_in_minutes'])):\n",
    "    if df_['arrival_delay_in_minutes'].iloc[i] == 0.0:\n",
    "        df_['arrival_delay_in_minutes'].iloc[i]='No_Delay'\n",
    "    elif df_['arrival_delay_in_minutes'].iloc[i] > 0.0 and df1['arrival_delay_in_minutes'].iloc[i] < 10:\n",
    "        df_['departure_delay_in_minutes'].iloc[i]='1-10'\n",
    "    elif df_['arrival_delay_in_minutes'].iloc[i] >= 10 and df1['arrival_delay_in_minutes'].iloc[i] < 50:\n",
    "        df_['arrival_delay_in_minutes'].iloc[i]='10-50'\n",
    "    elif df_['arrival_delay_in_minutes'].iloc[i] >= 50.0 and df1['arrival_delay_in_minutes'].iloc[i] < 100:\n",
    "        df_['departure_delay_in_minutes'].iloc[i]='50-100'\n",
    "    elif df_['arrival_delay_in_minutes'].iloc[i] >= 100.0 and df1['arrival_delay_in_minutes'].iloc[i] < 400:\n",
    "        df_['arrival_delay_in_minutes'].iloc[i]='100-400'        \n",
    "    elif df_['arrival_delay_in_minutes'].iloc[i] >=400  and df1['arrival_delay_in_minutes'].iloc[i] < 800:\n",
    "        df_['departure_delay_in_minutes'].iloc[i]='400-800'\n",
    "    elif df_['arrival_delay_in_minutes'].iloc[i] >= 800 and df1['arrival_delay_in_minutes'].iloc[i] < 1200:\n",
    "        df_['arrival_delay_in_minutes'].iloc[i]='800-1200'\n",
    "    else:\n",
    "        df_['arrival_delay_in_minutes'].iloc[i]='>1200'"
   ]
  },
  {
   "cell_type": "code",
   "execution_count": null,
   "metadata": {
    "execution": {
     "iopub.execute_input": "2021-10-16T16:52:53.826411Z",
     "iopub.status.busy": "2021-10-16T16:52:53.826099Z",
     "iopub.status.idle": "2021-10-16T16:52:54.890864Z",
     "shell.execute_reply": "2021-10-16T16:52:54.888940Z",
     "shell.execute_reply.started": "2021-10-16T16:52:53.826370Z"
    }
   },
   "outputs": [],
   "source": [
    "plt.figure(figsize=(18,5))\n",
    "plt.subplot(1,2,1)\n",
    "sns.countplot(df_['departure_delay_in_minutes'],order=['No_Delay','1-10','10-50','50-100','100-400','400-800','800-1200','>1200'])\n",
    "plt.grid()\n",
    "\n",
    "plt.subplot(1,2,2)\n",
    "sns.countplot(df_['arrival_delay_in_minutes'],order=['No_Delay','1-10','10-50','50-100','100-400','400-800','800-1200','>1200'])\n",
    "plt.grid()\n",
    "\n",
    "plt.tight_layout()\n",
    "plt.show()"
   ]
  },
  {
   "cell_type": "markdown",
   "metadata": {},
   "source": [
    "### Inferences\n",
    "- The airline franchise has more travelers in the age group 22 to 57.\n",
    "- More traveler have opted the airline franchise for short distance travel (10-800 miles).\n",
    "- More than 50% of the travelers have not faced delay in departure and arrival time."
   ]
  },
  {
   "cell_type": "markdown",
   "metadata": {},
   "source": [
    "## Bivariate Analysis"
   ]
  },
  {
   "cell_type": "markdown",
   "metadata": {},
   "source": [
    "- <b>Bivariate analysis w.r.t target feature i.e, satisfaction.</b>"
   ]
  },
  {
   "cell_type": "code",
   "execution_count": null,
   "metadata": {
    "execution": {
     "iopub.execute_input": "2021-10-16T16:52:54.896927Z",
     "iopub.status.busy": "2021-10-16T16:52:54.892338Z",
     "iopub.status.idle": "2021-10-16T16:52:56.219706Z",
     "shell.execute_reply": "2021-10-16T16:52:56.218815Z",
     "shell.execute_reply.started": "2021-10-16T16:52:54.896870Z"
    }
   },
   "outputs": [],
   "source": [
    "sns.catplot(data=df,col='Gender',x='satisfaction',kind='count')\n",
    "plt.tight_layout()\n",
    "plt.show()"
   ]
  },
  {
   "cell_type": "markdown",
   "metadata": {
    "execution": {
     "iopub.execute_input": "2021-10-15T07:47:04.730528Z",
     "iopub.status.busy": "2021-10-15T07:47:04.730239Z",
     "iopub.status.idle": "2021-10-15T07:47:05.190061Z",
     "shell.execute_reply": "2021-10-15T07:47:05.189218Z",
     "shell.execute_reply.started": "2021-10-15T07:47:04.730497Z"
    }
   },
   "source": [
    "- For both male and female passengers, number of dissatisfied passengers are on the higher in comparision to satisfied passengers."
   ]
  },
  {
   "cell_type": "code",
   "execution_count": null,
   "metadata": {
    "execution": {
     "iopub.execute_input": "2021-10-16T16:52:56.221644Z",
     "iopub.status.busy": "2021-10-16T16:52:56.221183Z",
     "iopub.status.idle": "2021-10-16T16:52:58.674797Z",
     "shell.execute_reply": "2021-10-16T16:52:58.673695Z",
     "shell.execute_reply.started": "2021-10-16T16:52:56.221605Z"
    }
   },
   "outputs": [],
   "source": [
    "sns.catplot(data=df,col='customer_type',x='satisfaction',kind='count')\n",
    "plt.tight_layout()\n",
    "plt.show()"
   ]
  },
  {
   "cell_type": "markdown",
   "metadata": {},
   "source": [
    "- For both loyal and disloyal passengers, the dissatisfaction ratio is on the higher side."
   ]
  },
  {
   "cell_type": "code",
   "execution_count": null,
   "metadata": {
    "execution": {
     "iopub.execute_input": "2021-10-16T16:52:58.683646Z",
     "iopub.status.busy": "2021-10-16T16:52:58.676347Z",
     "iopub.status.idle": "2021-10-16T16:53:00.184914Z",
     "shell.execute_reply": "2021-10-16T16:53:00.183827Z",
     "shell.execute_reply.started": "2021-10-16T16:52:58.683584Z"
    }
   },
   "outputs": [],
   "source": [
    "sns.catplot(data=df,col='type_of_travel',x='satisfaction',kind='count')\n",
    "plt.tight_layout()\n",
    "plt.show()"
   ]
  },
  {
   "cell_type": "code",
   "execution_count": null,
   "metadata": {
    "execution": {
     "iopub.execute_input": "2021-10-16T16:53:00.186896Z",
     "iopub.status.busy": "2021-10-16T16:53:00.186456Z",
     "iopub.status.idle": "2021-10-16T16:53:01.824225Z",
     "shell.execute_reply": "2021-10-16T16:53:01.823363Z",
     "shell.execute_reply.started": "2021-10-16T16:53:00.186799Z"
    }
   },
   "outputs": [],
   "source": [
    "sns.catplot(data=df,col='customer_class',x='satisfaction',kind='count')\n",
    "plt.tight_layout()\n",
    "plt.show()"
   ]
  },
  {
   "cell_type": "code",
   "execution_count": null,
   "metadata": {
    "execution": {
     "iopub.execute_input": "2021-10-16T16:53:01.826068Z",
     "iopub.status.busy": "2021-10-16T16:53:01.825571Z",
     "iopub.status.idle": "2021-10-16T16:53:03.594346Z",
     "shell.execute_reply": "2021-10-16T16:53:03.593010Z",
     "shell.execute_reply.started": "2021-10-16T16:53:01.826023Z"
    }
   },
   "outputs": [],
   "source": [
    "plt.figure(figsize=(18,5))\n",
    "sns.histplot(data= df,x='age',hue='satisfaction')\n",
    "plt.grid()\n",
    "plt.tight_layout()\n",
    "plt.show()"
   ]
  },
  {
   "cell_type": "code",
   "execution_count": null,
   "metadata": {
    "execution": {
     "iopub.execute_input": "2021-10-16T16:53:03.596442Z",
     "iopub.status.busy": "2021-10-16T16:53:03.596003Z",
     "iopub.status.idle": "2021-10-16T16:53:05.595922Z",
     "shell.execute_reply": "2021-10-16T16:53:05.595065Z",
     "shell.execute_reply.started": "2021-10-16T16:53:03.596382Z"
    }
   },
   "outputs": [],
   "source": [
    "plt.figure(figsize=(18,5))\n",
    "sns.histplot(data= df,x='flight_distance',hue='satisfaction')\n",
    "plt.grid()\n",
    "plt.tight_layout()\n",
    "plt.show()"
   ]
  },
  {
   "cell_type": "code",
   "execution_count": null,
   "metadata": {
    "execution": {
     "iopub.execute_input": "2021-10-16T16:53:05.597833Z",
     "iopub.status.busy": "2021-10-16T16:53:05.597364Z",
     "iopub.status.idle": "2021-10-16T16:53:06.667595Z",
     "shell.execute_reply": "2021-10-16T16:53:06.666591Z",
     "shell.execute_reply.started": "2021-10-16T16:53:05.597792Z"
    }
   },
   "outputs": [],
   "source": [
    "plt.figure(figsize=(18,5))\n",
    "sns.histplot(data= df,x='departure_delay_in_minutes',hue='satisfaction',bins=[0,10,50,100,500,1000,1500,1800])\n",
    "plt.grid()\n",
    "plt.tight_layout()\n",
    "plt.show()"
   ]
  },
  {
   "cell_type": "code",
   "execution_count": null,
   "metadata": {
    "execution": {
     "iopub.execute_input": "2021-10-16T16:53:06.669584Z",
     "iopub.status.busy": "2021-10-16T16:53:06.668982Z",
     "iopub.status.idle": "2021-10-16T16:53:07.670829Z",
     "shell.execute_reply": "2021-10-16T16:53:07.669687Z",
     "shell.execute_reply.started": "2021-10-16T16:53:06.669536Z"
    }
   },
   "outputs": [],
   "source": [
    "plt.figure(figsize=(18,5))\n",
    "sns.histplot(data= df,x='arrival_delay_in_minutes',hue='satisfaction',bins=[0,10,50,100,500,1000,1500,1800])\n",
    "plt.grid()\n",
    "plt.tight_layout()\n",
    "plt.show()"
   ]
  },
  {
   "cell_type": "markdown",
   "metadata": {
    "execution": {
     "iopub.execute_input": "2021-10-16T16:53:07.676793Z",
     "iopub.status.busy": "2021-10-16T16:53:07.676150Z",
     "iopub.status.idle": "2021-10-16T16:53:13.886175Z",
     "shell.execute_reply": "2021-10-16T16:53:13.885364Z",
     "shell.execute_reply.started": "2021-10-16T16:53:07.676729Z"
    }
   },
   "source": [
    "### Analysing Rating Features"
   ]
  },
  {
   "cell_type": "code",
   "execution_count": null,
   "metadata": {
    "execution": {
     "iopub.execute_input": "2021-10-16T16:53:07.676793Z",
     "iopub.status.busy": "2021-10-16T16:53:07.676150Z",
     "iopub.status.idle": "2021-10-16T16:53:13.886175Z",
     "shell.execute_reply": "2021-10-16T16:53:13.885364Z",
     "shell.execute_reply.started": "2021-10-16T16:53:07.676729Z"
    }
   },
   "outputs": [],
   "source": [
    "fig,ax=plt.subplots(7,2,figsize=(18,20))\n",
    "for cols,j in zip(con_cols.iloc[:,2:-2].columns,ax.flatten()):\n",
    "    \n",
    "    pd.crosstab(df[cols],df['satisfaction']).plot(kind='bar',stacked=False,ax=j,color=['lightsalmon','lightgreen'])\n",
    "\n",
    "\n",
    "plt.tight_layout()\n",
    "plt.show()"
   ]
  },
  {
   "cell_type": "code",
   "execution_count": null,
   "metadata": {
    "execution": {
     "iopub.execute_input": "2021-10-16T16:53:13.887987Z",
     "iopub.status.busy": "2021-10-16T16:53:13.887451Z",
     "iopub.status.idle": "2021-10-16T16:53:17.734854Z",
     "shell.execute_reply": "2021-10-16T16:53:17.733658Z",
     "shell.execute_reply.started": "2021-10-16T16:53:13.887941Z"
    }
   },
   "outputs": [],
   "source": [
    "df_['satisfaction']=[1 if i == 'satisfied' else 0 for i in df_['satisfaction']]\n",
    "plt.figure(figsize=(18,7))\n",
    "sns.heatmap(df_.corr(),annot=True,cmap='CMRmap_r')\n",
    "plt.show()"
   ]
  },
  {
   "cell_type": "markdown",
   "metadata": {},
   "source": [
    "<b>\"Ease_of_Online_booking\"</b> is highly correlated with <b>\"Inflight_wifi_service\"</b> and <b>\"Inflight_service\"</b> is highly correlated with <b>\"Baggage_handling\"</b>. But no pair is having corrrelation coefficient exactly equal to 1. Therefore there is no perfect multi-collinearity. Hence we are not discarding any variable."
   ]
  },
  {
   "cell_type": "markdown",
   "metadata": {
    "execution": {
     "iopub.execute_input": "2021-10-15T18:32:02.439716Z",
     "iopub.status.busy": "2021-10-15T18:32:02.439402Z",
     "iopub.status.idle": "2021-10-15T18:32:03.904429Z",
     "shell.execute_reply": "2021-10-15T18:32:03.903349Z",
     "shell.execute_reply.started": "2021-10-15T18:32:02.439685Z"
    }
   },
   "source": [
    "### Categorical vs Categorical Independent Features Analysis"
   ]
  },
  {
   "cell_type": "code",
   "execution_count": null,
   "metadata": {
    "execution": {
     "iopub.execute_input": "2021-10-16T16:53:17.743310Z",
     "iopub.status.busy": "2021-10-16T16:53:17.743007Z",
     "iopub.status.idle": "2021-10-16T16:53:18.916774Z",
     "shell.execute_reply": "2021-10-16T16:53:18.915608Z",
     "shell.execute_reply.started": "2021-10-16T16:53:17.743273Z"
    }
   },
   "outputs": [],
   "source": [
    "fig,ax=plt.subplots(1,3,figsize=(18,5))\n",
    "plt.rcParams.update({'font.size': 10})\n",
    "for i,j in zip(['customer_type', 'type_of_travel', 'customer_class'],ax.flatten()):\n",
    "    pd.crosstab(df['Gender'],df[i]).plot(kind='bar',stacked=True,ax=j)\n",
    "    \n",
    "plt.tight_layout()\n",
    "plt.show()"
   ]
  },
  {
   "cell_type": "code",
   "execution_count": null,
   "metadata": {
    "execution": {
     "iopub.execute_input": "2021-10-16T16:53:18.918769Z",
     "iopub.status.busy": "2021-10-16T16:53:18.918240Z",
     "iopub.status.idle": "2021-10-16T16:53:20.278776Z",
     "shell.execute_reply": "2021-10-16T16:53:20.277656Z",
     "shell.execute_reply.started": "2021-10-16T16:53:18.918725Z"
    }
   },
   "outputs": [],
   "source": [
    "fig,ax=plt.subplots(1,3,figsize=(18,5))\n",
    "plt.rcParams.update({'font.size': 10})\n",
    "for i,j in zip(['Gender', 'type_of_travel', 'customer_class'],ax.flatten()):\n",
    "    pd.crosstab(df['customer_type'],df[i]).plot(kind='bar',stacked=True,ax=j)\n",
    "    \n",
    "plt.tight_layout()\n",
    "plt.show()"
   ]
  },
  {
   "cell_type": "code",
   "execution_count": null,
   "metadata": {
    "execution": {
     "iopub.execute_input": "2021-10-16T16:53:20.280605Z",
     "iopub.status.busy": "2021-10-16T16:53:20.280284Z",
     "iopub.status.idle": "2021-10-16T16:53:21.605540Z",
     "shell.execute_reply": "2021-10-16T16:53:21.595584Z",
     "shell.execute_reply.started": "2021-10-16T16:53:20.280563Z"
    }
   },
   "outputs": [],
   "source": [
    "fig,ax=plt.subplots(1,3,figsize=(18,5))\n",
    "plt.rcParams.update({'font.size': 10})\n",
    "for i,j in zip(['Gender', 'customer_type', 'customer_class'],ax.flatten()):\n",
    "    pd.crosstab(df['type_of_travel'],df[i]).plot(kind='bar',stacked=True,ax=j)\n",
    "    \n",
    "plt.tight_layout()\n",
    "plt.show()"
   ]
  },
  {
   "cell_type": "code",
   "execution_count": null,
   "metadata": {
    "execution": {
     "iopub.execute_input": "2021-10-16T16:53:21.607738Z",
     "iopub.status.busy": "2021-10-16T16:53:21.607383Z",
     "iopub.status.idle": "2021-10-16T16:53:22.965038Z",
     "shell.execute_reply": "2021-10-16T16:53:22.963755Z",
     "shell.execute_reply.started": "2021-10-16T16:53:21.607695Z"
    }
   },
   "outputs": [],
   "source": [
    "fig,ax=plt.subplots(1,3,figsize=(18,5))\n",
    "plt.rcParams.update({'font.size': 10})\n",
    "for i,j in zip(['Gender', 'customer_type', 'type_of_travel'],ax.flatten()):\n",
    "    pd.crosstab(df['customer_class'],df[i]).plot(kind='bar',stacked=True,ax=j)\n",
    "    \n",
    "plt.tight_layout()\n",
    "plt.show()"
   ]
  },
  {
   "cell_type": "markdown",
   "metadata": {},
   "source": [
    "### Inferences:\n",
    "- It is observed that gender distribution in customer_types,type of travel and customer_classes are similar. \n",
    "- More % of disloyal cutomers are business travellers only.\n",
    "- More % of business travelers are considered as loyal customers with the airline.\n",
    "- Very less % of personal travelers are considered as disloyal customer in comparision to business travelers.\n",
    "- We can observe more loyal customer traveling in eco plus class.\n",
    "- There is an equal proportion of gender for Loyal and Disloyal Customers."
   ]
  },
  {
   "cell_type": "markdown",
   "metadata": {},
   "source": [
    "## Multivariate Analysis"
   ]
  },
  {
   "cell_type": "code",
   "execution_count": null,
   "metadata": {
    "execution": {
     "iopub.execute_input": "2021-10-16T16:53:22.966981Z",
     "iopub.status.busy": "2021-10-16T16:53:22.966677Z",
     "iopub.status.idle": "2021-10-16T16:53:23.027392Z",
     "shell.execute_reply": "2021-10-16T16:53:23.026333Z",
     "shell.execute_reply.started": "2021-10-16T16:53:22.966941Z"
    }
   },
   "outputs": [],
   "source": [
    "df.head()"
   ]
  },
  {
   "cell_type": "code",
   "execution_count": null,
   "metadata": {},
   "outputs": [],
   "source": []
  },
  {
   "cell_type": "code",
   "execution_count": null,
   "metadata": {
    "execution": {
     "iopub.execute_input": "2021-10-16T16:53:23.029341Z",
     "iopub.status.busy": "2021-10-16T16:53:23.028925Z",
     "iopub.status.idle": "2021-10-16T16:53:27.972512Z",
     "shell.execute_reply": "2021-10-16T16:53:27.971289Z",
     "shell.execute_reply.started": "2021-10-16T16:53:23.029299Z"
    }
   },
   "outputs": [],
   "source": [
    "sns.catplot(x=\"customer_class\", y=\"arrival_delay_in_minutes\", hue=\"satisfaction\", col=\"type_of_travel\",kind='bar', data=df,palette=['lime','k'])\n",
    "plt.show()"
   ]
  },
  {
   "cell_type": "code",
   "execution_count": null,
   "metadata": {
    "execution": {
     "iopub.execute_input": "2021-10-16T16:53:27.982674Z",
     "iopub.status.busy": "2021-10-16T16:53:27.974248Z",
     "iopub.status.idle": "2021-10-16T16:53:32.864613Z",
     "shell.execute_reply": "2021-10-16T16:53:32.863761Z",
     "shell.execute_reply.started": "2021-10-16T16:53:27.982598Z"
    }
   },
   "outputs": [],
   "source": [
    "sns.catplot(x=\"customer_class\", y=\"departure_delay_in_minutes\", hue=\"satisfaction\", col=\"type_of_travel\", data=df, kind=\"bar\",palette=['gray','k'])\n",
    "plt.show()"
   ]
  },
  {
   "cell_type": "markdown",
   "metadata": {},
   "source": [
    "- For any customer class and for any type of travel, customers are dissatisfied when there is a delay in the departure or in arrival"
   ]
  },
  {
   "cell_type": "code",
   "execution_count": null,
   "metadata": {
    "execution": {
     "iopub.execute_input": "2021-10-16T16:53:32.878662Z",
     "iopub.status.busy": "2021-10-16T16:53:32.868993Z",
     "iopub.status.idle": "2021-10-16T16:53:39.600572Z",
     "shell.execute_reply": "2021-10-16T16:53:39.599440Z",
     "shell.execute_reply.started": "2021-10-16T16:53:32.878595Z"
    }
   },
   "outputs": [],
   "source": [
    "sns.catplot(x=\"departure_arrival_time_convenient\", y=\"online_boarding\", hue=\"satisfaction\", col=\"customer_class\", data=df, kind=\"bar\",palette=['blue','m'])\n",
    "plt.show()"
   ]
  },
  {
   "cell_type": "markdown",
   "metadata": {},
   "source": [
    "- For Eco Plus class, very inconvenient Departure/Arrival time i.e., Departure/Arrival_time_convenient = 0 has high number of neutral/dissatisfied passengers, even when online boarding is on positive side. For other combinations, the number of satisfied passengers are higher compared to number of neutral/dissatisfied passengers."
   ]
  },
  {
   "cell_type": "code",
   "execution_count": null,
   "metadata": {
    "execution": {
     "iopub.execute_input": "2021-10-16T16:53:39.602460Z",
     "iopub.status.busy": "2021-10-16T16:53:39.602136Z",
     "iopub.status.idle": "2021-10-16T16:53:45.207765Z",
     "shell.execute_reply": "2021-10-16T16:53:45.206632Z",
     "shell.execute_reply.started": "2021-10-16T16:53:39.602404Z"
    }
   },
   "outputs": [],
   "source": [
    "sns.catplot(x=\"inflight_wifi_service\", y=\"inflight_entertainment\", hue=\"satisfaction\", col=\"customer_class\", data=df, kind=\"bar\",palette=['orchid','pink'])\n",
    "plt.show()"
   ]
  },
  {
   "cell_type": "markdown",
   "metadata": {},
   "source": [
    "- Eco Plus passengers are mostly satisfied without inflight wi-fi service (rating 0) and with moderate level of in-flight entertainment (rating 2 - 4).\n",
    "- For Business class passengers, only highest level of in-flight entertainment (rating 5) can bring satisfaction in them.\n",
    "- For Eco passengers, high level of in-flight entertainment (rating 3 - 5) and very high wi-fi service availability (rating 5) can make them satisfied."
   ]
  },
  {
   "cell_type": "code",
   "execution_count": null,
   "metadata": {
    "execution": {
     "iopub.execute_input": "2021-10-16T16:53:45.209737Z",
     "iopub.status.busy": "2021-10-16T16:53:45.209313Z",
     "iopub.status.idle": "2021-10-16T16:53:49.776935Z",
     "shell.execute_reply": "2021-10-16T16:53:49.775621Z",
     "shell.execute_reply.started": "2021-10-16T16:53:45.209693Z"
    }
   },
   "outputs": [],
   "source": [
    "sns.catplot(y=\"flight_distance\", x=\"type_of_travel\", hue=\"satisfaction\", col=\"customer_class\", data=df, kind=\"bar\", height=4.5, aspect=.8,palette=['orange','green'])\n",
    "plt.show()"
   ]
  },
  {
   "cell_type": "markdown",
   "metadata": {
    "execution": {
     "iopub.execute_input": "2021-10-16T07:13:53.430064Z",
     "iopub.status.busy": "2021-10-16T07:13:53.42905Z",
     "iopub.status.idle": "2021-10-16T07:13:53.437096Z",
     "shell.execute_reply": "2021-10-16T07:13:53.435417Z",
     "shell.execute_reply.started": "2021-10-16T07:13:53.430018Z"
    }
   },
   "source": [
    "- For business travel in business class category, the number of satisfied passengers are quite on the higher for longer flight distance.\n",
    "- For other combinations, almost equal distribution of satisfied and neutral/dissatisfied passengers is present."
   ]
  },
  {
   "cell_type": "code",
   "execution_count": null,
   "metadata": {},
   "outputs": [],
   "source": [
    "sns.catplot(y=\"inflight_wifi_service\", x=\"online_boarding\", hue=\"satisfaction\", col=\"type_of_travel\", data=df, kind=\"bar\", height=4.5, aspect=.8,palette=['red','orange'])\n",
    "plt.show()"
   ]
  },
  {
   "cell_type": "markdown",
   "metadata": {},
   "source": [
    "- Having inflight_wifi_service with higher rating are satisfied travelers and irrespective of the rating for online boarding, personal travel type passengers are satisfied.\n",
    "- With average inflight wifi service and at any level of online boarding business travel type of passengers are satisfied but people who rated for both online boarding and inflight wifi service 3 and above the ratio of satisfied to dissatisfied is near to 1."
   ]
  },
  {
   "cell_type": "code",
   "execution_count": null,
   "metadata": {},
   "outputs": [],
   "source": [
    "sns.catplot(y=\"inflight_wifi_service\", x=\"online_boarding\", hue=\"satisfaction\", col=\"customer_class\", data=df, kind=\"bar\", height=4.5, aspect=.8,palette=['red','purple'])\n",
    "plt.show()"
   ]
  },
  {
   "cell_type": "markdown",
   "metadata": {},
   "source": [
    "- Customer from eco plus class are highly satisfied with both inflight wifi service and online boarding but few people who are satisfied with inflight wifi service are not satisfied with online boarding service as they given rating to 1.\n",
    "- On an average customers from business class are satisfied with both inflight wifi service and online boarding as the given same rating for both.\n",
    "- Customer from eco class are highly satisfied with inflight wifi service and online boarding.\n"
   ]
  },
  {
   "cell_type": "markdown",
   "metadata": {
    "execution": {
     "iopub.execute_input": "2021-10-16T07:17:39.12542Z",
     "iopub.status.busy": "2021-10-16T07:17:39.125106Z",
     "iopub.status.idle": "2021-10-16T07:17:39.133366Z",
     "shell.execute_reply": "2021-10-16T07:17:39.132069Z",
     "shell.execute_reply.started": "2021-10-16T07:17:39.125391Z"
    }
   },
   "source": [
    "# Transforming Data"
   ]
  },
  {
   "cell_type": "code",
   "execution_count": null,
   "metadata": {
    "execution": {
     "iopub.execute_input": "2021-10-16T16:53:49.783070Z",
     "iopub.status.busy": "2021-10-16T16:53:49.782465Z",
     "iopub.status.idle": "2021-10-16T16:53:55.984693Z",
     "shell.execute_reply": "2021-10-16T16:53:55.983618Z",
     "shell.execute_reply.started": "2021-10-16T16:53:49.783017Z"
    }
   },
   "outputs": [],
   "source": [
    "num_col = con_cols[['age','flight_distance','departure_delay_in_minutes','arrival_delay_in_minutes']]\n",
    "\n",
    "pt=PowerTransformer()\n",
    "df_num=pd.DataFrame(pt.fit_transform(num_col),columns=num_col.columns)\n",
    "df_num.head()"
   ]
  },
  {
   "cell_type": "code",
   "execution_count": null,
   "metadata": {},
   "outputs": [],
   "source": [
    "rating_cols = con_cols.drop(['age','flight_distance','departure_delay_in_minutes','arrival_delay_in_minutes'],axis=1)\n",
    "rating_cols.head()"
   ]
  },
  {
   "cell_type": "markdown",
   "metadata": {
    "execution": {
     "iopub.execute_input": "2021-10-16T07:20:59.689014Z",
     "iopub.status.busy": "2021-10-16T07:20:59.688676Z",
     "iopub.status.idle": "2021-10-16T07:21:03.814682Z",
     "shell.execute_reply": "2021-10-16T07:21:03.813895Z",
     "shell.execute_reply.started": "2021-10-16T07:20:59.688981Z"
    }
   },
   "source": [
    "### Dummy Encoding for Categorical Features"
   ]
  },
  {
   "cell_type": "code",
   "execution_count": null,
   "metadata": {
    "execution": {
     "iopub.execute_input": "2021-10-16T16:53:55.986592Z",
     "iopub.status.busy": "2021-10-16T16:53:55.986250Z",
     "iopub.status.idle": "2021-10-16T16:53:56.119921Z",
     "shell.execute_reply": "2021-10-16T16:53:56.118603Z",
     "shell.execute_reply.started": "2021-10-16T16:53:55.986550Z"
    }
   },
   "outputs": [],
   "source": [
    "dummy=pd.get_dummies(cat_cols,drop_first=True)\n",
    "dummy.head()"
   ]
  },
  {
   "cell_type": "markdown",
   "metadata": {
    "execution": {
     "iopub.execute_input": "2021-10-16T16:53:56.122045Z",
     "iopub.status.busy": "2021-10-16T16:53:56.121521Z",
     "iopub.status.idle": "2021-10-16T16:53:56.302621Z",
     "shell.execute_reply": "2021-10-16T16:53:56.301583Z",
     "shell.execute_reply.started": "2021-10-16T16:53:56.121997Z"
    }
   },
   "source": [
    "### Concatenating Transformed Continuous Columns Data With Encoded Categorical Columns Data"
   ]
  },
  {
   "cell_type": "code",
   "execution_count": null,
   "metadata": {
    "execution": {
     "iopub.execute_input": "2021-10-16T16:53:56.122045Z",
     "iopub.status.busy": "2021-10-16T16:53:56.121521Z",
     "iopub.status.idle": "2021-10-16T16:53:56.302621Z",
     "shell.execute_reply": "2021-10-16T16:53:56.301583Z",
     "shell.execute_reply.started": "2021-10-16T16:53:56.121997Z"
    }
   },
   "outputs": [],
   "source": [
    "X=pd.concat([df_num,rating_cols,dummy],axis=1)\n",
    "y=df['satisfaction'].replace({'neutral or dissatisfied':0, 'satisfied':1})  # mapping dissatisfied customer to 0 and satisfied to 1"
   ]
  },
  {
   "cell_type": "code",
   "execution_count": null,
   "metadata": {
    "execution": {
     "iopub.execute_input": "2021-10-16T16:53:56.304404Z",
     "iopub.status.busy": "2021-10-16T16:53:56.303954Z",
     "iopub.status.idle": "2021-10-16T16:53:56.374779Z",
     "shell.execute_reply": "2021-10-16T16:53:56.373624Z",
     "shell.execute_reply.started": "2021-10-16T16:53:56.304362Z"
    }
   },
   "outputs": [],
   "source": [
    "X.head()"
   ]
  },
  {
   "cell_type": "code",
   "execution_count": null,
   "metadata": {
    "execution": {
     "iopub.execute_input": "2021-10-16T16:53:56.376792Z",
     "iopub.status.busy": "2021-10-16T16:53:56.376412Z",
     "iopub.status.idle": "2021-10-16T16:53:56.420749Z",
     "shell.execute_reply": "2021-10-16T16:53:56.419554Z",
     "shell.execute_reply.started": "2021-10-16T16:53:56.376735Z"
    }
   },
   "outputs": [],
   "source": [
    "print(df['satisfaction'].value_counts())\n",
    "print(y.value_counts())"
   ]
  },
  {
   "cell_type": "markdown",
   "metadata": {
    "execution": {
     "iopub.execute_input": "2021-10-16T07:26:51.631427Z",
     "iopub.status.busy": "2021-10-16T07:26:51.631089Z",
     "iopub.status.idle": "2021-10-16T07:26:51.636136Z",
     "shell.execute_reply": "2021-10-16T07:26:51.635064Z",
     "shell.execute_reply.started": "2021-10-16T07:26:51.631391Z"
    }
   },
   "source": [
    "# Model Building"
   ]
  },
  {
   "cell_type": "markdown",
   "metadata": {},
   "source": [
    "### Splitting The Data Into Train and Test Dataset"
   ]
  },
  {
   "cell_type": "code",
   "execution_count": null,
   "metadata": {
    "execution": {
     "iopub.execute_input": "2021-10-16T16:53:56.430645Z",
     "iopub.status.busy": "2021-10-16T16:53:56.422519Z",
     "iopub.status.idle": "2021-10-16T16:53:56.525134Z",
     "shell.execute_reply": "2021-10-16T16:53:56.524149Z",
     "shell.execute_reply.started": "2021-10-16T16:53:56.430577Z"
    }
   },
   "outputs": [],
   "source": [
    "X_train,X_test,y_train,y_test=train_test_split(X,y,test_size=0.2,random_state=42)\n",
    "print(\"Shape of X_train:\",X_train.shape)\n",
    "print(\"Shape of y_train:\",y_train.shape)\n",
    "print(\"Shape of X_test:\",X_test.shape)\n",
    "print(\"Shape of y_test:\",y_test.shape)"
   ]
  },
  {
   "cell_type": "markdown",
   "metadata": {
    "execution": {
     "iopub.execute_input": "2021-10-16T16:53:56.526980Z",
     "iopub.status.busy": "2021-10-16T16:53:56.526509Z",
     "iopub.status.idle": "2021-10-16T16:53:56.539481Z",
     "shell.execute_reply": "2021-10-16T16:53:56.538479Z",
     "shell.execute_reply.started": "2021-10-16T16:53:56.526937Z"
    }
   },
   "source": [
    "# Building Full Model"
   ]
  },
  {
   "cell_type": "markdown",
   "metadata": {},
   "source": [
    "## 1. Logistic Regression Model "
   ]
  },
  {
   "cell_type": "code",
   "execution_count": null,
   "metadata": {
    "execution": {
     "iopub.execute_input": "2021-10-16T16:53:56.541052Z",
     "iopub.status.busy": "2021-10-16T16:53:56.540731Z",
     "iopub.status.idle": "2021-10-16T16:53:58.030683Z",
     "shell.execute_reply": "2021-10-16T16:53:58.029326Z",
     "shell.execute_reply.started": "2021-10-16T16:53:56.541011Z"
    }
   },
   "outputs": [],
   "source": [
    "log_reg=LogisticRegression()\n",
    "log_reg.fit(X_train,y_train)"
   ]
  },
  {
   "cell_type": "code",
   "execution_count": null,
   "metadata": {
    "execution": {
     "iopub.execute_input": "2021-10-16T16:53:58.033388Z",
     "iopub.status.busy": "2021-10-16T16:53:58.032352Z",
     "iopub.status.idle": "2021-10-16T16:53:58.129672Z",
     "shell.execute_reply": "2021-10-16T16:53:58.128816Z",
     "shell.execute_reply.started": "2021-10-16T16:53:58.033340Z"
    }
   },
   "outputs": [],
   "source": [
    "print('Train_score: ',log_reg.score(X_train,y_train))\n",
    "print('Test_score: ',log_reg.score(X_test,y_test))"
   ]
  },
  {
   "cell_type": "code",
   "execution_count": null,
   "metadata": {
    "execution": {
     "iopub.execute_input": "2021-10-16T16:53:58.132059Z",
     "iopub.status.busy": "2021-10-16T16:53:58.131474Z",
     "iopub.status.idle": "2021-10-16T16:53:58.214903Z",
     "shell.execute_reply": "2021-10-16T16:53:58.213851Z",
     "shell.execute_reply.started": "2021-10-16T16:53:58.132007Z"
    }
   },
   "outputs": [],
   "source": [
    "ypred_proba_train=log_reg.predict_proba(X_train)[:,1]\n",
    "ypred_proba_test=log_reg.predict_proba(X_test)[:,1]"
   ]
  },
  {
   "cell_type": "markdown",
   "metadata": {},
   "source": [
    "### Plotting ROC_AUC Curve"
   ]
  },
  {
   "cell_type": "code",
   "execution_count": null,
   "metadata": {
    "execution": {
     "iopub.execute_input": "2021-10-16T16:53:58.217304Z",
     "iopub.status.busy": "2021-10-16T16:53:58.216709Z",
     "iopub.status.idle": "2021-10-16T16:53:58.724225Z",
     "shell.execute_reply": "2021-10-16T16:53:58.722969Z",
     "shell.execute_reply.started": "2021-10-16T16:53:58.217261Z"
    }
   },
   "outputs": [],
   "source": [
    "plt.figure(figsize=(10,5))\n",
    "from sklearn.metrics import roc_curve,roc_auc_score\n",
    "fpr,tpr,thresh=roc_curve(y_test,ypred_proba_test)\n",
    "plt.plot(fpr,tpr)\n",
    "plt.plot([[0,0],[1,1]],'r--')\n",
    "plt.title('ROC curve for passenger satisfaction prediction classifier (Full Model)', fontsize = 15)\n",
    "plt.xlabel('False positive rate (1-Specificity)', fontsize = 15)\n",
    "plt.ylabel('True positive rate (Sensitivity)', fontsize = 15)\n",
    "plt.tight_layout()\n",
    "plt.grid()\n",
    "plt.show()\n",
    "\n",
    "print('roc_auc_score: ',roc_auc_score(y_test,ypred_proba_test))"
   ]
  },
  {
   "cell_type": "markdown",
   "metadata": {
    "execution": {
     "iopub.execute_input": "2021-10-16T07:44:55.092577Z",
     "iopub.status.busy": "2021-10-16T07:44:55.092234Z",
     "iopub.status.idle": "2021-10-16T07:44:55.098187Z",
     "shell.execute_reply": "2021-10-16T07:44:55.097204Z",
     "shell.execute_reply.started": "2021-10-16T07:44:55.092545Z"
    }
   },
   "source": [
    "### Determining threshold Value for Logsitic Regression Model Using Youden Index"
   ]
  },
  {
   "cell_type": "code",
   "execution_count": null,
   "metadata": {
    "execution": {
     "iopub.execute_input": "2021-10-16T16:53:58.739677Z",
     "iopub.status.busy": "2021-10-16T16:53:58.729562Z",
     "iopub.status.idle": "2021-10-16T16:53:58.798076Z",
     "shell.execute_reply": "2021-10-16T16:53:58.796419Z",
     "shell.execute_reply.started": "2021-10-16T16:53:58.739604Z"
    }
   },
   "outputs": [],
   "source": [
    "roc_df = pd.DataFrame({'FPR':fpr,'TPR':tpr,'Threshold':thresh})\n",
    "roc_df['Youden'] = roc_df['TPR']-roc_df['FPR']\n",
    "roc_df"
   ]
  },
  {
   "cell_type": "markdown",
   "metadata": {},
   "source": [
    "### Finding Threshold Value Where Youden Index Value Is Maximum"
   ]
  },
  {
   "cell_type": "code",
   "execution_count": null,
   "metadata": {
    "execution": {
     "iopub.execute_input": "2021-10-16T16:53:58.800127Z",
     "iopub.status.busy": "2021-10-16T16:53:58.799816Z",
     "iopub.status.idle": "2021-10-16T16:53:58.836597Z",
     "shell.execute_reply": "2021-10-16T16:53:58.835183Z",
     "shell.execute_reply.started": "2021-10-16T16:53:58.800084Z"
    }
   },
   "outputs": [],
   "source": [
    "roc_df[roc_df['Youden'] == roc_df['Youden'].max()] "
   ]
  },
  {
   "cell_type": "code",
   "execution_count": null,
   "metadata": {
    "execution": {
     "iopub.execute_input": "2021-10-16T16:53:58.838489Z",
     "iopub.status.busy": "2021-10-16T16:53:58.838155Z",
     "iopub.status.idle": "2021-10-16T16:53:58.883168Z",
     "shell.execute_reply": "2021-10-16T16:53:58.881764Z",
     "shell.execute_reply.started": "2021-10-16T16:53:58.838444Z"
    }
   },
   "outputs": [],
   "source": [
    "ypred_test=[0 if i < 0.52 else 1 for i in ypred_proba_test]"
   ]
  },
  {
   "cell_type": "code",
   "execution_count": null,
   "metadata": {
    "execution": {
     "iopub.execute_input": "2021-10-16T16:53:58.885044Z",
     "iopub.status.busy": "2021-10-16T16:53:58.884754Z",
     "iopub.status.idle": "2021-10-16T16:53:59.059633Z",
     "shell.execute_reply": "2021-10-16T16:53:59.058584Z",
     "shell.execute_reply.started": "2021-10-16T16:53:58.885007Z"
    }
   },
   "outputs": [],
   "source": [
    "print(classification_report(y_test,ypred_test))"
   ]
  },
  {
   "cell_type": "code",
   "execution_count": null,
   "metadata": {
    "execution": {
     "iopub.execute_input": "2021-10-16T16:53:59.061395Z",
     "iopub.status.busy": "2021-10-16T16:53:59.060939Z",
     "iopub.status.idle": "2021-10-16T16:53:59.064991Z",
     "shell.execute_reply": "2021-10-16T16:53:59.064250Z",
     "shell.execute_reply.started": "2021-10-16T16:53:59.061355Z"
    }
   },
   "outputs": [],
   "source": [
    "from sklearn.model_selection import cross_val_score"
   ]
  },
  {
   "cell_type": "code",
   "execution_count": null,
   "metadata": {
    "execution": {
     "iopub.execute_input": "2021-10-16T16:53:59.067487Z",
     "iopub.status.busy": "2021-10-16T16:53:59.066608Z",
     "iopub.status.idle": "2021-10-16T16:54:04.875957Z",
     "shell.execute_reply": "2021-10-16T16:54:04.875035Z",
     "shell.execute_reply.started": "2021-10-16T16:53:59.067447Z"
    }
   },
   "outputs": [],
   "source": [
    "scores=cross_val_score(estimator=log_reg,X=X_train,y=y_train,cv=5,scoring='precision')\n",
    "print('score: ',scores)\n",
    "print('Bias error:',1-np.mean(scores))\n",
    "print('Variance error:', np.std(scores)/np.mean(scores))"
   ]
  },
  {
   "cell_type": "markdown",
   "metadata": {},
   "source": [
    "### Building Peformance Table For Each Model"
   ]
  },
  {
   "cell_type": "code",
   "execution_count": null,
   "metadata": {
    "execution": {
     "iopub.execute_input": "2021-10-16T16:54:04.880027Z",
     "iopub.status.busy": "2021-10-16T16:54:04.878325Z",
     "iopub.status.idle": "2021-10-16T16:54:04.910296Z",
     "shell.execute_reply": "2021-10-16T16:54:04.908996Z",
     "shell.execute_reply.started": "2021-10-16T16:54:04.879977Z"
    }
   },
   "outputs": [],
   "source": [
    "p_table = pd.DataFrame(columns=['Model Name','Train Accuracy','Test Accuracy','Precision Score','Recall Score','Kappa Score','F1-score'])\n",
    "\n",
    "def performance_table(model_name,model,sfs=False):\n",
    "    \n",
    "    global p_table\n",
    "    \n",
    "    if sfs==False:\n",
    "        global X_train,X_test,y_test,y_train\n",
    "        ypred_train = model.predict(X_train)\n",
    "        ypred_test = model.predict(X_test)\n",
    "        p_table = p_table.append({'Model Name':model_name,\n",
    "                                  'Train Accuracy':accuracy_score(y_train,ypred_train),\n",
    "                               'Test Accuracy':accuracy_score(y_test,ypred_test),\n",
    "                                'Precision Score': precision_score(y_test, ypred_test),\n",
    "                                'Recall Score': recall_score(y_test, ypred_test),\n",
    "                                'Kappa Score':cohen_kappa_score(y_test, ypred_test),\n",
    "                                'F1-score': f1_score(y_test, ypred_test)},ignore_index=True)\n",
    "        return p_table\n",
    "    else:\n",
    "        global X1_train,X1_test,y1_test,y1_train\n",
    "        ypred_train = model.predict(X1_train)\n",
    "        ypred_test = model.predict(X1_test)\n",
    "        p_table = p_table.append({'Model Name':model_name,\n",
    "                                  'Train Accuracy':accuracy_score(y1_train,ypred_train),\n",
    "                               'Test Accuracy':accuracy_score(y1_test,ypred_test),\n",
    "                                'Precision Score': precision_score(y1_test, ypred_test),\n",
    "                                'Recall Score': recall_score(y1_test, ypred_test),\n",
    "                                'Kappa Score':cohen_kappa_score(y1_test, ypred_test),\n",
    "                                'F1-score': f1_score(y1_test, ypred_test)},ignore_index=True)\n",
    "        return p_table\n",
    "        "
   ]
  },
  {
   "cell_type": "code",
   "execution_count": null,
   "metadata": {
    "execution": {
     "iopub.execute_input": "2021-10-16T16:54:04.914923Z",
     "iopub.status.busy": "2021-10-16T16:54:04.913187Z",
     "iopub.status.idle": "2021-10-16T16:54:05.139080Z",
     "shell.execute_reply": "2021-10-16T16:54:05.138016Z",
     "shell.execute_reply.started": "2021-10-16T16:54:04.914867Z"
    }
   },
   "outputs": [],
   "source": [
    "performance_table('Logistic_Regression_full_model',log_reg) # logistic regression model o/p using threshold 0.5 default_value"
   ]
  },
  {
   "cell_type": "markdown",
   "metadata": {},
   "source": [
    "## 2. Gaussian Naive Bayes"
   ]
  },
  {
   "cell_type": "code",
   "execution_count": 204,
   "metadata": {},
   "outputs": [
    {
     "data": {
      "text/plain": [
       "GaussianNB()"
      ]
     },
     "execution_count": 204,
     "metadata": {},
     "output_type": "execute_result"
    }
   ],
   "source": [
    "gnb = GaussianNB()\n",
    "gnb.fit(X_train,y_train)"
   ]
  },
  {
   "cell_type": "code",
   "execution_count": 205,
   "metadata": {},
   "outputs": [],
   "source": [
    "ypred_test_gnb = gnb.predict(X_test)\n",
    "ypred_train_gnb = gnb.predict(X_train)"
   ]
  },
  {
   "cell_type": "code",
   "execution_count": 206,
   "metadata": {},
   "outputs": [
    {
     "name": "stdout",
     "output_type": "stream",
     "text": [
      "Accuracy For Train Data : 0.8655\n",
      "Accuracy For Test Data : 0.8653\n"
     ]
    }
   ],
   "source": [
    "print('Accuracy For Train Data :',round(accuracy_score(y_train,ypred_train_gnb),4))\n",
    "print('Accuracy For Test Data :',round(accuracy_score(y_test,ypred_test_gnb),4))"
   ]
  },
  {
   "cell_type": "code",
   "execution_count": 207,
   "metadata": {},
   "outputs": [
    {
     "name": "stdout",
     "output_type": "stream",
     "text": [
      "Classification Report For Train Data :\n",
      "\n",
      "               precision    recall  f1-score   support\n",
      "\n",
      "           0       0.86      0.90      0.88     58830\n",
      "           1       0.87      0.82      0.84     45074\n",
      "\n",
      "    accuracy                           0.87    103904\n",
      "   macro avg       0.87      0.86      0.86    103904\n",
      "weighted avg       0.87      0.87      0.86    103904\n",
      "\n",
      "Classification Report For Test Data :\n",
      "\n",
      "               precision    recall  f1-score   support\n",
      "\n",
      "           0       0.86      0.90      0.88     14622\n",
      "           1       0.87      0.82      0.84     11354\n",
      "\n",
      "    accuracy                           0.87     25976\n",
      "   macro avg       0.87      0.86      0.86     25976\n",
      "weighted avg       0.87      0.87      0.86     25976\n",
      "\n"
     ]
    }
   ],
   "source": [
    "print('Classification Report For Train Data :\\n\\n',classification_report(y_train,ypred_train_gnb))\n",
    "print('Classification Report For Test Data :\\n\\n',classification_report(y_test,ypred_test_gnb))"
   ]
  },
  {
   "cell_type": "code",
   "execution_count": 208,
   "metadata": {},
   "outputs": [
    {
     "name": "stdout",
     "output_type": "stream",
     "text": [
      "Confusion Matrix For Train Data :\n",
      "\n",
      " [[53152  5678]\n",
      " [ 8302 36772]]\n",
      "\n",
      "\n",
      "\n",
      "Confusion Matrix For Test Data :\n",
      "\n",
      " [[13179  1443]\n",
      " [ 2057  9297]]\n"
     ]
    }
   ],
   "source": [
    "print(\"Confusion Matrix For Train Data :\\n\\n\",confusion_matrix(y_train,ypred_train_gnb))\n",
    "print(\"\\n\\n\")\n",
    "print(\"Confusion Matrix For Test Data :\\n\\n\",confusion_matrix(y_test,ypred_test_gnb))"
   ]
  },
  {
   "cell_type": "code",
   "execution_count": 282,
   "metadata": {},
   "outputs": [
    {
     "data": {
      "text/html": [
       "<div>\n",
       "<style scoped>\n",
       "    .dataframe tbody tr th:only-of-type {\n",
       "        vertical-align: middle;\n",
       "    }\n",
       "\n",
       "    .dataframe tbody tr th {\n",
       "        vertical-align: top;\n",
       "    }\n",
       "\n",
       "    .dataframe thead th {\n",
       "        text-align: right;\n",
       "    }\n",
       "</style>\n",
       "<table border=\"1\" class=\"dataframe\">\n",
       "  <thead>\n",
       "    <tr style=\"text-align: right;\">\n",
       "      <th></th>\n",
       "      <th>Model Name</th>\n",
       "      <th>Train Accuracy</th>\n",
       "      <th>Test Accuracy</th>\n",
       "      <th>Precision Score</th>\n",
       "      <th>Recall Score</th>\n",
       "      <th>Kappa Score</th>\n",
       "      <th>F1-score</th>\n",
       "    </tr>\n",
       "  </thead>\n",
       "  <tbody>\n",
       "    <tr>\n",
       "      <th>0</th>\n",
       "      <td>Logistic_Regression_full_model</td>\n",
       "      <td>0.874413</td>\n",
       "      <td>0.875038</td>\n",
       "      <td>0.870161</td>\n",
       "      <td>0.839352</td>\n",
       "      <td>0.745049</td>\n",
       "      <td>0.854479</td>\n",
       "    </tr>\n",
       "    <tr>\n",
       "      <th>1</th>\n",
       "      <td>GaussianNB</td>\n",
       "      <td>0.865453</td>\n",
       "      <td>0.865260</td>\n",
       "      <td>0.865642</td>\n",
       "      <td>0.818830</td>\n",
       "      <td>0.724522</td>\n",
       "      <td>0.841586</td>\n",
       "    </tr>\n",
       "  </tbody>\n",
       "</table>\n",
       "</div>"
      ],
      "text/plain": [
       "                       Model Name  Train Accuracy  Test Accuracy  \\\n",
       "0  Logistic_Regression_full_model        0.874413       0.875038   \n",
       "1                      GaussianNB        0.865453       0.865260   \n",
       "\n",
       "   Precision Score  Recall Score  Kappa Score  F1-score  \n",
       "0         0.870161      0.839352     0.745049  0.854479  \n",
       "1         0.865642      0.818830     0.724522  0.841586  "
      ]
     },
     "execution_count": 282,
     "metadata": {},
     "output_type": "execute_result"
    }
   ],
   "source": [
    "performance_table(\"GaussianNB\",gnb)"
   ]
  },
  {
   "cell_type": "markdown",
   "metadata": {},
   "source": [
    "## 3. KNN Model"
   ]
  },
  {
   "cell_type": "code",
   "execution_count": 223,
   "metadata": {},
   "outputs": [
    {
     "data": {
      "text/plain": [
       "KNeighborsClassifier(n_neighbors=3)"
      ]
     },
     "execution_count": 223,
     "metadata": {},
     "output_type": "execute_result"
    }
   ],
   "source": [
    "knn = KNeighborsClassifier(n_neighbors=3)\n",
    "knn.fit(X_train,y_train)"
   ]
  },
  {
   "cell_type": "code",
   "execution_count": 224,
   "metadata": {},
   "outputs": [],
   "source": [
    "ypred_test_knn = knn.predict(X_test)\n",
    "ypred_train_knn = knn.predict(X_train) "
   ]
  },
  {
   "cell_type": "code",
   "execution_count": 228,
   "metadata": {},
   "outputs": [
    {
     "name": "stdout",
     "output_type": "stream",
     "text": [
      "Accuracy For Train Data : 0.9582\n",
      "Accuracy For Test Data : 0.9239\n"
     ]
    }
   ],
   "source": [
    "print('Accuracy For Train Data :',round(accuracy_score(y_train,ypred_train_knn),4))\n",
    "print('Accuracy For Test Data :',round(accuracy_score(y_test,ypred_test_knn),4))"
   ]
  },
  {
   "cell_type": "code",
   "execution_count": 229,
   "metadata": {},
   "outputs": [
    {
     "name": "stdout",
     "output_type": "stream",
     "text": [
      "Classification Report For Train Data :\n",
      "\n",
      "               precision    recall  f1-score   support\n",
      "\n",
      "           0       0.95      0.97      0.96     58830\n",
      "           1       0.97      0.94      0.95     45074\n",
      "\n",
      "    accuracy                           0.96    103904\n",
      "   macro avg       0.96      0.96      0.96    103904\n",
      "weighted avg       0.96      0.96      0.96    103904\n",
      "\n",
      "Classification Report For Test Data :\n",
      "\n",
      "               precision    recall  f1-score   support\n",
      "\n",
      "           0       0.92      0.95      0.93     14622\n",
      "           1       0.93      0.89      0.91     11354\n",
      "\n",
      "    accuracy                           0.92     25976\n",
      "   macro avg       0.93      0.92      0.92     25976\n",
      "weighted avg       0.92      0.92      0.92     25976\n",
      "\n"
     ]
    }
   ],
   "source": [
    "print('Classification Report For Train Data :\\n\\n',classification_report(y_train,ypred_train_knn))\n",
    "print('Classification Report For Test Data :\\n\\n',classification_report(y_test,ypred_test_knn))"
   ]
  },
  {
   "cell_type": "code",
   "execution_count": 283,
   "metadata": {},
   "outputs": [
    {
     "data": {
      "text/html": [
       "<div>\n",
       "<style scoped>\n",
       "    .dataframe tbody tr th:only-of-type {\n",
       "        vertical-align: middle;\n",
       "    }\n",
       "\n",
       "    .dataframe tbody tr th {\n",
       "        vertical-align: top;\n",
       "    }\n",
       "\n",
       "    .dataframe thead th {\n",
       "        text-align: right;\n",
       "    }\n",
       "</style>\n",
       "<table border=\"1\" class=\"dataframe\">\n",
       "  <thead>\n",
       "    <tr style=\"text-align: right;\">\n",
       "      <th></th>\n",
       "      <th>Model Name</th>\n",
       "      <th>Train Accuracy</th>\n",
       "      <th>Test Accuracy</th>\n",
       "      <th>Precision Score</th>\n",
       "      <th>Recall Score</th>\n",
       "      <th>Kappa Score</th>\n",
       "      <th>F1-score</th>\n",
       "    </tr>\n",
       "  </thead>\n",
       "  <tbody>\n",
       "    <tr>\n",
       "      <th>0</th>\n",
       "      <td>Logistic_Regression_full_model</td>\n",
       "      <td>0.874413</td>\n",
       "      <td>0.875038</td>\n",
       "      <td>0.870161</td>\n",
       "      <td>0.839352</td>\n",
       "      <td>0.745049</td>\n",
       "      <td>0.854479</td>\n",
       "    </tr>\n",
       "    <tr>\n",
       "      <th>1</th>\n",
       "      <td>GaussianNB</td>\n",
       "      <td>0.865453</td>\n",
       "      <td>0.865260</td>\n",
       "      <td>0.865642</td>\n",
       "      <td>0.818830</td>\n",
       "      <td>0.724522</td>\n",
       "      <td>0.841586</td>\n",
       "    </tr>\n",
       "    <tr>\n",
       "      <th>2</th>\n",
       "      <td>KNeighboursClassifier</td>\n",
       "      <td>0.958211</td>\n",
       "      <td>0.923930</td>\n",
       "      <td>0.934650</td>\n",
       "      <td>0.888057</td>\n",
       "      <td>0.844547</td>\n",
       "      <td>0.910758</td>\n",
       "    </tr>\n",
       "  </tbody>\n",
       "</table>\n",
       "</div>"
      ],
      "text/plain": [
       "                       Model Name  Train Accuracy  Test Accuracy  \\\n",
       "0  Logistic_Regression_full_model        0.874413       0.875038   \n",
       "1                      GaussianNB        0.865453       0.865260   \n",
       "2           KNeighboursClassifier        0.958211       0.923930   \n",
       "\n",
       "   Precision Score  Recall Score  Kappa Score  F1-score  \n",
       "0         0.870161      0.839352     0.745049  0.854479  \n",
       "1         0.865642      0.818830     0.724522  0.841586  \n",
       "2         0.934650      0.888057     0.844547  0.910758  "
      ]
     },
     "execution_count": 283,
     "metadata": {},
     "output_type": "execute_result"
    }
   ],
   "source": [
    "performance_table('KNeighboursClassifier',knn)"
   ]
  },
  {
   "cell_type": "markdown",
   "metadata": {},
   "source": [
    "## 4. Decision Tree Classifier"
   ]
  },
  {
   "cell_type": "code",
   "execution_count": 209,
   "metadata": {},
   "outputs": [
    {
     "data": {
      "text/plain": [
       "DecisionTreeClassifier()"
      ]
     },
     "execution_count": 209,
     "metadata": {},
     "output_type": "execute_result"
    }
   ],
   "source": [
    "DT = DecisionTreeClassifier()\n",
    "DT.fit(X_train, y_train)"
   ]
  },
  {
   "cell_type": "code",
   "execution_count": 210,
   "metadata": {},
   "outputs": [],
   "source": [
    "ypred_test_DT = DT.predict(X_test)\n",
    "ypred_train_DT = DT.predict(X_train)"
   ]
  },
  {
   "cell_type": "code",
   "execution_count": 211,
   "metadata": {},
   "outputs": [
    {
     "name": "stdout",
     "output_type": "stream",
     "text": [
      "Accuracy For Train Data : 1.0\n",
      "Accuracy For Test Data : 0.9441\n"
     ]
    }
   ],
   "source": [
    "print('Accuracy For Train Data :',round(accuracy_score(y_train,ypred_train_DT),4))\n",
    "print('Accuracy For Test Data :',round(accuracy_score(y_test,ypred_test_DT),4))"
   ]
  },
  {
   "cell_type": "code",
   "execution_count": 212,
   "metadata": {},
   "outputs": [
    {
     "name": "stdout",
     "output_type": "stream",
     "text": [
      "Classification Report For Train Data :\n",
      "\n",
      "               precision    recall  f1-score   support\n",
      "\n",
      "           0       1.00      1.00      1.00     58830\n",
      "           1       1.00      1.00      1.00     45074\n",
      "\n",
      "    accuracy                           1.00    103904\n",
      "   macro avg       1.00      1.00      1.00    103904\n",
      "weighted avg       1.00      1.00      1.00    103904\n",
      "\n",
      "Classification Report For Test Data :\n",
      "\n",
      "               precision    recall  f1-score   support\n",
      "\n",
      "           0       0.95      0.95      0.95     14622\n",
      "           1       0.94      0.93      0.94     11354\n",
      "\n",
      "    accuracy                           0.94     25976\n",
      "   macro avg       0.94      0.94      0.94     25976\n",
      "weighted avg       0.94      0.94      0.94     25976\n",
      "\n"
     ]
    }
   ],
   "source": [
    "print('Classification Report For Train Data :\\n\\n',classification_report(y_train,ypred_train_DT))\n",
    "print('Classification Report For Test Data :\\n\\n',classification_report(y_test,ypred_test_DT))"
   ]
  },
  {
   "cell_type": "code",
   "execution_count": 213,
   "metadata": {},
   "outputs": [
    {
     "name": "stdout",
     "output_type": "stream",
     "text": [
      "Confusion Matrix For Train Data :\n",
      "\n",
      " [[58830     0]\n",
      " [    0 45074]]\n",
      "\n",
      "\n",
      "\n",
      "Confusion Matrix For Test Data :\n",
      "\n",
      " [[13916   706]\n",
      " [  745 10609]]\n"
     ]
    }
   ],
   "source": [
    "print(\"Confusion Matrix For Train Data :\\n\\n\",confusion_matrix(y_train,ypred_train_DT))\n",
    "print(\"\\n\\n\")\n",
    "print(\"Confusion Matrix For Test Data :\\n\\n\",confusion_matrix(y_test,ypred_test_DT))"
   ]
  },
  {
   "cell_type": "code",
   "execution_count": 284,
   "metadata": {},
   "outputs": [
    {
     "data": {
      "text/html": [
       "<div>\n",
       "<style scoped>\n",
       "    .dataframe tbody tr th:only-of-type {\n",
       "        vertical-align: middle;\n",
       "    }\n",
       "\n",
       "    .dataframe tbody tr th {\n",
       "        vertical-align: top;\n",
       "    }\n",
       "\n",
       "    .dataframe thead th {\n",
       "        text-align: right;\n",
       "    }\n",
       "</style>\n",
       "<table border=\"1\" class=\"dataframe\">\n",
       "  <thead>\n",
       "    <tr style=\"text-align: right;\">\n",
       "      <th></th>\n",
       "      <th>Model Name</th>\n",
       "      <th>Train Accuracy</th>\n",
       "      <th>Test Accuracy</th>\n",
       "      <th>Precision Score</th>\n",
       "      <th>Recall Score</th>\n",
       "      <th>Kappa Score</th>\n",
       "      <th>F1-score</th>\n",
       "    </tr>\n",
       "  </thead>\n",
       "  <tbody>\n",
       "    <tr>\n",
       "      <th>0</th>\n",
       "      <td>Logistic_Regression_full_model</td>\n",
       "      <td>0.874413</td>\n",
       "      <td>0.875038</td>\n",
       "      <td>0.870161</td>\n",
       "      <td>0.839352</td>\n",
       "      <td>0.745049</td>\n",
       "      <td>0.854479</td>\n",
       "    </tr>\n",
       "    <tr>\n",
       "      <th>1</th>\n",
       "      <td>GaussianNB</td>\n",
       "      <td>0.865453</td>\n",
       "      <td>0.865260</td>\n",
       "      <td>0.865642</td>\n",
       "      <td>0.818830</td>\n",
       "      <td>0.724522</td>\n",
       "      <td>0.841586</td>\n",
       "    </tr>\n",
       "    <tr>\n",
       "      <th>2</th>\n",
       "      <td>KNeighboursClassifier</td>\n",
       "      <td>0.958211</td>\n",
       "      <td>0.923930</td>\n",
       "      <td>0.934650</td>\n",
       "      <td>0.888057</td>\n",
       "      <td>0.844547</td>\n",
       "      <td>0.910758</td>\n",
       "    </tr>\n",
       "    <tr>\n",
       "      <th>3</th>\n",
       "      <td>DecisionTreeClassifier</td>\n",
       "      <td>1.000000</td>\n",
       "      <td>0.944141</td>\n",
       "      <td>0.937605</td>\n",
       "      <td>0.934384</td>\n",
       "      <td>0.886441</td>\n",
       "      <td>0.935992</td>\n",
       "    </tr>\n",
       "  </tbody>\n",
       "</table>\n",
       "</div>"
      ],
      "text/plain": [
       "                       Model Name  Train Accuracy  Test Accuracy  \\\n",
       "0  Logistic_Regression_full_model        0.874413       0.875038   \n",
       "1                      GaussianNB        0.865453       0.865260   \n",
       "2           KNeighboursClassifier        0.958211       0.923930   \n",
       "3          DecisionTreeClassifier        1.000000       0.944141   \n",
       "\n",
       "   Precision Score  Recall Score  Kappa Score  F1-score  \n",
       "0         0.870161      0.839352     0.745049  0.854479  \n",
       "1         0.865642      0.818830     0.724522  0.841586  \n",
       "2         0.934650      0.888057     0.844547  0.910758  \n",
       "3         0.937605      0.934384     0.886441  0.935992  "
      ]
     },
     "execution_count": 284,
     "metadata": {},
     "output_type": "execute_result"
    }
   ],
   "source": [
    "performance_table('DecisionTreeClassifier',DT)"
   ]
  },
  {
   "cell_type": "markdown",
   "metadata": {},
   "source": [
    "### Cross Val Score for Decision Tree"
   ]
  },
  {
   "cell_type": "code",
   "execution_count": 362,
   "metadata": {},
   "outputs": [
    {
     "name": "stderr",
     "output_type": "stream",
     "text": [
      "[Parallel(n_jobs=1)]: Using backend SequentialBackend with 1 concurrent workers.\n"
     ]
    },
    {
     "name": "stdout",
     "output_type": "stream",
     "text": [
      "[CV] END .................................................... total time=   0.5s\n"
     ]
    },
    {
     "name": "stderr",
     "output_type": "stream",
     "text": [
      "[Parallel(n_jobs=1)]: Done   1 out of   1 | elapsed:    0.5s remaining:    0.0s\n"
     ]
    },
    {
     "name": "stdout",
     "output_type": "stream",
     "text": [
      "[CV] END .................................................... total time=   0.5s\n",
      "[CV] END .................................................... total time=   0.4s\n",
      "[CV] END .................................................... total time=   0.5s\n",
      "[CV] END .................................................... total time=   0.5s\n",
      "Score : [0.93603624 0.92984778 0.93345105 0.93664004 0.9335464 ]\n",
      "Bias Error: 0.066\n",
      "Variance Error: 0.003\n"
     ]
    },
    {
     "name": "stderr",
     "output_type": "stream",
     "text": [
      "[Parallel(n_jobs=1)]: Done   5 out of   5 | elapsed:    2.9s finished\n"
     ]
    }
   ],
   "source": [
    "dt_cv = DecisionTreeClassifier()\n",
    "score1 = cross_val_score(estimator=dt_cv,X=X_train,y=y_train,cv=5,verbose=2,scoring='precision')\n",
    "print(\"Score :\",score1)\n",
    "print('Bias Error:',round(1-np.mean(score1),3))\n",
    "print('Variance Error:',round(np.std(score1)/np.mean(score1),3))"
   ]
  },
  {
   "cell_type": "markdown",
   "metadata": {},
   "source": [
    "### Feature Importance For Decision Tree Classifier Base Model"
   ]
  },
  {
   "cell_type": "code",
   "execution_count": 307,
   "metadata": {},
   "outputs": [
    {
     "data": {
      "text/html": [
       "<div>\n",
       "<style scoped>\n",
       "    .dataframe tbody tr th:only-of-type {\n",
       "        vertical-align: middle;\n",
       "    }\n",
       "\n",
       "    .dataframe tbody tr th {\n",
       "        vertical-align: top;\n",
       "    }\n",
       "\n",
       "    .dataframe thead th {\n",
       "        text-align: right;\n",
       "    }\n",
       "</style>\n",
       "<table border=\"1\" class=\"dataframe\">\n",
       "  <thead>\n",
       "    <tr style=\"text-align: right;\">\n",
       "      <th></th>\n",
       "      <th>column</th>\n",
       "      <th>imp</th>\n",
       "    </tr>\n",
       "  </thead>\n",
       "  <tbody>\n",
       "    <tr>\n",
       "      <th>9</th>\n",
       "      <td>online_boarding</td>\n",
       "      <td>0.4</td>\n",
       "    </tr>\n",
       "    <tr>\n",
       "      <th>20</th>\n",
       "      <td>type_of_travel_Personal Travel</td>\n",
       "      <td>0.2</td>\n",
       "    </tr>\n",
       "    <tr>\n",
       "      <th>4</th>\n",
       "      <td>inflight_wifi_service</td>\n",
       "      <td>0.2</td>\n",
       "    </tr>\n",
       "    <tr>\n",
       "      <th>0</th>\n",
       "      <td>age</td>\n",
       "      <td>0.0</td>\n",
       "    </tr>\n",
       "    <tr>\n",
       "      <th>13</th>\n",
       "      <td>leg_room_service</td>\n",
       "      <td>0.0</td>\n",
       "    </tr>\n",
       "    <tr>\n",
       "      <th>21</th>\n",
       "      <td>customer_class_Eco</td>\n",
       "      <td>0.0</td>\n",
       "    </tr>\n",
       "    <tr>\n",
       "      <th>19</th>\n",
       "      <td>customer_type_disloyal Customer</td>\n",
       "      <td>0.0</td>\n",
       "    </tr>\n",
       "    <tr>\n",
       "      <th>18</th>\n",
       "      <td>Gender_Male</td>\n",
       "      <td>0.0</td>\n",
       "    </tr>\n",
       "    <tr>\n",
       "      <th>17</th>\n",
       "      <td>cleanliness</td>\n",
       "      <td>0.0</td>\n",
       "    </tr>\n",
       "    <tr>\n",
       "      <th>16</th>\n",
       "      <td>inflight_service</td>\n",
       "      <td>0.0</td>\n",
       "    </tr>\n",
       "    <tr>\n",
       "      <th>15</th>\n",
       "      <td>checkin_service</td>\n",
       "      <td>0.0</td>\n",
       "    </tr>\n",
       "    <tr>\n",
       "      <th>14</th>\n",
       "      <td>baggage_handling</td>\n",
       "      <td>0.0</td>\n",
       "    </tr>\n",
       "    <tr>\n",
       "      <th>11</th>\n",
       "      <td>inflight_entertainment</td>\n",
       "      <td>0.0</td>\n",
       "    </tr>\n",
       "    <tr>\n",
       "      <th>12</th>\n",
       "      <td>onboard_service</td>\n",
       "      <td>0.0</td>\n",
       "    </tr>\n",
       "    <tr>\n",
       "      <th>1</th>\n",
       "      <td>flight_distance</td>\n",
       "      <td>0.0</td>\n",
       "    </tr>\n",
       "    <tr>\n",
       "      <th>10</th>\n",
       "      <td>seat_comfort</td>\n",
       "      <td>0.0</td>\n",
       "    </tr>\n",
       "    <tr>\n",
       "      <th>8</th>\n",
       "      <td>food_and_drink</td>\n",
       "      <td>0.0</td>\n",
       "    </tr>\n",
       "    <tr>\n",
       "      <th>7</th>\n",
       "      <td>gate_location</td>\n",
       "      <td>0.0</td>\n",
       "    </tr>\n",
       "    <tr>\n",
       "      <th>6</th>\n",
       "      <td>ease_of_online_booking</td>\n",
       "      <td>0.0</td>\n",
       "    </tr>\n",
       "    <tr>\n",
       "      <th>5</th>\n",
       "      <td>departure_arrival_time_convenient</td>\n",
       "      <td>0.0</td>\n",
       "    </tr>\n",
       "    <tr>\n",
       "      <th>3</th>\n",
       "      <td>arrival_delay_in_minutes</td>\n",
       "      <td>0.0</td>\n",
       "    </tr>\n",
       "    <tr>\n",
       "      <th>2</th>\n",
       "      <td>departure_delay_in_minutes</td>\n",
       "      <td>0.0</td>\n",
       "    </tr>\n",
       "    <tr>\n",
       "      <th>22</th>\n",
       "      <td>customer_class_Eco Plus</td>\n",
       "      <td>0.0</td>\n",
       "    </tr>\n",
       "  </tbody>\n",
       "</table>\n",
       "</div>"
      ],
      "text/plain": [
       "                               column  imp\n",
       "9                     online_boarding  0.4\n",
       "20     type_of_travel_Personal Travel  0.2\n",
       "4               inflight_wifi_service  0.2\n",
       "0                                 age  0.0\n",
       "13                   leg_room_service  0.0\n",
       "21                 customer_class_Eco  0.0\n",
       "19    customer_type_disloyal Customer  0.0\n",
       "18                        Gender_Male  0.0\n",
       "17                        cleanliness  0.0\n",
       "16                   inflight_service  0.0\n",
       "15                    checkin_service  0.0\n",
       "14                   baggage_handling  0.0\n",
       "11             inflight_entertainment  0.0\n",
       "12                    onboard_service  0.0\n",
       "1                     flight_distance  0.0\n",
       "10                       seat_comfort  0.0\n",
       "8                      food_and_drink  0.0\n",
       "7                       gate_location  0.0\n",
       "6              ease_of_online_booking  0.0\n",
       "5   departure_arrival_time_convenient  0.0\n",
       "3            arrival_delay_in_minutes  0.0\n",
       "2          departure_delay_in_minutes  0.0\n",
       "22            customer_class_Eco Plus  0.0"
      ]
     },
     "execution_count": 307,
     "metadata": {},
     "output_type": "execute_result"
    }
   ],
   "source": [
    "imp_feature_DT = pd.DataFrame({'column':X_train.columns,'imp':np.round(DT.feature_importances_,1)})\n",
    "sorted_feature_DT = imp_feature_DT.sort_values('imp',ascending=False)\n",
    "sorted_feature_DT"
   ]
  },
  {
   "cell_type": "code",
   "execution_count": 308,
   "metadata": {},
   "outputs": [
    {
     "data": {
      "image/png": "[encoded data removed]",
      "text/plain": [
       "<Figure size 1080x720 with 1 Axes>"
      ]
     },
     "metadata": {
      "needs_background": "light"
     },
     "output_type": "display_data"
    }
   ],
   "source": [
    "plt.figure(figsize=(15,10))\n",
    "plt.rcParams.update({'font.size': 15})\n",
    "sns.barplot(sorted_feature_DT['imp'],sorted_feature_DT['column'])\n",
    "plt.title('Bar Plot For Feature Importance',size=20)\n",
    "plt.xlabel('Importance',size=20)\n",
    "plt.ylabel('Features',size=20)\n",
    "plt.show()"
   ]
  },
  {
   "cell_type": "markdown",
   "metadata": {},
   "source": [
    "Here only three features having importance, rest of the feature importance reduces to zero so we can select only above three features having greater than 0 importance value."
   ]
  },
  {
   "cell_type": "markdown",
   "metadata": {},
   "source": [
    "## 5. Random Forest Classifier"
   ]
  },
  {
   "cell_type": "code",
   "execution_count": 214,
   "metadata": {},
   "outputs": [
    {
     "data": {
      "text/plain": [
       "RandomForestClassifier()"
      ]
     },
     "execution_count": 214,
     "metadata": {},
     "output_type": "execute_result"
    }
   ],
   "source": [
    "rf = RandomForestClassifier()\n",
    "rf.fit(X_train,y_train)"
   ]
  },
  {
   "cell_type": "code",
   "execution_count": 215,
   "metadata": {},
   "outputs": [],
   "source": [
    "ypred_test_rf = rf.predict(X_test)\n",
    "ypred_train_rf = rf.predict(X_train)"
   ]
  },
  {
   "cell_type": "code",
   "execution_count": 216,
   "metadata": {},
   "outputs": [
    {
     "name": "stdout",
     "output_type": "stream",
     "text": [
      "Accuracy For Train Data : 1.0\n",
      "Accuracy For Test Data : 0.9608869725900832\n"
     ]
    }
   ],
   "source": [
    "print(\"Accuracy For Train Data :\",accuracy_score(y_train,ypred_train_rf))\n",
    "print(\"Accuracy For Test Data :\",accuracy_score(y_test,ypred_test_rf))"
   ]
  },
  {
   "cell_type": "code",
   "execution_count": 217,
   "metadata": {},
   "outputs": [
    {
     "name": "stdout",
     "output_type": "stream",
     "text": [
      "Classification Report For Train :\n",
      "\n",
      "               precision    recall  f1-score   support\n",
      "\n",
      "           0       1.00      1.00      1.00     58830\n",
      "           1       1.00      1.00      1.00     45074\n",
      "\n",
      "    accuracy                           1.00    103904\n",
      "   macro avg       1.00      1.00      1.00    103904\n",
      "weighted avg       1.00      1.00      1.00    103904\n",
      "\n",
      "\n",
      "\n",
      "\n",
      "Classification Report For Test :\n",
      "\n",
      "               precision    recall  f1-score   support\n",
      "\n",
      "           0       0.95      0.98      0.97     14622\n",
      "           1       0.97      0.94      0.95     11354\n",
      "\n",
      "    accuracy                           0.96     25976\n",
      "   macro avg       0.96      0.96      0.96     25976\n",
      "weighted avg       0.96      0.96      0.96     25976\n",
      "\n"
     ]
    }
   ],
   "source": [
    "print(\"Classification Report For Train :\\n\\n\",classification_report(y_train,ypred_train_rf))\n",
    "print(\"\\n\\n\")\n",
    "print(\"Classification Report For Test :\\n\\n\",classification_report(y_test,ypred_test_rf))"
   ]
  },
  {
   "cell_type": "code",
   "execution_count": 218,
   "metadata": {},
   "outputs": [
    {
     "name": "stdout",
     "output_type": "stream",
     "text": [
      "Confusion Matrix For Train :\n",
      "\n",
      " [[58830     0]\n",
      " [    0 45074]]\n",
      "\n",
      "\n",
      "\n",
      "Confusion Matrix For Test :\n",
      "\n",
      " [[14342   280]\n",
      " [  736 10618]]\n"
     ]
    }
   ],
   "source": [
    "print(\"Confusion Matrix For Train :\\n\\n\",confusion_matrix(y_train,ypred_train_rf))\n",
    "print(\"\\n\\n\")\n",
    "print(\"Confusion Matrix For Test :\\n\\n\",confusion_matrix(y_test,ypred_test_rf))"
   ]
  },
  {
   "cell_type": "code",
   "execution_count": 285,
   "metadata": {},
   "outputs": [
    {
     "data": {
      "text/html": [
       "<div>\n",
       "<style scoped>\n",
       "    .dataframe tbody tr th:only-of-type {\n",
       "        vertical-align: middle;\n",
       "    }\n",
       "\n",
       "    .dataframe tbody tr th {\n",
       "        vertical-align: top;\n",
       "    }\n",
       "\n",
       "    .dataframe thead th {\n",
       "        text-align: right;\n",
       "    }\n",
       "</style>\n",
       "<table border=\"1\" class=\"dataframe\">\n",
       "  <thead>\n",
       "    <tr style=\"text-align: right;\">\n",
       "      <th></th>\n",
       "      <th>Model Name</th>\n",
       "      <th>Train Accuracy</th>\n",
       "      <th>Test Accuracy</th>\n",
       "      <th>Precision Score</th>\n",
       "      <th>Recall Score</th>\n",
       "      <th>Kappa Score</th>\n",
       "      <th>F1-score</th>\n",
       "    </tr>\n",
       "  </thead>\n",
       "  <tbody>\n",
       "    <tr>\n",
       "      <th>0</th>\n",
       "      <td>Logistic_Regression_full_model</td>\n",
       "      <td>0.874413</td>\n",
       "      <td>0.875038</td>\n",
       "      <td>0.870161</td>\n",
       "      <td>0.839352</td>\n",
       "      <td>0.745049</td>\n",
       "      <td>0.854479</td>\n",
       "    </tr>\n",
       "    <tr>\n",
       "      <th>1</th>\n",
       "      <td>GaussianNB</td>\n",
       "      <td>0.865453</td>\n",
       "      <td>0.865260</td>\n",
       "      <td>0.865642</td>\n",
       "      <td>0.818830</td>\n",
       "      <td>0.724522</td>\n",
       "      <td>0.841586</td>\n",
       "    </tr>\n",
       "    <tr>\n",
       "      <th>2</th>\n",
       "      <td>KNeighboursClassifier</td>\n",
       "      <td>0.958211</td>\n",
       "      <td>0.923930</td>\n",
       "      <td>0.934650</td>\n",
       "      <td>0.888057</td>\n",
       "      <td>0.844547</td>\n",
       "      <td>0.910758</td>\n",
       "    </tr>\n",
       "    <tr>\n",
       "      <th>3</th>\n",
       "      <td>DecisionTreeClassifier</td>\n",
       "      <td>1.000000</td>\n",
       "      <td>0.944141</td>\n",
       "      <td>0.937605</td>\n",
       "      <td>0.934384</td>\n",
       "      <td>0.886441</td>\n",
       "      <td>0.935992</td>\n",
       "    </tr>\n",
       "    <tr>\n",
       "      <th>4</th>\n",
       "      <td>RandomForestClassifier</td>\n",
       "      <td>1.000000</td>\n",
       "      <td>0.960887</td>\n",
       "      <td>0.974307</td>\n",
       "      <td>0.935177</td>\n",
       "      <td>0.920158</td>\n",
       "      <td>0.954341</td>\n",
       "    </tr>\n",
       "  </tbody>\n",
       "</table>\n",
       "</div>"
      ],
      "text/plain": [
       "                       Model Name  Train Accuracy  Test Accuracy  \\\n",
       "0  Logistic_Regression_full_model        0.874413       0.875038   \n",
       "1                      GaussianNB        0.865453       0.865260   \n",
       "2           KNeighboursClassifier        0.958211       0.923930   \n",
       "3          DecisionTreeClassifier        1.000000       0.944141   \n",
       "4          RandomForestClassifier        1.000000       0.960887   \n",
       "\n",
       "   Precision Score  Recall Score  Kappa Score  F1-score  \n",
       "0         0.870161      0.839352     0.745049  0.854479  \n",
       "1         0.865642      0.818830     0.724522  0.841586  \n",
       "2         0.934650      0.888057     0.844547  0.910758  \n",
       "3         0.937605      0.934384     0.886441  0.935992  \n",
       "4         0.974307      0.935177     0.920158  0.954341  "
      ]
     },
     "execution_count": 285,
     "metadata": {},
     "output_type": "execute_result"
    }
   ],
   "source": [
    "performance_table('RandomForestClassifier',rf)"
   ]
  },
  {
   "cell_type": "markdown",
   "metadata": {},
   "source": [
    "### Cross Val Score for Random Forest Classifier"
   ]
  },
  {
   "cell_type": "code",
   "execution_count": 365,
   "metadata": {},
   "outputs": [
    {
     "name": "stderr",
     "output_type": "stream",
     "text": [
      "[Parallel(n_jobs=1)]: Using backend SequentialBackend with 1 concurrent workers.\n"
     ]
    },
    {
     "name": "stdout",
     "output_type": "stream",
     "text": [
      "[CV] END .................................................... total time=   9.5s\n"
     ]
    },
    {
     "name": "stderr",
     "output_type": "stream",
     "text": [
      "[Parallel(n_jobs=1)]: Done   1 out of   1 | elapsed:    9.5s remaining:    0.0s\n"
     ]
    },
    {
     "name": "stdout",
     "output_type": "stream",
     "text": [
      "[CV] END .................................................... total time=   9.1s\n",
      "[CV] END .................................................... total time=   9.2s\n",
      "[CV] END .................................................... total time=   9.2s\n",
      "[CV] END .................................................... total time=   9.3s\n",
      "Score : [0.97116931 0.97257287 0.96919024 0.97235604 0.97305664]\n",
      "Bias Error: 0.028\n",
      "Variance Error: 0.001\n"
     ]
    },
    {
     "name": "stderr",
     "output_type": "stream",
     "text": [
      "[Parallel(n_jobs=1)]: Done   5 out of   5 | elapsed:   46.8s finished\n"
     ]
    }
   ],
   "source": [
    "rfc_cv = RandomForestClassifier()\n",
    "score2 = cross_val_score(estimator=rfc_cv,X=X_train,y=y_train,cv=5,verbose=2,scoring='precision')\n",
    "print(\"Score :\",score2)\n",
    "print('Bias Error:',round(1-np.mean(score2),3))\n",
    "print('Variance Error:',round(np.std(score2)/np.mean(score2),3))"
   ]
  },
  {
   "cell_type": "markdown",
   "metadata": {},
   "source": [
    "## 6. AdaBoost Classifier"
   ]
  },
  {
   "cell_type": "code",
   "execution_count": 219,
   "metadata": {},
   "outputs": [
    {
     "data": {
      "text/plain": [
       "AdaBoostClassifier()"
      ]
     },
     "execution_count": 219,
     "metadata": {},
     "output_type": "execute_result"
    }
   ],
   "source": [
    "# adb = AdaBoostClassifier()\n",
    "# adb.fit(X_train,y_train)"
   ]
  },
  {
   "cell_type": "code",
   "execution_count": 220,
   "metadata": {},
   "outputs": [],
   "source": [
    "# ypred_test_adb = adb.predict(X_test)\n",
    "# ypred_train_adb = adb.predict(X_train)"
   ]
  },
  {
   "cell_type": "code",
   "execution_count": 221,
   "metadata": {},
   "outputs": [
    {
     "name": "stdout",
     "output_type": "stream",
     "text": [
      "Accuracy For Train Data : 0.9273560209424084\n",
      "Accuracy For Test Data : 0.9269710502001848\n"
     ]
    }
   ],
   "source": [
    "# print(\"Accuracy For Train Data :\",accuracy_score(y_train,ypred_train_adb))\n",
    "# print(\"Accuracy For Test Data :\",accuracy_score(y_test,ypred_test_adb))"
   ]
  },
  {
   "cell_type": "code",
   "execution_count": 222,
   "metadata": {},
   "outputs": [
    {
     "name": "stdout",
     "output_type": "stream",
     "text": [
      "Classification Report For Train :\n",
      "\n",
      "               precision    recall  f1-score   support\n",
      "\n",
      "           0       0.93      0.94      0.94     58830\n",
      "           1       0.92      0.91      0.92     45074\n",
      "\n",
      "    accuracy                           0.93    103904\n",
      "   macro avg       0.93      0.93      0.93    103904\n",
      "weighted avg       0.93      0.93      0.93    103904\n",
      "\n",
      "\n",
      "\n",
      "\n",
      "Classification Report For Test :\n",
      "\n",
      "               precision    recall  f1-score   support\n",
      "\n",
      "           0       0.93      0.95      0.94     14622\n",
      "           1       0.93      0.90      0.92     11354\n",
      "\n",
      "    accuracy                           0.93     25976\n",
      "   macro avg       0.93      0.92      0.93     25976\n",
      "weighted avg       0.93      0.93      0.93     25976\n",
      "\n"
     ]
    }
   ],
   "source": [
    "# print(\"Classification Report For Train :\\n\\n\",classification_report(y_train,ypred_train_adb))\n",
    "# print(\"\\n\\n\")\n",
    "# print(\"Classification Report For Test :\\n\\n\",classification_report(y_test,ypred_test_adb))"
   ]
  },
  {
   "cell_type": "code",
   "execution_count": 286,
   "metadata": {},
   "outputs": [
    {
     "data": {
      "text/html": [
       "<div>\n",
       "<style scoped>\n",
       "    .dataframe tbody tr th:only-of-type {\n",
       "        vertical-align: middle;\n",
       "    }\n",
       "\n",
       "    .dataframe tbody tr th {\n",
       "        vertical-align: top;\n",
       "    }\n",
       "\n",
       "    .dataframe thead th {\n",
       "        text-align: right;\n",
       "    }\n",
       "</style>\n",
       "<table border=\"1\" class=\"dataframe\">\n",
       "  <thead>\n",
       "    <tr style=\"text-align: right;\">\n",
       "      <th></th>\n",
       "      <th>Model Name</th>\n",
       "      <th>Train Accuracy</th>\n",
       "      <th>Test Accuracy</th>\n",
       "      <th>Precision Score</th>\n",
       "      <th>Recall Score</th>\n",
       "      <th>Kappa Score</th>\n",
       "      <th>F1-score</th>\n",
       "    </tr>\n",
       "  </thead>\n",
       "  <tbody>\n",
       "    <tr>\n",
       "      <th>0</th>\n",
       "      <td>Logistic_Regression_full_model</td>\n",
       "      <td>0.874413</td>\n",
       "      <td>0.875038</td>\n",
       "      <td>0.870161</td>\n",
       "      <td>0.839352</td>\n",
       "      <td>0.745049</td>\n",
       "      <td>0.854479</td>\n",
       "    </tr>\n",
       "    <tr>\n",
       "      <th>1</th>\n",
       "      <td>GaussianNB</td>\n",
       "      <td>0.865453</td>\n",
       "      <td>0.865260</td>\n",
       "      <td>0.865642</td>\n",
       "      <td>0.818830</td>\n",
       "      <td>0.724522</td>\n",
       "      <td>0.841586</td>\n",
       "    </tr>\n",
       "    <tr>\n",
       "      <th>2</th>\n",
       "      <td>KNeighboursClassifier</td>\n",
       "      <td>0.958211</td>\n",
       "      <td>0.923930</td>\n",
       "      <td>0.934650</td>\n",
       "      <td>0.888057</td>\n",
       "      <td>0.844547</td>\n",
       "      <td>0.910758</td>\n",
       "    </tr>\n",
       "    <tr>\n",
       "      <th>3</th>\n",
       "      <td>DecisionTreeClassifier</td>\n",
       "      <td>1.000000</td>\n",
       "      <td>0.944141</td>\n",
       "      <td>0.937605</td>\n",
       "      <td>0.934384</td>\n",
       "      <td>0.886441</td>\n",
       "      <td>0.935992</td>\n",
       "    </tr>\n",
       "    <tr>\n",
       "      <th>4</th>\n",
       "      <td>RandomForestClassifier</td>\n",
       "      <td>1.000000</td>\n",
       "      <td>0.960887</td>\n",
       "      <td>0.974307</td>\n",
       "      <td>0.935177</td>\n",
       "      <td>0.920158</td>\n",
       "      <td>0.954341</td>\n",
       "    </tr>\n",
       "    <tr>\n",
       "      <th>5</th>\n",
       "      <td>AdaBoostClassifier</td>\n",
       "      <td>0.927356</td>\n",
       "      <td>0.926971</td>\n",
       "      <td>0.927338</td>\n",
       "      <td>0.903734</td>\n",
       "      <td>0.851170</td>\n",
       "      <td>0.915384</td>\n",
       "    </tr>\n",
       "  </tbody>\n",
       "</table>\n",
       "</div>"
      ],
      "text/plain": [
       "                       Model Name  Train Accuracy  Test Accuracy  \\\n",
       "0  Logistic_Regression_full_model        0.874413       0.875038   \n",
       "1                      GaussianNB        0.865453       0.865260   \n",
       "2           KNeighboursClassifier        0.958211       0.923930   \n",
       "3          DecisionTreeClassifier        1.000000       0.944141   \n",
       "4          RandomForestClassifier        1.000000       0.960887   \n",
       "5              AdaBoostClassifier        0.927356       0.926971   \n",
       "\n",
       "   Precision Score  Recall Score  Kappa Score  F1-score  \n",
       "0         0.870161      0.839352     0.745049  0.854479  \n",
       "1         0.865642      0.818830     0.724522  0.841586  \n",
       "2         0.934650      0.888057     0.844547  0.910758  \n",
       "3         0.937605      0.934384     0.886441  0.935992  \n",
       "4         0.974307      0.935177     0.920158  0.954341  \n",
       "5         0.927338      0.903734     0.851170  0.915384  "
      ]
     },
     "execution_count": 286,
     "metadata": {},
     "output_type": "execute_result"
    }
   ],
   "source": [
    "# performance_table('AdaBoostClassifier',adb)"
   ]
  },
  {
   "cell_type": "markdown",
   "metadata": {},
   "source": [
    "### Checking Best Model By Using Cross Val Score"
   ]
  },
  {
   "cell_type": "code",
   "execution_count": 117,
   "metadata": {},
   "outputs": [
    {
     "name": "stderr",
     "output_type": "stream",
     "text": [
      "[Parallel(n_jobs=1)]: Using backend SequentialBackend with 1 concurrent workers.\n"
     ]
    },
    {
     "name": "stdout",
     "output_type": "stream",
     "text": [
      "[CV] END .................................................... total time=   0.9s\n"
     ]
    },
    {
     "name": "stderr",
     "output_type": "stream",
     "text": [
      "[Parallel(n_jobs=1)]: Done   1 out of   1 | elapsed:    0.9s remaining:    0.0s\n"
     ]
    },
    {
     "name": "stdout",
     "output_type": "stream",
     "text": [
      "[CV] END .................................................... total time=   0.9s\n",
      "[CV] END .................................................... total time=   1.0s\n",
      "[CV] END .................................................... total time=   1.1s\n",
      "[CV] END .................................................... total time=   1.2s\n"
     ]
    },
    {
     "name": "stderr",
     "output_type": "stream",
     "text": [
      "[Parallel(n_jobs=1)]: Done   5 out of   5 | elapsed:    5.6s finished\n",
      "[Parallel(n_jobs=1)]: Using backend SequentialBackend with 1 concurrent workers.\n"
     ]
    },
    {
     "name": "stdout",
     "output_type": "stream",
     "text": [
      "[CV] END .................................................... total time=  43.2s\n"
     ]
    },
    {
     "name": "stderr",
     "output_type": "stream",
     "text": [
      "[Parallel(n_jobs=1)]: Done   1 out of   1 | elapsed:   43.2s remaining:    0.0s\n"
     ]
    },
    {
     "name": "stdout",
     "output_type": "stream",
     "text": [
      "[CV] END .................................................... total time=  41.1s\n",
      "[CV] END .................................................... total time=  43.9s\n",
      "[CV] END .................................................... total time=  42.5s\n",
      "[CV] END .................................................... total time=  42.4s\n"
     ]
    },
    {
     "name": "stderr",
     "output_type": "stream",
     "text": [
      "[Parallel(n_jobs=1)]: Done   5 out of   5 | elapsed:  3.6min finished\n",
      "[Parallel(n_jobs=1)]: Using backend SequentialBackend with 1 concurrent workers.\n"
     ]
    },
    {
     "name": "stdout",
     "output_type": "stream",
     "text": [
      "[CV] END .................................................... total time=   8.9s\n"
     ]
    },
    {
     "name": "stderr",
     "output_type": "stream",
     "text": [
      "[Parallel(n_jobs=1)]: Done   1 out of   1 | elapsed:    9.0s remaining:    0.0s\n"
     ]
    },
    {
     "name": "stdout",
     "output_type": "stream",
     "text": [
      "[CV] END .................................................... total time=   8.9s\n",
      "[CV] END .................................................... total time=   8.8s\n",
      "[CV] END .................................................... total time=   8.8s\n",
      "[CV] END .................................................... total time=   8.8s\n"
     ]
    },
    {
     "name": "stderr",
     "output_type": "stream",
     "text": [
      "[Parallel(n_jobs=1)]: Done   5 out of   5 | elapsed:   44.7s finished\n",
      "[Parallel(n_jobs=1)]: Using backend SequentialBackend with 1 concurrent workers.\n"
     ]
    },
    {
     "name": "stdout",
     "output_type": "stream",
     "text": [
      "[CV] END .................................................... total time=   0.5s\n"
     ]
    },
    {
     "name": "stderr",
     "output_type": "stream",
     "text": [
      "[Parallel(n_jobs=1)]: Done   1 out of   1 | elapsed:    0.5s remaining:    0.0s\n"
     ]
    },
    {
     "name": "stdout",
     "output_type": "stream",
     "text": [
      "[CV] END .................................................... total time=   0.4s\n",
      "[CV] END .................................................... total time=   0.4s\n",
      "[CV] END .................................................... total time=   0.4s\n",
      "[CV] END .................................................... total time=   0.4s\n"
     ]
    },
    {
     "name": "stderr",
     "output_type": "stream",
     "text": [
      "[Parallel(n_jobs=1)]: Done   5 out of   5 | elapsed:    2.6s finished\n",
      "[Parallel(n_jobs=1)]: Using backend SequentialBackend with 1 concurrent workers.\n"
     ]
    },
    {
     "name": "stdout",
     "output_type": "stream",
     "text": [
      "[CV] END .................................................... total time=   3.5s\n"
     ]
    },
    {
     "name": "stderr",
     "output_type": "stream",
     "text": [
      "[Parallel(n_jobs=1)]: Done   1 out of   1 | elapsed:    3.5s remaining:    0.0s\n"
     ]
    },
    {
     "name": "stdout",
     "output_type": "stream",
     "text": [
      "[CV] END .................................................... total time=   3.5s\n",
      "[CV] END .................................................... total time=   3.5s\n",
      "[CV] END .................................................... total time=   3.4s\n",
      "[CV] END .................................................... total time=   3.5s\n"
     ]
    },
    {
     "name": "stderr",
     "output_type": "stream",
     "text": [
      "[Parallel(n_jobs=1)]: Done   5 out of   5 | elapsed:   17.8s finished\n",
      "[Parallel(n_jobs=1)]: Using backend SequentialBackend with 1 concurrent workers.\n"
     ]
    },
    {
     "name": "stdout",
     "output_type": "stream",
     "text": [
      "[CV] END .................................................... total time=  13.0s\n"
     ]
    },
    {
     "name": "stderr",
     "output_type": "stream",
     "text": [
      "[Parallel(n_jobs=1)]: Done   1 out of   1 | elapsed:   13.0s remaining:    0.0s\n"
     ]
    },
    {
     "name": "stdout",
     "output_type": "stream",
     "text": [
      "[CV] END .................................................... total time=  12.8s\n",
      "[CV] END .................................................... total time=  12.9s\n",
      "[CV] END .................................................... total time=  12.8s\n",
      "[CV] END .................................................... total time=  12.8s\n",
      "                        Model  Accuracy Score\n",
      "0          LogisticRegression        0.874615\n",
      "1        KNeighborsClassifier        0.925114\n",
      "2      RandomForestClassifier        0.961830\n",
      "3      DecisionTreeClassifier        0.944045\n",
      "4          AdaBoostClassifier        0.927212\n",
      "5  GradientBoostingClassifier        0.941533\n"
     ]
    },
    {
     "name": "stderr",
     "output_type": "stream",
     "text": [
      "[Parallel(n_jobs=1)]: Done   5 out of   5 | elapsed:  1.1min finished\n"
     ]
    }
   ],
   "source": [
    "models = [LogisticRegression(),KNeighborsClassifier(),RandomForestClassifier(),DecisionTreeClassifier(),AdaBoostClassifier(),GradientBoostingClassifier()]\n",
    "model_performance = pd.DataFrame(columns=['Model','Accuracy Score'])\n",
    "for m in models:\n",
    "    model = m\n",
    "    score = cross_val_score(estimator=model,X=X_train,y=y_train,scoring=\"accuracy\",cv=5,verbose=2)\n",
    "    model_performance = model_performance.append({'Model':str(m)[:-2],'Accuracy Score':np.mean(score)},ignore_index=True)\n",
    "print(model_performance)"
   ]
  },
  {
   "cell_type": "markdown",
   "metadata": {},
   "source": [
    "<b>So from all classification model we got maximum accuracy with Random Forest Classifier thus we select as final model for our dataset.</b>"
   ]
  },
  {
   "cell_type": "markdown",
   "metadata": {},
   "source": [
    "## Hyperparameter Tunning For Random Forest Classifier"
   ]
  },
  {
   "cell_type": "code",
   "execution_count": 122,
   "metadata": {},
   "outputs": [],
   "source": [
    "tune = [{'n_estimators':[80,100,120],\n",
    "        'max_depth':[2,4,6],\n",
    "        'min_samples_split':[2,4,6],\n",
    "        'min_samples_leaf':[2,4,6],\n",
    "        'criterion':['gini','entropy']}]"
   ]
  },
  {
   "cell_type": "code",
   "execution_count": 130,
   "metadata": {},
   "outputs": [
    {
     "data": {
      "text/plain": [
       "GridSearchCV(cv=5, estimator=RandomForestClassifier(random_state=2),\n",
       "             param_grid=[{'criterion': ['gini', 'entropy'],\n",
       "                          'max_depth': [2, 4, 6], 'min_samples_leaf': [2, 4, 6],\n",
       "                          'min_samples_split': [2, 4, 6],\n",
       "                          'n_estimators': [80, 100, 120]}],\n",
       "             scoring='precision')"
      ]
     },
     "execution_count": 130,
     "metadata": {},
     "output_type": "execute_result"
    }
   ],
   "source": [
    "rfc1 = RandomForestClassifier(random_state=2)\n",
    "grid = GridSearchCV(estimator=rfc1,param_grid=tune,cv=5,scoring='precision')\n",
    "grid.fit(X_train,y_train)"
   ]
  },
  {
   "cell_type": "code",
   "execution_count": 132,
   "metadata": {},
   "outputs": [
    {
     "data": {
      "text/plain": [
       "{'criterion': 'entropy',\n",
       " 'max_depth': 6,\n",
       " 'min_samples_leaf': 6,\n",
       " 'min_samples_split': 2,\n",
       " 'n_estimators': 80}"
      ]
     },
     "execution_count": 132,
     "metadata": {},
     "output_type": "execute_result"
    }
   ],
   "source": [
    "grid.best_params_"
   ]
  },
  {
   "cell_type": "code",
   "execution_count": 134,
   "metadata": {},
   "outputs": [
    {
     "data": {
      "text/plain": [
       "RandomForestClassifier(criterion='entropy', max_depth=6, min_samples_leaf=6,\n",
       "                       n_estimators=80)"
      ]
     },
     "execution_count": 134,
     "metadata": {},
     "output_type": "execute_result"
    }
   ],
   "source": [
    "rfc_tune = RandomForestClassifier(n_estimators=80,min_samples_split=2,min_samples_leaf=6,max_depth=6,criterion='entropy')\n",
    "rfc_tune.fit(X_train,y_train)"
   ]
  },
  {
   "cell_type": "code",
   "execution_count": 135,
   "metadata": {},
   "outputs": [],
   "source": [
    "ypred_train_rfc_tune = rfc_tune.predict(X_train)\n",
    "ypred_test_rfc_tune = rfc_tune.predict(X_test)"
   ]
  },
  {
   "cell_type": "code",
   "execution_count": 136,
   "metadata": {},
   "outputs": [
    {
     "name": "stdout",
     "output_type": "stream",
     "text": [
      "Classification Report For Train Data :\n",
      "\n",
      "               precision    recall  f1-score   support\n",
      "\n",
      "           0       0.93      0.94      0.94     58830\n",
      "           1       0.93      0.91      0.92     45074\n",
      "\n",
      "    accuracy                           0.93    103904\n",
      "   macro avg       0.93      0.93      0.93    103904\n",
      "weighted avg       0.93      0.93      0.93    103904\n",
      "\n",
      "\n",
      "\n",
      "Classification Report For Test Data :\n",
      "\n",
      "               precision    recall  f1-score   support\n",
      "\n",
      "           0       0.93      0.94      0.94     14622\n",
      "           1       0.92      0.91      0.91     11354\n",
      "\n",
      "    accuracy                           0.93     25976\n",
      "   macro avg       0.93      0.92      0.92     25976\n",
      "weighted avg       0.93      0.93      0.93     25976\n",
      "\n"
     ]
    }
   ],
   "source": [
    "print(\"Classification Report For Train Data :\\n\\n\",classification_report(y_train,ypred_train_rfc_tune))\n",
    "print(\"\\n\")\n",
    "print(\"Classification Report For Test Data :\\n\\n\",classification_report(y_test,ypred_test_rfc_tune))"
   ]
  },
  {
   "cell_type": "code",
   "execution_count": 287,
   "metadata": {},
   "outputs": [
    {
     "data": {
      "text/html": [
       "<div>\n",
       "<style scoped>\n",
       "    .dataframe tbody tr th:only-of-type {\n",
       "        vertical-align: middle;\n",
       "    }\n",
       "\n",
       "    .dataframe tbody tr th {\n",
       "        vertical-align: top;\n",
       "    }\n",
       "\n",
       "    .dataframe thead th {\n",
       "        text-align: right;\n",
       "    }\n",
       "</style>\n",
       "<table border=\"1\" class=\"dataframe\">\n",
       "  <thead>\n",
       "    <tr style=\"text-align: right;\">\n",
       "      <th></th>\n",
       "      <th>Model Name</th>\n",
       "      <th>Train Accuracy</th>\n",
       "      <th>Test Accuracy</th>\n",
       "      <th>Precision Score</th>\n",
       "      <th>Recall Score</th>\n",
       "      <th>Kappa Score</th>\n",
       "      <th>F1-score</th>\n",
       "    </tr>\n",
       "  </thead>\n",
       "  <tbody>\n",
       "    <tr>\n",
       "      <th>0</th>\n",
       "      <td>Logistic_Regression_full_model</td>\n",
       "      <td>0.874413</td>\n",
       "      <td>0.875038</td>\n",
       "      <td>0.870161</td>\n",
       "      <td>0.839352</td>\n",
       "      <td>0.745049</td>\n",
       "      <td>0.854479</td>\n",
       "    </tr>\n",
       "    <tr>\n",
       "      <th>1</th>\n",
       "      <td>GaussianNB</td>\n",
       "      <td>0.865453</td>\n",
       "      <td>0.865260</td>\n",
       "      <td>0.865642</td>\n",
       "      <td>0.818830</td>\n",
       "      <td>0.724522</td>\n",
       "      <td>0.841586</td>\n",
       "    </tr>\n",
       "    <tr>\n",
       "      <th>2</th>\n",
       "      <td>KNeighboursClassifier</td>\n",
       "      <td>0.958211</td>\n",
       "      <td>0.923930</td>\n",
       "      <td>0.934650</td>\n",
       "      <td>0.888057</td>\n",
       "      <td>0.844547</td>\n",
       "      <td>0.910758</td>\n",
       "    </tr>\n",
       "    <tr>\n",
       "      <th>3</th>\n",
       "      <td>DecisionTreeClassifier</td>\n",
       "      <td>1.000000</td>\n",
       "      <td>0.944141</td>\n",
       "      <td>0.937605</td>\n",
       "      <td>0.934384</td>\n",
       "      <td>0.886441</td>\n",
       "      <td>0.935992</td>\n",
       "    </tr>\n",
       "    <tr>\n",
       "      <th>4</th>\n",
       "      <td>RandomForestClassifier</td>\n",
       "      <td>1.000000</td>\n",
       "      <td>0.960887</td>\n",
       "      <td>0.974307</td>\n",
       "      <td>0.935177</td>\n",
       "      <td>0.920158</td>\n",
       "      <td>0.954341</td>\n",
       "    </tr>\n",
       "    <tr>\n",
       "      <th>5</th>\n",
       "      <td>AdaBoostClassifier</td>\n",
       "      <td>0.927356</td>\n",
       "      <td>0.926971</td>\n",
       "      <td>0.927338</td>\n",
       "      <td>0.903734</td>\n",
       "      <td>0.851170</td>\n",
       "      <td>0.915384</td>\n",
       "    </tr>\n",
       "    <tr>\n",
       "      <th>6</th>\n",
       "      <td>Tunned Random Forest Clasifier</td>\n",
       "      <td>0.928857</td>\n",
       "      <td>0.926317</td>\n",
       "      <td>0.923546</td>\n",
       "      <td>0.906465</td>\n",
       "      <td>0.849953</td>\n",
       "      <td>0.914926</td>\n",
       "    </tr>\n",
       "  </tbody>\n",
       "</table>\n",
       "</div>"
      ],
      "text/plain": [
       "                       Model Name  Train Accuracy  Test Accuracy  \\\n",
       "0  Logistic_Regression_full_model        0.874413       0.875038   \n",
       "1                      GaussianNB        0.865453       0.865260   \n",
       "2           KNeighboursClassifier        0.958211       0.923930   \n",
       "3          DecisionTreeClassifier        1.000000       0.944141   \n",
       "4          RandomForestClassifier        1.000000       0.960887   \n",
       "5              AdaBoostClassifier        0.927356       0.926971   \n",
       "6  Tunned Random Forest Clasifier        0.928857       0.926317   \n",
       "\n",
       "   Precision Score  Recall Score  Kappa Score  F1-score  \n",
       "0         0.870161      0.839352     0.745049  0.854479  \n",
       "1         0.865642      0.818830     0.724522  0.841586  \n",
       "2         0.934650      0.888057     0.844547  0.910758  \n",
       "3         0.937605      0.934384     0.886441  0.935992  \n",
       "4         0.974307      0.935177     0.920158  0.954341  \n",
       "5         0.927338      0.903734     0.851170  0.915384  \n",
       "6         0.923546      0.906465     0.849953  0.914926  "
      ]
     },
     "execution_count": 287,
     "metadata": {},
     "output_type": "execute_result"
    }
   ],
   "source": [
    "performance_table('Tunned Random Forest Clasifier',rfc_tune)"
   ]
  },
  {
   "cell_type": "code",
   "execution_count": 124,
   "metadata": {},
   "outputs": [
    {
     "data": {
      "text/plain": [
       "{'n_estimators': 80,\n",
       " 'min_samples_split': 6,\n",
       " 'min_samples_leaf': 6,\n",
       " 'max_depth': 6,\n",
       " 'criterion': 'entropy'}"
      ]
     },
     "execution_count": 124,
     "metadata": {},
     "output_type": "execute_result"
    }
   ],
   "source": [
    "# rfc1 = RandomForestClassifier(random_state=2)\n",
    "# random = RandomizedSearchCV(estimator=rfc1,param_distributions=tune,cv=5,scoring='precision')\n",
    "# random.fit(X_train,y_train)\n",
    "# random.best_params_"
   ]
  },
  {
   "cell_type": "markdown",
   "metadata": {},
   "source": [
    "### Cross Val Score for Tunned Random Forest Classifier"
   ]
  },
  {
   "cell_type": "code",
   "execution_count": 364,
   "metadata": {},
   "outputs": [
    {
     "name": "stderr",
     "output_type": "stream",
     "text": [
      "[Parallel(n_jobs=1)]: Using backend SequentialBackend with 1 concurrent workers.\n"
     ]
    },
    {
     "name": "stdout",
     "output_type": "stream",
     "text": [
      "[CV] END .................................................... total time=   3.5s\n"
     ]
    },
    {
     "name": "stderr",
     "output_type": "stream",
     "text": [
      "[Parallel(n_jobs=1)]: Done   1 out of   1 | elapsed:    3.5s remaining:    0.0s\n"
     ]
    },
    {
     "name": "stdout",
     "output_type": "stream",
     "text": [
      "[CV] END .................................................... total time=   3.9s\n",
      "[CV] END .................................................... total time=   4.0s\n",
      "[CV] END .................................................... total time=   4.1s\n",
      "[CV] END .................................................... total time=   4.1s\n",
      "Score : [0.92503133 0.93131336 0.92846583 0.93047945 0.93171731]\n",
      "Bias Error: 0.071\n",
      "Variance Error: 0.003\n"
     ]
    },
    {
     "name": "stderr",
     "output_type": "stream",
     "text": [
      "[Parallel(n_jobs=1)]: Done   5 out of   5 | elapsed:   20.0s finished\n"
     ]
    }
   ],
   "source": [
    "rfc_tune_cv = RandomForestClassifier(n_estimators=80,min_samples_split=2,min_samples_leaf=6,max_depth=6,criterion='entropy')\n",
    "score3 = cross_val_score(estimator=rfc_tune_cv,X=X_train,y=y_train,cv=5,verbose=2,scoring='precision')\n",
    "print(\"Score :\",score3)\n",
    "print('Bias Error:',round(1-np.mean(score3),3))\n",
    "print('Variance Error:',round(np.std(score3)/np.mean(score3),3))"
   ]
  },
  {
   "cell_type": "markdown",
   "metadata": {},
   "source": [
    "## Feature Selection For Tunned Random Forest Classifier Using Feature Importance"
   ]
  },
  {
   "cell_type": "code",
   "execution_count": 312,
   "metadata": {},
   "outputs": [
    {
     "data": {
      "text/html": [
       "<div>\n",
       "<style scoped>\n",
       "    .dataframe tbody tr th:only-of-type {\n",
       "        vertical-align: middle;\n",
       "    }\n",
       "\n",
       "    .dataframe tbody tr th {\n",
       "        vertical-align: top;\n",
       "    }\n",
       "\n",
       "    .dataframe thead th {\n",
       "        text-align: right;\n",
       "    }\n",
       "</style>\n",
       "<table border=\"1\" class=\"dataframe\">\n",
       "  <thead>\n",
       "    <tr style=\"text-align: right;\">\n",
       "      <th></th>\n",
       "      <th>column</th>\n",
       "      <th>imp</th>\n",
       "    </tr>\n",
       "  </thead>\n",
       "  <tbody>\n",
       "    <tr>\n",
       "      <th>9</th>\n",
       "      <td>online_boarding</td>\n",
       "      <td>0.3</td>\n",
       "    </tr>\n",
       "    <tr>\n",
       "      <th>4</th>\n",
       "      <td>inflight_wifi_service</td>\n",
       "      <td>0.2</td>\n",
       "    </tr>\n",
       "    <tr>\n",
       "      <th>11</th>\n",
       "      <td>inflight_entertainment</td>\n",
       "      <td>0.1</td>\n",
       "    </tr>\n",
       "    <tr>\n",
       "      <th>21</th>\n",
       "      <td>customer_class_Eco</td>\n",
       "      <td>0.1</td>\n",
       "    </tr>\n",
       "    <tr>\n",
       "      <th>20</th>\n",
       "      <td>type_of_travel_Personal Travel</td>\n",
       "      <td>0.1</td>\n",
       "    </tr>\n",
       "    <tr>\n",
       "      <th>13</th>\n",
       "      <td>leg_room_service</td>\n",
       "      <td>0.0</td>\n",
       "    </tr>\n",
       "    <tr>\n",
       "      <th>19</th>\n",
       "      <td>customer_type_disloyal Customer</td>\n",
       "      <td>0.0</td>\n",
       "    </tr>\n",
       "    <tr>\n",
       "      <th>18</th>\n",
       "      <td>Gender_Male</td>\n",
       "      <td>0.0</td>\n",
       "    </tr>\n",
       "    <tr>\n",
       "      <th>17</th>\n",
       "      <td>cleanliness</td>\n",
       "      <td>0.0</td>\n",
       "    </tr>\n",
       "    <tr>\n",
       "      <th>16</th>\n",
       "      <td>inflight_service</td>\n",
       "      <td>0.0</td>\n",
       "    </tr>\n",
       "    <tr>\n",
       "      <th>15</th>\n",
       "      <td>checkin_service</td>\n",
       "      <td>0.0</td>\n",
       "    </tr>\n",
       "    <tr>\n",
       "      <th>14</th>\n",
       "      <td>baggage_handling</td>\n",
       "      <td>0.0</td>\n",
       "    </tr>\n",
       "    <tr>\n",
       "      <th>0</th>\n",
       "      <td>age</td>\n",
       "      <td>0.0</td>\n",
       "    </tr>\n",
       "    <tr>\n",
       "      <th>12</th>\n",
       "      <td>onboard_service</td>\n",
       "      <td>0.0</td>\n",
       "    </tr>\n",
       "    <tr>\n",
       "      <th>1</th>\n",
       "      <td>flight_distance</td>\n",
       "      <td>0.0</td>\n",
       "    </tr>\n",
       "    <tr>\n",
       "      <th>10</th>\n",
       "      <td>seat_comfort</td>\n",
       "      <td>0.0</td>\n",
       "    </tr>\n",
       "    <tr>\n",
       "      <th>8</th>\n",
       "      <td>food_and_drink</td>\n",
       "      <td>0.0</td>\n",
       "    </tr>\n",
       "    <tr>\n",
       "      <th>7</th>\n",
       "      <td>gate_location</td>\n",
       "      <td>0.0</td>\n",
       "    </tr>\n",
       "    <tr>\n",
       "      <th>6</th>\n",
       "      <td>ease_of_online_booking</td>\n",
       "      <td>0.0</td>\n",
       "    </tr>\n",
       "    <tr>\n",
       "      <th>5</th>\n",
       "      <td>departure_arrival_time_convenient</td>\n",
       "      <td>0.0</td>\n",
       "    </tr>\n",
       "    <tr>\n",
       "      <th>3</th>\n",
       "      <td>arrival_delay_in_minutes</td>\n",
       "      <td>0.0</td>\n",
       "    </tr>\n",
       "    <tr>\n",
       "      <th>2</th>\n",
       "      <td>departure_delay_in_minutes</td>\n",
       "      <td>0.0</td>\n",
       "    </tr>\n",
       "    <tr>\n",
       "      <th>22</th>\n",
       "      <td>customer_class_Eco Plus</td>\n",
       "      <td>0.0</td>\n",
       "    </tr>\n",
       "  </tbody>\n",
       "</table>\n",
       "</div>"
      ],
      "text/plain": [
       "                               column  imp\n",
       "9                     online_boarding  0.3\n",
       "4               inflight_wifi_service  0.2\n",
       "11             inflight_entertainment  0.1\n",
       "21                 customer_class_Eco  0.1\n",
       "20     type_of_travel_Personal Travel  0.1\n",
       "13                   leg_room_service  0.0\n",
       "19    customer_type_disloyal Customer  0.0\n",
       "18                        Gender_Male  0.0\n",
       "17                        cleanliness  0.0\n",
       "16                   inflight_service  0.0\n",
       "15                    checkin_service  0.0\n",
       "14                   baggage_handling  0.0\n",
       "0                                 age  0.0\n",
       "12                    onboard_service  0.0\n",
       "1                     flight_distance  0.0\n",
       "10                       seat_comfort  0.0\n",
       "8                      food_and_drink  0.0\n",
       "7                       gate_location  0.0\n",
       "6              ease_of_online_booking  0.0\n",
       "5   departure_arrival_time_convenient  0.0\n",
       "3            arrival_delay_in_minutes  0.0\n",
       "2          departure_delay_in_minutes  0.0\n",
       "22            customer_class_Eco Plus  0.0"
      ]
     },
     "execution_count": 312,
     "metadata": {},
     "output_type": "execute_result"
    }
   ],
   "source": [
    "imp_feature = pd.DataFrame({\"column\":X_train.columns,\"imp\":np.round(rfc_tune.feature_importances_,1)})\n",
    "sorted_feature = imp_feature.sort_values('imp',ascending=False)\n",
    "sorted_feature"
   ]
  },
  {
   "cell_type": "code",
   "execution_count": 313,
   "metadata": {},
   "outputs": [
    {
     "data": {
      "image/png": "[encoded data removed]",
      "text/plain": [
       "<Figure size 1080x720 with 1 Axes>"
      ]
     },
     "metadata": {
      "needs_background": "light"
     },
     "output_type": "display_data"
    }
   ],
   "source": [
    "plt.figure(figsize=(15,10))\n",
    "plt.rcParams.update({'font.size': 15})\n",
    "sns.barplot(sorted_feature['imp'],sorted_feature['column'])\n",
    "plt.title('Bar Plot For Feature Importance',size=20)\n",
    "plt.xlabel('Importance',size=20)\n",
    "plt.ylabel('Features',size=20)\n",
    "plt.show()"
   ]
  },
  {
   "cell_type": "markdown",
   "metadata": {},
   "source": [
    "Here only five feature having feature importance rest of the features having zero feature importance, so we can choose only five features having importance and all ohter can be dropped."
   ]
  },
  {
   "cell_type": "markdown",
   "metadata": {},
   "source": [
    "### Selecting Features Using Feature Importance"
   ]
  },
  {
   "cell_type": "code",
   "execution_count": 325,
   "metadata": {},
   "outputs": [
    {
     "data": {
      "text/plain": [
       "['online_boarding',\n",
       " 'inflight_wifi_service',\n",
       " 'inflight_entertainment',\n",
       " 'type_of_travel_Personal Travel',\n",
       " 'customer_class_Eco']"
      ]
     },
     "execution_count": 325,
     "metadata": {},
     "output_type": "execute_result"
    }
   ],
   "source": [
    "selected_feature = list(imp_feature[imp_feature['imp']>0].sort_values('imp',ascending=False)['column'].values)\n",
    "selected_feature # top 5 feature selecting as maximum feature importance value"
   ]
  },
  {
   "cell_type": "markdown",
   "metadata": {},
   "source": [
    "### Splitting Selected Feature Data"
   ]
  },
  {
   "cell_type": "code",
   "execution_count": 326,
   "metadata": {},
   "outputs": [],
   "source": [
    "X1 = X[selected_feature] \n",
    "X1_train, X1_test, y1_train, y1_test = train_test_split(X1,y,test_size=0.3,random_state=1)"
   ]
  },
  {
   "cell_type": "markdown",
   "metadata": {},
   "source": [
    "### Building Random Forest Model With Selected Feature"
   ]
  },
  {
   "cell_type": "code",
   "execution_count": 327,
   "metadata": {},
   "outputs": [
    {
     "data": {
      "text/plain": [
       "RandomForestClassifier(random_state=2)"
      ]
     },
     "execution_count": 327,
     "metadata": {},
     "output_type": "execute_result"
    }
   ],
   "source": [
    "rfc_sf = RandomForestClassifier(random_state=2)\n",
    "rfc_sf.fit(X1_train,y1_train)"
   ]
  },
  {
   "cell_type": "code",
   "execution_count": 328,
   "metadata": {},
   "outputs": [],
   "source": [
    "ypred_train_rfc_sf = rfc_sf.predict(X1_train)\n",
    "ypred_test_rfc_sf = rfc_sf.predict(X1_test)"
   ]
  },
  {
   "cell_type": "code",
   "execution_count": 329,
   "metadata": {},
   "outputs": [
    {
     "name": "stdout",
     "output_type": "stream",
     "text": [
      "Classification Report For Train Data :\n",
      "\n",
      "               precision    recall  f1-score   support\n",
      "\n",
      "           0       0.93      0.94      0.93     51272\n",
      "           1       0.93      0.90      0.91     39644\n",
      "\n",
      "    accuracy                           0.93     90916\n",
      "   macro avg       0.93      0.92      0.92     90916\n",
      "weighted avg       0.93      0.93      0.93     90916\n",
      "\n",
      "\n",
      "\n",
      "Classification Report For Test Data :\n",
      "\n",
      "               precision    recall  f1-score   support\n",
      "\n",
      "           0       0.93      0.94      0.93     22180\n",
      "           1       0.92      0.90      0.91     16784\n",
      "\n",
      "    accuracy                           0.92     38964\n",
      "   macro avg       0.92      0.92      0.92     38964\n",
      "weighted avg       0.92      0.92      0.92     38964\n",
      "\n"
     ]
    }
   ],
   "source": [
    "print(\"Classification Report For Train Data :\\n\\n\",classification_report(y1_train,ypred_train_rfc_sf))\n",
    "print(\"\\n\")\n",
    "print(\"Classification Report For Test Data :\\n\\n\",classification_report(y1_test,ypred_test_rfc_sf))"
   ]
  },
  {
   "cell_type": "code",
   "execution_count": 334,
   "metadata": {},
   "outputs": [
    {
     "data": {
      "text/html": [
       "<div>\n",
       "<style scoped>\n",
       "    .dataframe tbody tr th:only-of-type {\n",
       "        vertical-align: middle;\n",
       "    }\n",
       "\n",
       "    .dataframe tbody tr th {\n",
       "        vertical-align: top;\n",
       "    }\n",
       "\n",
       "    .dataframe thead th {\n",
       "        text-align: right;\n",
       "    }\n",
       "</style>\n",
       "<table border=\"1\" class=\"dataframe\">\n",
       "  <thead>\n",
       "    <tr style=\"text-align: right;\">\n",
       "      <th></th>\n",
       "      <th>Model Name</th>\n",
       "      <th>Train Accuracy</th>\n",
       "      <th>Test Accuracy</th>\n",
       "      <th>Precision Score</th>\n",
       "      <th>Recall Score</th>\n",
       "      <th>Kappa Score</th>\n",
       "      <th>F1-score</th>\n",
       "    </tr>\n",
       "  </thead>\n",
       "  <tbody>\n",
       "    <tr>\n",
       "      <th>0</th>\n",
       "      <td>Logistic_Regression_full_model</td>\n",
       "      <td>0.874413</td>\n",
       "      <td>0.875038</td>\n",
       "      <td>0.870161</td>\n",
       "      <td>0.839352</td>\n",
       "      <td>0.745049</td>\n",
       "      <td>0.854479</td>\n",
       "    </tr>\n",
       "    <tr>\n",
       "      <th>1</th>\n",
       "      <td>GaussianNB</td>\n",
       "      <td>0.865453</td>\n",
       "      <td>0.865260</td>\n",
       "      <td>0.865642</td>\n",
       "      <td>0.818830</td>\n",
       "      <td>0.724522</td>\n",
       "      <td>0.841586</td>\n",
       "    </tr>\n",
       "    <tr>\n",
       "      <th>2</th>\n",
       "      <td>KNeighboursClassifier</td>\n",
       "      <td>0.958211</td>\n",
       "      <td>0.923930</td>\n",
       "      <td>0.934650</td>\n",
       "      <td>0.888057</td>\n",
       "      <td>0.844547</td>\n",
       "      <td>0.910758</td>\n",
       "    </tr>\n",
       "    <tr>\n",
       "      <th>3</th>\n",
       "      <td>DecisionTreeClassifier</td>\n",
       "      <td>1.000000</td>\n",
       "      <td>0.944141</td>\n",
       "      <td>0.937605</td>\n",
       "      <td>0.934384</td>\n",
       "      <td>0.886441</td>\n",
       "      <td>0.935992</td>\n",
       "    </tr>\n",
       "    <tr>\n",
       "      <th>4</th>\n",
       "      <td>RandomForestClassifier</td>\n",
       "      <td>1.000000</td>\n",
       "      <td>0.960887</td>\n",
       "      <td>0.974307</td>\n",
       "      <td>0.935177</td>\n",
       "      <td>0.920158</td>\n",
       "      <td>0.954341</td>\n",
       "    </tr>\n",
       "    <tr>\n",
       "      <th>5</th>\n",
       "      <td>AdaBoostClassifier</td>\n",
       "      <td>0.927356</td>\n",
       "      <td>0.926971</td>\n",
       "      <td>0.927338</td>\n",
       "      <td>0.903734</td>\n",
       "      <td>0.851170</td>\n",
       "      <td>0.915384</td>\n",
       "    </tr>\n",
       "    <tr>\n",
       "      <th>6</th>\n",
       "      <td>Tunned Random Forest Clasifier</td>\n",
       "      <td>0.928857</td>\n",
       "      <td>0.926317</td>\n",
       "      <td>0.923546</td>\n",
       "      <td>0.906465</td>\n",
       "      <td>0.849953</td>\n",
       "      <td>0.914926</td>\n",
       "    </tr>\n",
       "    <tr>\n",
       "      <th>7</th>\n",
       "      <td>Random Forest Clasifier with Top 3 Features</td>\n",
       "      <td>0.891460</td>\n",
       "      <td>0.890283</td>\n",
       "      <td>0.859516</td>\n",
       "      <td>0.890908</td>\n",
       "      <td>0.777266</td>\n",
       "      <td>0.874931</td>\n",
       "    </tr>\n",
       "    <tr>\n",
       "      <th>8</th>\n",
       "      <td>Tunned RandomForestClasifier with Top 3 Feature</td>\n",
       "      <td>0.891460</td>\n",
       "      <td>0.890283</td>\n",
       "      <td>0.859516</td>\n",
       "      <td>0.890908</td>\n",
       "      <td>0.777266</td>\n",
       "      <td>0.874931</td>\n",
       "    </tr>\n",
       "    <tr>\n",
       "      <th>9</th>\n",
       "      <td>Random Forest Clasifier with Top 5 Features</td>\n",
       "      <td>0.925833</td>\n",
       "      <td>0.923827</td>\n",
       "      <td>0.922043</td>\n",
       "      <td>0.899190</td>\n",
       "      <td>0.844206</td>\n",
       "      <td>0.910473</td>\n",
       "    </tr>\n",
       "  </tbody>\n",
       "</table>\n",
       "</div>"
      ],
      "text/plain": [
       "                                        Model Name  Train Accuracy  \\\n",
       "0                   Logistic_Regression_full_model        0.874413   \n",
       "1                                       GaussianNB        0.865453   \n",
       "2                            KNeighboursClassifier        0.958211   \n",
       "3                           DecisionTreeClassifier        1.000000   \n",
       "4                           RandomForestClassifier        1.000000   \n",
       "5                               AdaBoostClassifier        0.927356   \n",
       "6                   Tunned Random Forest Clasifier        0.928857   \n",
       "7      Random Forest Clasifier with Top 3 Features        0.891460   \n",
       "8  Tunned RandomForestClasifier with Top 3 Feature        0.891460   \n",
       "9      Random Forest Clasifier with Top 5 Features        0.925833   \n",
       "\n",
       "   Test Accuracy  Precision Score  Recall Score  Kappa Score  F1-score  \n",
       "0       0.875038         0.870161      0.839352     0.745049  0.854479  \n",
       "1       0.865260         0.865642      0.818830     0.724522  0.841586  \n",
       "2       0.923930         0.934650      0.888057     0.844547  0.910758  \n",
       "3       0.944141         0.937605      0.934384     0.886441  0.935992  \n",
       "4       0.960887         0.974307      0.935177     0.920158  0.954341  \n",
       "5       0.926971         0.927338      0.903734     0.851170  0.915384  \n",
       "6       0.926317         0.923546      0.906465     0.849953  0.914926  \n",
       "7       0.890283         0.859516      0.890908     0.777266  0.874931  \n",
       "8       0.890283         0.859516      0.890908     0.777266  0.874931  \n",
       "9       0.923827         0.922043      0.899190     0.844206  0.910473  "
      ]
     },
     "execution_count": 334,
     "metadata": {},
     "output_type": "execute_result"
    }
   ],
   "source": [
    "performance_table('Random Forest Clasifier with Top 5 Features',rfc_sf,sfs=True)"
   ]
  },
  {
   "cell_type": "markdown",
   "metadata": {},
   "source": [
    "### Hyperparameter Tunning With Selected Feature Data"
   ]
  },
  {
   "cell_type": "code",
   "execution_count": 323,
   "metadata": {},
   "outputs": [],
   "source": [
    "tune = [{'n_estimators':[80,100,120],\n",
    "        'max_depth':[2,4,6],\n",
    "        'min_samples_split':[2,4,6],\n",
    "        'min_samples_leaf':[2,4,6],\n",
    "        'criterion':['gini','entropy']}]"
   ]
  },
  {
   "cell_type": "code",
   "execution_count": 324,
   "metadata": {},
   "outputs": [
    {
     "data": {
      "text/plain": [
       "{'criterion': 'gini',\n",
       " 'max_depth': 6,\n",
       " 'min_samples_leaf': 2,\n",
       " 'min_samples_split': 2,\n",
       " 'n_estimators': 80}"
      ]
     },
     "execution_count": 324,
     "metadata": {},
     "output_type": "execute_result"
    }
   ],
   "source": [
    "rfc_sf1 = RandomForestClassifier(random_state=2)\n",
    "grid_sf = GridSearchCV(estimator=rfc1,param_grid=tune,cv=5,scoring='precision')\n",
    "grid_sf.fit(X1_train,y1_train)\n",
    "grid_sf.best_params_"
   ]
  },
  {
   "cell_type": "code",
   "execution_count": 335,
   "metadata": {},
   "outputs": [
    {
     "data": {
      "text/plain": [
       "RandomForestClassifier(max_depth=6, min_samples_leaf=2, n_estimators=80)"
      ]
     },
     "execution_count": 335,
     "metadata": {},
     "output_type": "execute_result"
    }
   ],
   "source": [
    "rfc_sf_tune = RandomForestClassifier(n_estimators=80,criterion='gini',max_depth=6,min_samples_leaf=2,min_samples_split=2)\n",
    "rfc_sf_tune.fit(X1_train,y1_train)"
   ]
  },
  {
   "cell_type": "code",
   "execution_count": 336,
   "metadata": {},
   "outputs": [],
   "source": [
    "ypred_train_rfc_sf_tune = rfc_sf_tune.predict(X1_train)\n",
    "ypred_test_rfc_sf_tune = rfc_sf_tune.predict(X1_test)"
   ]
  },
  {
   "cell_type": "code",
   "execution_count": 337,
   "metadata": {},
   "outputs": [
    {
     "name": "stdout",
     "output_type": "stream",
     "text": [
      "Classification Report For Train Data :\n",
      "\n",
      "               precision    recall  f1-score   support\n",
      "\n",
      "           0       0.91      0.93      0.92     51272\n",
      "           1       0.91      0.88      0.89     39644\n",
      "\n",
      "    accuracy                           0.91     90916\n",
      "   macro avg       0.91      0.91      0.91     90916\n",
      "weighted avg       0.91      0.91      0.91     90916\n",
      "\n",
      "\n",
      "\n",
      "Classification Report For Test Data :\n",
      "\n",
      "               precision    recall  f1-score   support\n",
      "\n",
      "           0       0.91      0.93      0.92     22180\n",
      "           1       0.91      0.87      0.89     16784\n",
      "\n",
      "    accuracy                           0.91     38964\n",
      "   macro avg       0.91      0.90      0.90     38964\n",
      "weighted avg       0.91      0.91      0.91     38964\n",
      "\n"
     ]
    }
   ],
   "source": [
    "print(\"Classification Report For Train Data :\\n\\n\",classification_report(y1_train,ypred_train_rfc_sf_tune))\n",
    "print(\"\\n\")\n",
    "print(\"Classification Report For Test Data :\\n\\n\",classification_report(y1_test,ypred_test_rfc_sf_tune))"
   ]
  },
  {
   "cell_type": "code",
   "execution_count": 338,
   "metadata": {},
   "outputs": [
    {
     "data": {
      "text/html": [
       "<div>\n",
       "<style scoped>\n",
       "    .dataframe tbody tr th:only-of-type {\n",
       "        vertical-align: middle;\n",
       "    }\n",
       "\n",
       "    .dataframe tbody tr th {\n",
       "        vertical-align: top;\n",
       "    }\n",
       "\n",
       "    .dataframe thead th {\n",
       "        text-align: right;\n",
       "    }\n",
       "</style>\n",
       "<table border=\"1\" class=\"dataframe\">\n",
       "  <thead>\n",
       "    <tr style=\"text-align: right;\">\n",
       "      <th></th>\n",
       "      <th>Model Name</th>\n",
       "      <th>Train Accuracy</th>\n",
       "      <th>Test Accuracy</th>\n",
       "      <th>Precision Score</th>\n",
       "      <th>Recall Score</th>\n",
       "      <th>Kappa Score</th>\n",
       "      <th>F1-score</th>\n",
       "    </tr>\n",
       "  </thead>\n",
       "  <tbody>\n",
       "    <tr>\n",
       "      <th>0</th>\n",
       "      <td>Logistic_Regression_full_model</td>\n",
       "      <td>0.874413</td>\n",
       "      <td>0.875038</td>\n",
       "      <td>0.870161</td>\n",
       "      <td>0.839352</td>\n",
       "      <td>0.745049</td>\n",
       "      <td>0.854479</td>\n",
       "    </tr>\n",
       "    <tr>\n",
       "      <th>1</th>\n",
       "      <td>GaussianNB</td>\n",
       "      <td>0.865453</td>\n",
       "      <td>0.865260</td>\n",
       "      <td>0.865642</td>\n",
       "      <td>0.818830</td>\n",
       "      <td>0.724522</td>\n",
       "      <td>0.841586</td>\n",
       "    </tr>\n",
       "    <tr>\n",
       "      <th>2</th>\n",
       "      <td>KNeighboursClassifier</td>\n",
       "      <td>0.958211</td>\n",
       "      <td>0.923930</td>\n",
       "      <td>0.934650</td>\n",
       "      <td>0.888057</td>\n",
       "      <td>0.844547</td>\n",
       "      <td>0.910758</td>\n",
       "    </tr>\n",
       "    <tr>\n",
       "      <th>3</th>\n",
       "      <td>DecisionTreeClassifier</td>\n",
       "      <td>1.000000</td>\n",
       "      <td>0.944141</td>\n",
       "      <td>0.937605</td>\n",
       "      <td>0.934384</td>\n",
       "      <td>0.886441</td>\n",
       "      <td>0.935992</td>\n",
       "    </tr>\n",
       "    <tr>\n",
       "      <th>4</th>\n",
       "      <td>RandomForestClassifier</td>\n",
       "      <td>1.000000</td>\n",
       "      <td>0.960887</td>\n",
       "      <td>0.974307</td>\n",
       "      <td>0.935177</td>\n",
       "      <td>0.920158</td>\n",
       "      <td>0.954341</td>\n",
       "    </tr>\n",
       "    <tr>\n",
       "      <th>5</th>\n",
       "      <td>AdaBoostClassifier</td>\n",
       "      <td>0.927356</td>\n",
       "      <td>0.926971</td>\n",
       "      <td>0.927338</td>\n",
       "      <td>0.903734</td>\n",
       "      <td>0.851170</td>\n",
       "      <td>0.915384</td>\n",
       "    </tr>\n",
       "    <tr>\n",
       "      <th>6</th>\n",
       "      <td>Tunned Random Forest Clasifier</td>\n",
       "      <td>0.928857</td>\n",
       "      <td>0.926317</td>\n",
       "      <td>0.923546</td>\n",
       "      <td>0.906465</td>\n",
       "      <td>0.849953</td>\n",
       "      <td>0.914926</td>\n",
       "    </tr>\n",
       "    <tr>\n",
       "      <th>7</th>\n",
       "      <td>Random Forest Clasifier with Top 3 Features</td>\n",
       "      <td>0.891460</td>\n",
       "      <td>0.890283</td>\n",
       "      <td>0.859516</td>\n",
       "      <td>0.890908</td>\n",
       "      <td>0.777266</td>\n",
       "      <td>0.874931</td>\n",
       "    </tr>\n",
       "    <tr>\n",
       "      <th>8</th>\n",
       "      <td>Tunned RandomForestClasifier with Top 3 Feature</td>\n",
       "      <td>0.891460</td>\n",
       "      <td>0.890283</td>\n",
       "      <td>0.859516</td>\n",
       "      <td>0.890908</td>\n",
       "      <td>0.777266</td>\n",
       "      <td>0.874931</td>\n",
       "    </tr>\n",
       "    <tr>\n",
       "      <th>9</th>\n",
       "      <td>Random Forest Clasifier with Top 5 Features</td>\n",
       "      <td>0.925833</td>\n",
       "      <td>0.923827</td>\n",
       "      <td>0.922043</td>\n",
       "      <td>0.899190</td>\n",
       "      <td>0.844206</td>\n",
       "      <td>0.910473</td>\n",
       "    </tr>\n",
       "    <tr>\n",
       "      <th>10</th>\n",
       "      <td>Tunned RandomForestClasifier with Top 5 Feature</td>\n",
       "      <td>0.925833</td>\n",
       "      <td>0.923827</td>\n",
       "      <td>0.922043</td>\n",
       "      <td>0.899190</td>\n",
       "      <td>0.844206</td>\n",
       "      <td>0.910473</td>\n",
       "    </tr>\n",
       "  </tbody>\n",
       "</table>\n",
       "</div>"
      ],
      "text/plain": [
       "                                         Model Name  Train Accuracy  \\\n",
       "0                    Logistic_Regression_full_model        0.874413   \n",
       "1                                        GaussianNB        0.865453   \n",
       "2                             KNeighboursClassifier        0.958211   \n",
       "3                            DecisionTreeClassifier        1.000000   \n",
       "4                            RandomForestClassifier        1.000000   \n",
       "5                                AdaBoostClassifier        0.927356   \n",
       "6                    Tunned Random Forest Clasifier        0.928857   \n",
       "7       Random Forest Clasifier with Top 3 Features        0.891460   \n",
       "8   Tunned RandomForestClasifier with Top 3 Feature        0.891460   \n",
       "9       Random Forest Clasifier with Top 5 Features        0.925833   \n",
       "10  Tunned RandomForestClasifier with Top 5 Feature        0.925833   \n",
       "\n",
       "    Test Accuracy  Precision Score  Recall Score  Kappa Score  F1-score  \n",
       "0        0.875038         0.870161      0.839352     0.745049  0.854479  \n",
       "1        0.865260         0.865642      0.818830     0.724522  0.841586  \n",
       "2        0.923930         0.934650      0.888057     0.844547  0.910758  \n",
       "3        0.944141         0.937605      0.934384     0.886441  0.935992  \n",
       "4        0.960887         0.974307      0.935177     0.920158  0.954341  \n",
       "5        0.926971         0.927338      0.903734     0.851170  0.915384  \n",
       "6        0.926317         0.923546      0.906465     0.849953  0.914926  \n",
       "7        0.890283         0.859516      0.890908     0.777266  0.874931  \n",
       "8        0.890283         0.859516      0.890908     0.777266  0.874931  \n",
       "9        0.923827         0.922043      0.899190     0.844206  0.910473  \n",
       "10       0.923827         0.922043      0.899190     0.844206  0.910473  "
      ]
     },
     "execution_count": 338,
     "metadata": {},
     "output_type": "execute_result"
    }
   ],
   "source": [
    "performance_table('Tunned RandomForestClasifier with Top 5 Feature',rfc_sf,sfs=True)"
   ]
  },
  {
   "cell_type": "markdown",
   "metadata": {},
   "source": [
    "## Hyperparameter Tunning For KNN Classifier"
   ]
  },
  {
   "cell_type": "code",
   "execution_count": 240,
   "metadata": {},
   "outputs": [],
   "source": [
    "tune = [{'n_neighbors':[3,5,7],'weights':['uniform','distance']}]"
   ]
  },
  {
   "cell_type": "code",
   "execution_count": 241,
   "metadata": {},
   "outputs": [
    {
     "data": {
      "text/plain": [
       "{'n_neighbors': 7, 'weights': 'uniform'}"
      ]
     },
     "execution_count": 241,
     "metadata": {},
     "output_type": "execute_result"
    }
   ],
   "source": [
    "knn1 = KNeighborsClassifier()\n",
    "grid = GridSearchCV(estimator=knn1,param_grid=tune,cv=5,scoring='precision')\n",
    "grid.fit(X_train,y_train)\n",
    "grid.best_params_"
   ]
  },
  {
   "cell_type": "code",
   "execution_count": 242,
   "metadata": {},
   "outputs": [
    {
     "data": {
      "text/plain": [
       "KNeighborsClassifier(n_neighbors=7)"
      ]
     },
     "execution_count": 242,
     "metadata": {},
     "output_type": "execute_result"
    }
   ],
   "source": [
    "knn_tune = KNeighborsClassifier(n_neighbors=7,weights='uniform')\n",
    "knn_tune.fit(X_train,y_train)"
   ]
  },
  {
   "cell_type": "code",
   "execution_count": 243,
   "metadata": {},
   "outputs": [],
   "source": [
    "ypred_train_knn_tune = knn_tune.predict(X_train)\n",
    "ypred_test_knn_tune = knn_tune.predict(X_test)"
   ]
  },
  {
   "cell_type": "code",
   "execution_count": 244,
   "metadata": {},
   "outputs": [
    {
     "name": "stdout",
     "output_type": "stream",
     "text": [
      "Classification Report For Train Data :\n",
      "\n",
      "               precision    recall  f1-score   support\n",
      "\n",
      "           0       0.94      0.97      0.95     58830\n",
      "           1       0.96      0.91      0.93     45074\n",
      "\n",
      "    accuracy                           0.94    103904\n",
      "   macro avg       0.95      0.94      0.94    103904\n",
      "weighted avg       0.94      0.94      0.94    103904\n",
      "\n",
      "\n",
      "\n",
      "Classification Report For Test Data :\n",
      "\n",
      "               precision    recall  f1-score   support\n",
      "\n",
      "           0       0.92      0.96      0.94     14622\n",
      "           1       0.94      0.89      0.91     11354\n",
      "\n",
      "    accuracy                           0.93     25976\n",
      "   macro avg       0.93      0.92      0.93     25976\n",
      "weighted avg       0.93      0.93      0.93     25976\n",
      "\n"
     ]
    }
   ],
   "source": [
    "print(\"Classification Report For Train Data :\\n\\n\",classification_report(y_train,ypred_train_knn_tune))\n",
    "print(\"\\n\")\n",
    "print(\"Classification Report For Test Data :\\n\\n\",classification_report(y_test,ypred_test_knn_tune))"
   ]
  },
  {
   "cell_type": "code",
   "execution_count": 339,
   "metadata": {},
   "outputs": [
    {
     "data": {
      "text/html": [
       "<div>\n",
       "<style scoped>\n",
       "    .dataframe tbody tr th:only-of-type {\n",
       "        vertical-align: middle;\n",
       "    }\n",
       "\n",
       "    .dataframe tbody tr th {\n",
       "        vertical-align: top;\n",
       "    }\n",
       "\n",
       "    .dataframe thead th {\n",
       "        text-align: right;\n",
       "    }\n",
       "</style>\n",
       "<table border=\"1\" class=\"dataframe\">\n",
       "  <thead>\n",
       "    <tr style=\"text-align: right;\">\n",
       "      <th></th>\n",
       "      <th>Model Name</th>\n",
       "      <th>Train Accuracy</th>\n",
       "      <th>Test Accuracy</th>\n",
       "      <th>Precision Score</th>\n",
       "      <th>Recall Score</th>\n",
       "      <th>Kappa Score</th>\n",
       "      <th>F1-score</th>\n",
       "    </tr>\n",
       "  </thead>\n",
       "  <tbody>\n",
       "    <tr>\n",
       "      <th>0</th>\n",
       "      <td>Logistic_Regression_full_model</td>\n",
       "      <td>0.874413</td>\n",
       "      <td>0.875038</td>\n",
       "      <td>0.870161</td>\n",
       "      <td>0.839352</td>\n",
       "      <td>0.745049</td>\n",
       "      <td>0.854479</td>\n",
       "    </tr>\n",
       "    <tr>\n",
       "      <th>1</th>\n",
       "      <td>GaussianNB</td>\n",
       "      <td>0.865453</td>\n",
       "      <td>0.865260</td>\n",
       "      <td>0.865642</td>\n",
       "      <td>0.818830</td>\n",
       "      <td>0.724522</td>\n",
       "      <td>0.841586</td>\n",
       "    </tr>\n",
       "    <tr>\n",
       "      <th>2</th>\n",
       "      <td>KNeighboursClassifier</td>\n",
       "      <td>0.958211</td>\n",
       "      <td>0.923930</td>\n",
       "      <td>0.934650</td>\n",
       "      <td>0.888057</td>\n",
       "      <td>0.844547</td>\n",
       "      <td>0.910758</td>\n",
       "    </tr>\n",
       "    <tr>\n",
       "      <th>3</th>\n",
       "      <td>DecisionTreeClassifier</td>\n",
       "      <td>1.000000</td>\n",
       "      <td>0.944141</td>\n",
       "      <td>0.937605</td>\n",
       "      <td>0.934384</td>\n",
       "      <td>0.886441</td>\n",
       "      <td>0.935992</td>\n",
       "    </tr>\n",
       "    <tr>\n",
       "      <th>4</th>\n",
       "      <td>RandomForestClassifier</td>\n",
       "      <td>1.000000</td>\n",
       "      <td>0.960887</td>\n",
       "      <td>0.974307</td>\n",
       "      <td>0.935177</td>\n",
       "      <td>0.920158</td>\n",
       "      <td>0.954341</td>\n",
       "    </tr>\n",
       "    <tr>\n",
       "      <th>5</th>\n",
       "      <td>AdaBoostClassifier</td>\n",
       "      <td>0.927356</td>\n",
       "      <td>0.926971</td>\n",
       "      <td>0.927338</td>\n",
       "      <td>0.903734</td>\n",
       "      <td>0.851170</td>\n",
       "      <td>0.915384</td>\n",
       "    </tr>\n",
       "    <tr>\n",
       "      <th>6</th>\n",
       "      <td>Tunned Random Forest Clasifier</td>\n",
       "      <td>0.928857</td>\n",
       "      <td>0.926317</td>\n",
       "      <td>0.923546</td>\n",
       "      <td>0.906465</td>\n",
       "      <td>0.849953</td>\n",
       "      <td>0.914926</td>\n",
       "    </tr>\n",
       "    <tr>\n",
       "      <th>7</th>\n",
       "      <td>Random Forest Clasifier with Top 3 Features</td>\n",
       "      <td>0.891460</td>\n",
       "      <td>0.890283</td>\n",
       "      <td>0.859516</td>\n",
       "      <td>0.890908</td>\n",
       "      <td>0.777266</td>\n",
       "      <td>0.874931</td>\n",
       "    </tr>\n",
       "    <tr>\n",
       "      <th>8</th>\n",
       "      <td>Tunned RandomForestClasifier with Top 3 Feature</td>\n",
       "      <td>0.891460</td>\n",
       "      <td>0.890283</td>\n",
       "      <td>0.859516</td>\n",
       "      <td>0.890908</td>\n",
       "      <td>0.777266</td>\n",
       "      <td>0.874931</td>\n",
       "    </tr>\n",
       "    <tr>\n",
       "      <th>9</th>\n",
       "      <td>Random Forest Clasifier with Top 5 Features</td>\n",
       "      <td>0.925833</td>\n",
       "      <td>0.923827</td>\n",
       "      <td>0.922043</td>\n",
       "      <td>0.899190</td>\n",
       "      <td>0.844206</td>\n",
       "      <td>0.910473</td>\n",
       "    </tr>\n",
       "    <tr>\n",
       "      <th>10</th>\n",
       "      <td>Tunned RandomForestClasifier with Top 5 Feature</td>\n",
       "      <td>0.925833</td>\n",
       "      <td>0.923827</td>\n",
       "      <td>0.922043</td>\n",
       "      <td>0.899190</td>\n",
       "      <td>0.844206</td>\n",
       "      <td>0.910473</td>\n",
       "    </tr>\n",
       "    <tr>\n",
       "      <th>11</th>\n",
       "      <td>Tunned KNN Clasifier</td>\n",
       "      <td>0.943871</td>\n",
       "      <td>0.927087</td>\n",
       "      <td>0.942884</td>\n",
       "      <td>0.886912</td>\n",
       "      <td>0.850838</td>\n",
       "      <td>0.914042</td>\n",
       "    </tr>\n",
       "  </tbody>\n",
       "</table>\n",
       "</div>"
      ],
      "text/plain": [
       "                                         Model Name  Train Accuracy  \\\n",
       "0                    Logistic_Regression_full_model        0.874413   \n",
       "1                                        GaussianNB        0.865453   \n",
       "2                             KNeighboursClassifier        0.958211   \n",
       "3                            DecisionTreeClassifier        1.000000   \n",
       "4                            RandomForestClassifier        1.000000   \n",
       "5                                AdaBoostClassifier        0.927356   \n",
       "6                    Tunned Random Forest Clasifier        0.928857   \n",
       "7       Random Forest Clasifier with Top 3 Features        0.891460   \n",
       "8   Tunned RandomForestClasifier with Top 3 Feature        0.891460   \n",
       "9       Random Forest Clasifier with Top 5 Features        0.925833   \n",
       "10  Tunned RandomForestClasifier with Top 5 Feature        0.925833   \n",
       "11                             Tunned KNN Clasifier        0.943871   \n",
       "\n",
       "    Test Accuracy  Precision Score  Recall Score  Kappa Score  F1-score  \n",
       "0        0.875038         0.870161      0.839352     0.745049  0.854479  \n",
       "1        0.865260         0.865642      0.818830     0.724522  0.841586  \n",
       "2        0.923930         0.934650      0.888057     0.844547  0.910758  \n",
       "3        0.944141         0.937605      0.934384     0.886441  0.935992  \n",
       "4        0.960887         0.974307      0.935177     0.920158  0.954341  \n",
       "5        0.926971         0.927338      0.903734     0.851170  0.915384  \n",
       "6        0.926317         0.923546      0.906465     0.849953  0.914926  \n",
       "7        0.890283         0.859516      0.890908     0.777266  0.874931  \n",
       "8        0.890283         0.859516      0.890908     0.777266  0.874931  \n",
       "9        0.923827         0.922043      0.899190     0.844206  0.910473  \n",
       "10       0.923827         0.922043      0.899190     0.844206  0.910473  \n",
       "11       0.927087         0.942884      0.886912     0.850838  0.914042  "
      ]
     },
     "execution_count": 339,
     "metadata": {},
     "output_type": "execute_result"
    }
   ],
   "source": [
    "performance_table('Tunned KNN Clasifier',knn_tune)"
   ]
  },
  {
   "cell_type": "markdown",
   "metadata": {},
   "source": [
    "## Hyperparameter Tunning For Decision Tree Classifier"
   ]
  },
  {
   "cell_type": "code",
   "execution_count": 256,
   "metadata": {},
   "outputs": [],
   "source": [
    "tune = [{'criterion':['gini','entropy'],\n",
    "         'splitter':['best','random'],\n",
    "        'max_depth':[2,4,6],\n",
    "        'min_samples_leaf':[2,4,6],\n",
    "        'min_samples_split':[2,4,6],\n",
    "        'max_features':['auto','log2','sqrt']}]"
   ]
  },
  {
   "cell_type": "code",
   "execution_count": 257,
   "metadata": {},
   "outputs": [
    {
     "data": {
      "text/plain": [
       "{'criterion': 'gini',\n",
       " 'max_depth': 6,\n",
       " 'max_features': 'auto',\n",
       " 'min_samples_leaf': 6,\n",
       " 'min_samples_split': 4,\n",
       " 'splitter': 'best'}"
      ]
     },
     "execution_count": 257,
     "metadata": {},
     "output_type": "execute_result"
    }
   ],
   "source": [
    "DT1 = DecisionTreeClassifier()\n",
    "grid = GridSearchCV(estimator=DT1,param_grid=tune,cv=5,scoring='precision')\n",
    "grid.fit(X_train,y_train)\n",
    "grid.best_params_"
   ]
  },
  {
   "cell_type": "code",
   "execution_count": 258,
   "metadata": {},
   "outputs": [
    {
     "data": {
      "text/plain": [
       "DecisionTreeClassifier(max_depth=6, max_features='auto', min_samples_leaf=6,\n",
       "                       min_samples_split=4)"
      ]
     },
     "execution_count": 258,
     "metadata": {},
     "output_type": "execute_result"
    }
   ],
   "source": [
    "DT_tune = DecisionTreeClassifier(criterion='gini',max_depth=6,max_features='auto',min_samples_leaf=6,min_samples_split=4,splitter='best')\n",
    "DT_tune.fit(X_train,y_train)"
   ]
  },
  {
   "cell_type": "code",
   "execution_count": 259,
   "metadata": {},
   "outputs": [],
   "source": [
    "ypred_train_DT_tune = DT_tune.predict(X_train)\n",
    "ypred_test_DT_tune = DT_tune.predict(X_test)"
   ]
  },
  {
   "cell_type": "code",
   "execution_count": 260,
   "metadata": {},
   "outputs": [
    {
     "name": "stdout",
     "output_type": "stream",
     "text": [
      "Classification Report For Train Data :\n",
      "\n",
      "               precision    recall  f1-score   support\n",
      "\n",
      "           0       0.89      0.89      0.89     58830\n",
      "           1       0.86      0.86      0.86     45074\n",
      "\n",
      "    accuracy                           0.88    103904\n",
      "   macro avg       0.87      0.87      0.87    103904\n",
      "weighted avg       0.88      0.88      0.88    103904\n",
      "\n",
      "\n",
      "\n",
      "Classification Report For Test Data :\n",
      "\n",
      "               precision    recall  f1-score   support\n",
      "\n",
      "           0       0.88      0.88      0.88     14622\n",
      "           1       0.85      0.85      0.85     11354\n",
      "\n",
      "    accuracy                           0.87     25976\n",
      "   macro avg       0.87      0.87      0.87     25976\n",
      "weighted avg       0.87      0.87      0.87     25976\n",
      "\n"
     ]
    }
   ],
   "source": [
    "print(\"Classification Report For Train Data :\\n\\n\",classification_report(y_train,ypred_train_DT_tune))\n",
    "print(\"\\n\")\n",
    "print(\"Classification Report For Test Data :\\n\\n\",classification_report(y_test,ypred_test_DT_tune))"
   ]
  },
  {
   "cell_type": "code",
   "execution_count": null,
   "metadata": {},
   "outputs": [],
   "source": []
  },
  {
   "cell_type": "code",
   "execution_count": 340,
   "metadata": {},
   "outputs": [
    {
     "data": {
      "text/html": [
       "<div>\n",
       "<style scoped>\n",
       "    .dataframe tbody tr th:only-of-type {\n",
       "        vertical-align: middle;\n",
       "    }\n",
       "\n",
       "    .dataframe tbody tr th {\n",
       "        vertical-align: top;\n",
       "    }\n",
       "\n",
       "    .dataframe thead th {\n",
       "        text-align: right;\n",
       "    }\n",
       "</style>\n",
       "<table border=\"1\" class=\"dataframe\">\n",
       "  <thead>\n",
       "    <tr style=\"text-align: right;\">\n",
       "      <th></th>\n",
       "      <th>Model Name</th>\n",
       "      <th>Train Accuracy</th>\n",
       "      <th>Test Accuracy</th>\n",
       "      <th>Precision Score</th>\n",
       "      <th>Recall Score</th>\n",
       "      <th>Kappa Score</th>\n",
       "      <th>F1-score</th>\n",
       "    </tr>\n",
       "  </thead>\n",
       "  <tbody>\n",
       "    <tr>\n",
       "      <th>0</th>\n",
       "      <td>Logistic_Regression_full_model</td>\n",
       "      <td>0.874413</td>\n",
       "      <td>0.875038</td>\n",
       "      <td>0.870161</td>\n",
       "      <td>0.839352</td>\n",
       "      <td>0.745049</td>\n",
       "      <td>0.854479</td>\n",
       "    </tr>\n",
       "    <tr>\n",
       "      <th>1</th>\n",
       "      <td>GaussianNB</td>\n",
       "      <td>0.865453</td>\n",
       "      <td>0.865260</td>\n",
       "      <td>0.865642</td>\n",
       "      <td>0.818830</td>\n",
       "      <td>0.724522</td>\n",
       "      <td>0.841586</td>\n",
       "    </tr>\n",
       "    <tr>\n",
       "      <th>2</th>\n",
       "      <td>KNeighboursClassifier</td>\n",
       "      <td>0.958211</td>\n",
       "      <td>0.923930</td>\n",
       "      <td>0.934650</td>\n",
       "      <td>0.888057</td>\n",
       "      <td>0.844547</td>\n",
       "      <td>0.910758</td>\n",
       "    </tr>\n",
       "    <tr>\n",
       "      <th>3</th>\n",
       "      <td>DecisionTreeClassifier</td>\n",
       "      <td>1.000000</td>\n",
       "      <td>0.944141</td>\n",
       "      <td>0.937605</td>\n",
       "      <td>0.934384</td>\n",
       "      <td>0.886441</td>\n",
       "      <td>0.935992</td>\n",
       "    </tr>\n",
       "    <tr>\n",
       "      <th>4</th>\n",
       "      <td>RandomForestClassifier</td>\n",
       "      <td>1.000000</td>\n",
       "      <td>0.960887</td>\n",
       "      <td>0.974307</td>\n",
       "      <td>0.935177</td>\n",
       "      <td>0.920158</td>\n",
       "      <td>0.954341</td>\n",
       "    </tr>\n",
       "    <tr>\n",
       "      <th>5</th>\n",
       "      <td>AdaBoostClassifier</td>\n",
       "      <td>0.927356</td>\n",
       "      <td>0.926971</td>\n",
       "      <td>0.927338</td>\n",
       "      <td>0.903734</td>\n",
       "      <td>0.851170</td>\n",
       "      <td>0.915384</td>\n",
       "    </tr>\n",
       "    <tr>\n",
       "      <th>6</th>\n",
       "      <td>Tunned Random Forest Clasifier</td>\n",
       "      <td>0.928857</td>\n",
       "      <td>0.926317</td>\n",
       "      <td>0.923546</td>\n",
       "      <td>0.906465</td>\n",
       "      <td>0.849953</td>\n",
       "      <td>0.914926</td>\n",
       "    </tr>\n",
       "    <tr>\n",
       "      <th>7</th>\n",
       "      <td>Random Forest Clasifier with Top 3 Features</td>\n",
       "      <td>0.891460</td>\n",
       "      <td>0.890283</td>\n",
       "      <td>0.859516</td>\n",
       "      <td>0.890908</td>\n",
       "      <td>0.777266</td>\n",
       "      <td>0.874931</td>\n",
       "    </tr>\n",
       "    <tr>\n",
       "      <th>8</th>\n",
       "      <td>Tunned RandomForestClasifier with Top 3 Feature</td>\n",
       "      <td>0.891460</td>\n",
       "      <td>0.890283</td>\n",
       "      <td>0.859516</td>\n",
       "      <td>0.890908</td>\n",
       "      <td>0.777266</td>\n",
       "      <td>0.874931</td>\n",
       "    </tr>\n",
       "    <tr>\n",
       "      <th>9</th>\n",
       "      <td>Random Forest Clasifier with Top 5 Features</td>\n",
       "      <td>0.925833</td>\n",
       "      <td>0.923827</td>\n",
       "      <td>0.922043</td>\n",
       "      <td>0.899190</td>\n",
       "      <td>0.844206</td>\n",
       "      <td>0.910473</td>\n",
       "    </tr>\n",
       "    <tr>\n",
       "      <th>10</th>\n",
       "      <td>Tunned RandomForestClasifier with Top 5 Feature</td>\n",
       "      <td>0.925833</td>\n",
       "      <td>0.923827</td>\n",
       "      <td>0.922043</td>\n",
       "      <td>0.899190</td>\n",
       "      <td>0.844206</td>\n",
       "      <td>0.910473</td>\n",
       "    </tr>\n",
       "    <tr>\n",
       "      <th>11</th>\n",
       "      <td>Tunned KNN Clasifier</td>\n",
       "      <td>0.943871</td>\n",
       "      <td>0.927087</td>\n",
       "      <td>0.942884</td>\n",
       "      <td>0.886912</td>\n",
       "      <td>0.850838</td>\n",
       "      <td>0.914042</td>\n",
       "    </tr>\n",
       "    <tr>\n",
       "      <th>12</th>\n",
       "      <td>Tunned DecisionTreeClasifier</td>\n",
       "      <td>0.875183</td>\n",
       "      <td>0.869148</td>\n",
       "      <td>0.850595</td>\n",
       "      <td>0.849921</td>\n",
       "      <td>0.734065</td>\n",
       "      <td>0.850258</td>\n",
       "    </tr>\n",
       "  </tbody>\n",
       "</table>\n",
       "</div>"
      ],
      "text/plain": [
       "                                         Model Name  Train Accuracy  \\\n",
       "0                    Logistic_Regression_full_model        0.874413   \n",
       "1                                        GaussianNB        0.865453   \n",
       "2                             KNeighboursClassifier        0.958211   \n",
       "3                            DecisionTreeClassifier        1.000000   \n",
       "4                            RandomForestClassifier        1.000000   \n",
       "5                                AdaBoostClassifier        0.927356   \n",
       "6                    Tunned Random Forest Clasifier        0.928857   \n",
       "7       Random Forest Clasifier with Top 3 Features        0.891460   \n",
       "8   Tunned RandomForestClasifier with Top 3 Feature        0.891460   \n",
       "9       Random Forest Clasifier with Top 5 Features        0.925833   \n",
       "10  Tunned RandomForestClasifier with Top 5 Feature        0.925833   \n",
       "11                             Tunned KNN Clasifier        0.943871   \n",
       "12                     Tunned DecisionTreeClasifier        0.875183   \n",
       "\n",
       "    Test Accuracy  Precision Score  Recall Score  Kappa Score  F1-score  \n",
       "0        0.875038         0.870161      0.839352     0.745049  0.854479  \n",
       "1        0.865260         0.865642      0.818830     0.724522  0.841586  \n",
       "2        0.923930         0.934650      0.888057     0.844547  0.910758  \n",
       "3        0.944141         0.937605      0.934384     0.886441  0.935992  \n",
       "4        0.960887         0.974307      0.935177     0.920158  0.954341  \n",
       "5        0.926971         0.927338      0.903734     0.851170  0.915384  \n",
       "6        0.926317         0.923546      0.906465     0.849953  0.914926  \n",
       "7        0.890283         0.859516      0.890908     0.777266  0.874931  \n",
       "8        0.890283         0.859516      0.890908     0.777266  0.874931  \n",
       "9        0.923827         0.922043      0.899190     0.844206  0.910473  \n",
       "10       0.923827         0.922043      0.899190     0.844206  0.910473  \n",
       "11       0.927087         0.942884      0.886912     0.850838  0.914042  \n",
       "12       0.869148         0.850595      0.849921     0.734065  0.850258  "
      ]
     },
     "execution_count": 340,
     "metadata": {},
     "output_type": "execute_result"
    }
   ],
   "source": [
    "performance_table('Tunned DecisionTreeClasifier',DT_tune)"
   ]
  },
  {
   "cell_type": "markdown",
   "metadata": {},
   "source": [
    "## Feature Selection For Tunned Decision Tree Using Feature Importance"
   ]
  },
  {
   "cell_type": "code",
   "execution_count": 344,
   "metadata": {},
   "outputs": [
    {
     "data": {
      "text/html": [
       "<div>\n",
       "<style scoped>\n",
       "    .dataframe tbody tr th:only-of-type {\n",
       "        vertical-align: middle;\n",
       "    }\n",
       "\n",
       "    .dataframe tbody tr th {\n",
       "        vertical-align: top;\n",
       "    }\n",
       "\n",
       "    .dataframe thead th {\n",
       "        text-align: right;\n",
       "    }\n",
       "</style>\n",
       "<table border=\"1\" class=\"dataframe\">\n",
       "  <thead>\n",
       "    <tr style=\"text-align: right;\">\n",
       "      <th></th>\n",
       "      <th>column</th>\n",
       "      <th>imp</th>\n",
       "    </tr>\n",
       "  </thead>\n",
       "  <tbody>\n",
       "    <tr>\n",
       "      <th>9</th>\n",
       "      <td>online_boarding</td>\n",
       "      <td>0.3</td>\n",
       "    </tr>\n",
       "    <tr>\n",
       "      <th>13</th>\n",
       "      <td>leg_room_service</td>\n",
       "      <td>0.2</td>\n",
       "    </tr>\n",
       "    <tr>\n",
       "      <th>21</th>\n",
       "      <td>customer_class_Eco</td>\n",
       "      <td>0.1</td>\n",
       "    </tr>\n",
       "    <tr>\n",
       "      <th>20</th>\n",
       "      <td>type_of_travel_Personal Travel</td>\n",
       "      <td>0.1</td>\n",
       "    </tr>\n",
       "    <tr>\n",
       "      <th>4</th>\n",
       "      <td>inflight_wifi_service</td>\n",
       "      <td>0.1</td>\n",
       "    </tr>\n",
       "    <tr>\n",
       "      <th>0</th>\n",
       "      <td>age</td>\n",
       "      <td>0.0</td>\n",
       "    </tr>\n",
       "    <tr>\n",
       "      <th>19</th>\n",
       "      <td>customer_type_disloyal Customer</td>\n",
       "      <td>0.0</td>\n",
       "    </tr>\n",
       "    <tr>\n",
       "      <th>18</th>\n",
       "      <td>Gender_Male</td>\n",
       "      <td>0.0</td>\n",
       "    </tr>\n",
       "    <tr>\n",
       "      <th>17</th>\n",
       "      <td>cleanliness</td>\n",
       "      <td>0.0</td>\n",
       "    </tr>\n",
       "    <tr>\n",
       "      <th>16</th>\n",
       "      <td>inflight_service</td>\n",
       "      <td>0.0</td>\n",
       "    </tr>\n",
       "    <tr>\n",
       "      <th>15</th>\n",
       "      <td>checkin_service</td>\n",
       "      <td>0.0</td>\n",
       "    </tr>\n",
       "    <tr>\n",
       "      <th>14</th>\n",
       "      <td>baggage_handling</td>\n",
       "      <td>0.0</td>\n",
       "    </tr>\n",
       "    <tr>\n",
       "      <th>11</th>\n",
       "      <td>inflight_entertainment</td>\n",
       "      <td>0.0</td>\n",
       "    </tr>\n",
       "    <tr>\n",
       "      <th>12</th>\n",
       "      <td>onboard_service</td>\n",
       "      <td>0.0</td>\n",
       "    </tr>\n",
       "    <tr>\n",
       "      <th>1</th>\n",
       "      <td>flight_distance</td>\n",
       "      <td>0.0</td>\n",
       "    </tr>\n",
       "    <tr>\n",
       "      <th>10</th>\n",
       "      <td>seat_comfort</td>\n",
       "      <td>0.0</td>\n",
       "    </tr>\n",
       "    <tr>\n",
       "      <th>8</th>\n",
       "      <td>food_and_drink</td>\n",
       "      <td>0.0</td>\n",
       "    </tr>\n",
       "    <tr>\n",
       "      <th>7</th>\n",
       "      <td>gate_location</td>\n",
       "      <td>0.0</td>\n",
       "    </tr>\n",
       "    <tr>\n",
       "      <th>6</th>\n",
       "      <td>ease_of_online_booking</td>\n",
       "      <td>0.0</td>\n",
       "    </tr>\n",
       "    <tr>\n",
       "      <th>5</th>\n",
       "      <td>departure_arrival_time_convenient</td>\n",
       "      <td>0.0</td>\n",
       "    </tr>\n",
       "    <tr>\n",
       "      <th>3</th>\n",
       "      <td>arrival_delay_in_minutes</td>\n",
       "      <td>0.0</td>\n",
       "    </tr>\n",
       "    <tr>\n",
       "      <th>2</th>\n",
       "      <td>departure_delay_in_minutes</td>\n",
       "      <td>0.0</td>\n",
       "    </tr>\n",
       "    <tr>\n",
       "      <th>22</th>\n",
       "      <td>customer_class_Eco Plus</td>\n",
       "      <td>0.0</td>\n",
       "    </tr>\n",
       "  </tbody>\n",
       "</table>\n",
       "</div>"
      ],
      "text/plain": [
       "                               column  imp\n",
       "9                     online_boarding  0.3\n",
       "13                   leg_room_service  0.2\n",
       "21                 customer_class_Eco  0.1\n",
       "20     type_of_travel_Personal Travel  0.1\n",
       "4               inflight_wifi_service  0.1\n",
       "0                                 age  0.0\n",
       "19    customer_type_disloyal Customer  0.0\n",
       "18                        Gender_Male  0.0\n",
       "17                        cleanliness  0.0\n",
       "16                   inflight_service  0.0\n",
       "15                    checkin_service  0.0\n",
       "14                   baggage_handling  0.0\n",
       "11             inflight_entertainment  0.0\n",
       "12                    onboard_service  0.0\n",
       "1                     flight_distance  0.0\n",
       "10                       seat_comfort  0.0\n",
       "8                      food_and_drink  0.0\n",
       "7                       gate_location  0.0\n",
       "6              ease_of_online_booking  0.0\n",
       "5   departure_arrival_time_convenient  0.0\n",
       "3            arrival_delay_in_minutes  0.0\n",
       "2          departure_delay_in_minutes  0.0\n",
       "22            customer_class_Eco Plus  0.0"
      ]
     },
     "execution_count": 344,
     "metadata": {},
     "output_type": "execute_result"
    }
   ],
   "source": [
    "imp_feature_DT_tune = pd.DataFrame({'column':X_train.columns,'imp':np.round(DT_tune.feature_importances_,1)})\n",
    "sorted_feature_DT_tune = imp_feature_DT_tune.sort_values('imp',ascending=False)\n",
    "sorted_feature_DT_tune"
   ]
  },
  {
   "cell_type": "code",
   "execution_count": 345,
   "metadata": {},
   "outputs": [
    {
     "data": {
      "image/png": "[encoded data removed]",
      "text/plain": [
       "<Figure size 1080x720 with 1 Axes>"
      ]
     },
     "metadata": {
      "needs_background": "light"
     },
     "output_type": "display_data"
    }
   ],
   "source": [
    "plt.figure(figsize=(15,10))\n",
    "plt.rcParams.update({'font.size': 15})\n",
    "sns.barplot(sorted_feature_DT_tune['imp'],sorted_feature_DT_tune['column'])\n",
    "plt.title('Bar Plot For Feature Importance',size=20)\n",
    "plt.xlabel('Importance',size=20)\n",
    "plt.ylabel('Features',size=20)\n",
    "plt.show()"
   ]
  },
  {
   "cell_type": "markdown",
   "metadata": {},
   "source": [
    "So here we can see top five feature having more than zero importance and rest of the feature's importance get reduces to zero so we can drop those feature having zero importance and keep five features with importance in feature variables data."
   ]
  },
  {
   "cell_type": "markdown",
   "metadata": {},
   "source": [
    "### Selecting Features Using Feature Importance"
   ]
  },
  {
   "cell_type": "code",
   "execution_count": 347,
   "metadata": {},
   "outputs": [
    {
     "data": {
      "text/plain": [
       "['online_boarding',\n",
       " 'leg_room_service',\n",
       " 'inflight_wifi_service',\n",
       " 'type_of_travel_Personal Travel',\n",
       " 'customer_class_Eco']"
      ]
     },
     "execution_count": 347,
     "metadata": {},
     "output_type": "execute_result"
    }
   ],
   "source": [
    "selected_feature_DT_tune = list(imp_feature_DT_tune[imp_feature_DT_tune['imp']>0].sort_values('imp',ascending=False)['column'].values)\n",
    "selected_feature_DT_tune"
   ]
  },
  {
   "cell_type": "markdown",
   "metadata": {},
   "source": [
    "### Splitting Selected Feature Data"
   ]
  },
  {
   "cell_type": "code",
   "execution_count": 348,
   "metadata": {},
   "outputs": [],
   "source": [
    "X1 = X[selected_feature_DT_tune]\n",
    "X1_train, X1_test, y1_train, y1_test = train_test_split(X1,y,test_size=0.3,random_state=1)"
   ]
  },
  {
   "cell_type": "markdown",
   "metadata": {},
   "source": [
    "### Building Decision Tree With Selected Feature"
   ]
  },
  {
   "cell_type": "code",
   "execution_count": 349,
   "metadata": {},
   "outputs": [
    {
     "data": {
      "text/plain": [
       "DecisionTreeClassifier()"
      ]
     },
     "execution_count": 349,
     "metadata": {},
     "output_type": "execute_result"
    }
   ],
   "source": [
    "DT_sf = DecisionTreeClassifier()\n",
    "DT_sf.fit(X1_train,y1_train)"
   ]
  },
  {
   "cell_type": "code",
   "execution_count": 350,
   "metadata": {},
   "outputs": [],
   "source": [
    "ypred_train_DT_sf = DT_sf.predict(X1_train)\n",
    "ypred_test_DT_sf = DT_sf.predict(X1_test)"
   ]
  },
  {
   "cell_type": "code",
   "execution_count": 351,
   "metadata": {},
   "outputs": [
    {
     "name": "stdout",
     "output_type": "stream",
     "text": [
      "Classification Report For Train Data :\n",
      "\n",
      "               precision    recall  f1-score   support\n",
      "\n",
      "           0       0.93      0.92      0.93     51272\n",
      "           1       0.90      0.91      0.91     39644\n",
      "\n",
      "    accuracy                           0.92     90916\n",
      "   macro avg       0.92      0.92      0.92     90916\n",
      "weighted avg       0.92      0.92      0.92     90916\n",
      "\n",
      "\n",
      "\n",
      "Classification Report For Test Data :\n",
      "\n",
      "               precision    recall  f1-score   support\n",
      "\n",
      "           0       0.93      0.93      0.93     22180\n",
      "           1       0.90      0.91      0.90     16784\n",
      "\n",
      "    accuracy                           0.92     38964\n",
      "   macro avg       0.92      0.92      0.92     38964\n",
      "weighted avg       0.92      0.92      0.92     38964\n",
      "\n"
     ]
    }
   ],
   "source": [
    "print(\"Classification Report For Train Data :\\n\\n\",classification_report(y1_train,ypred_train_DT_sf))\n",
    "print(\"\\n\")\n",
    "print(\"Classification Report For Test Data :\\n\\n\",classification_report(y1_test,ypred_test_DT_sf))"
   ]
  },
  {
   "cell_type": "code",
   "execution_count": 352,
   "metadata": {},
   "outputs": [
    {
     "data": {
      "text/html": [
       "<div>\n",
       "<style scoped>\n",
       "    .dataframe tbody tr th:only-of-type {\n",
       "        vertical-align: middle;\n",
       "    }\n",
       "\n",
       "    .dataframe tbody tr th {\n",
       "        vertical-align: top;\n",
       "    }\n",
       "\n",
       "    .dataframe thead th {\n",
       "        text-align: right;\n",
       "    }\n",
       "</style>\n",
       "<table border=\"1\" class=\"dataframe\">\n",
       "  <thead>\n",
       "    <tr style=\"text-align: right;\">\n",
       "      <th></th>\n",
       "      <th>Model Name</th>\n",
       "      <th>Train Accuracy</th>\n",
       "      <th>Test Accuracy</th>\n",
       "      <th>Precision Score</th>\n",
       "      <th>Recall Score</th>\n",
       "      <th>Kappa Score</th>\n",
       "      <th>F1-score</th>\n",
       "    </tr>\n",
       "  </thead>\n",
       "  <tbody>\n",
       "    <tr>\n",
       "      <th>0</th>\n",
       "      <td>Logistic_Regression_full_model</td>\n",
       "      <td>0.874413</td>\n",
       "      <td>0.875038</td>\n",
       "      <td>0.870161</td>\n",
       "      <td>0.839352</td>\n",
       "      <td>0.745049</td>\n",
       "      <td>0.854479</td>\n",
       "    </tr>\n",
       "    <tr>\n",
       "      <th>1</th>\n",
       "      <td>GaussianNB</td>\n",
       "      <td>0.865453</td>\n",
       "      <td>0.865260</td>\n",
       "      <td>0.865642</td>\n",
       "      <td>0.818830</td>\n",
       "      <td>0.724522</td>\n",
       "      <td>0.841586</td>\n",
       "    </tr>\n",
       "    <tr>\n",
       "      <th>2</th>\n",
       "      <td>KNeighboursClassifier</td>\n",
       "      <td>0.958211</td>\n",
       "      <td>0.923930</td>\n",
       "      <td>0.934650</td>\n",
       "      <td>0.888057</td>\n",
       "      <td>0.844547</td>\n",
       "      <td>0.910758</td>\n",
       "    </tr>\n",
       "    <tr>\n",
       "      <th>3</th>\n",
       "      <td>DecisionTreeClassifier</td>\n",
       "      <td>1.000000</td>\n",
       "      <td>0.944141</td>\n",
       "      <td>0.937605</td>\n",
       "      <td>0.934384</td>\n",
       "      <td>0.886441</td>\n",
       "      <td>0.935992</td>\n",
       "    </tr>\n",
       "    <tr>\n",
       "      <th>4</th>\n",
       "      <td>RandomForestClassifier</td>\n",
       "      <td>1.000000</td>\n",
       "      <td>0.960887</td>\n",
       "      <td>0.974307</td>\n",
       "      <td>0.935177</td>\n",
       "      <td>0.920158</td>\n",
       "      <td>0.954341</td>\n",
       "    </tr>\n",
       "    <tr>\n",
       "      <th>5</th>\n",
       "      <td>AdaBoostClassifier</td>\n",
       "      <td>0.927356</td>\n",
       "      <td>0.926971</td>\n",
       "      <td>0.927338</td>\n",
       "      <td>0.903734</td>\n",
       "      <td>0.851170</td>\n",
       "      <td>0.915384</td>\n",
       "    </tr>\n",
       "    <tr>\n",
       "      <th>6</th>\n",
       "      <td>Tunned Random Forest Clasifier</td>\n",
       "      <td>0.928857</td>\n",
       "      <td>0.926317</td>\n",
       "      <td>0.923546</td>\n",
       "      <td>0.906465</td>\n",
       "      <td>0.849953</td>\n",
       "      <td>0.914926</td>\n",
       "    </tr>\n",
       "    <tr>\n",
       "      <th>7</th>\n",
       "      <td>Random Forest Clasifier with Top 3 Features</td>\n",
       "      <td>0.891460</td>\n",
       "      <td>0.890283</td>\n",
       "      <td>0.859516</td>\n",
       "      <td>0.890908</td>\n",
       "      <td>0.777266</td>\n",
       "      <td>0.874931</td>\n",
       "    </tr>\n",
       "    <tr>\n",
       "      <th>8</th>\n",
       "      <td>Tunned RandomForestClasifier with Top 3 Feature</td>\n",
       "      <td>0.891460</td>\n",
       "      <td>0.890283</td>\n",
       "      <td>0.859516</td>\n",
       "      <td>0.890908</td>\n",
       "      <td>0.777266</td>\n",
       "      <td>0.874931</td>\n",
       "    </tr>\n",
       "    <tr>\n",
       "      <th>9</th>\n",
       "      <td>Random Forest Clasifier with Top 5 Features</td>\n",
       "      <td>0.925833</td>\n",
       "      <td>0.923827</td>\n",
       "      <td>0.922043</td>\n",
       "      <td>0.899190</td>\n",
       "      <td>0.844206</td>\n",
       "      <td>0.910473</td>\n",
       "    </tr>\n",
       "    <tr>\n",
       "      <th>10</th>\n",
       "      <td>Tunned RandomForestClasifier with Top 5 Feature</td>\n",
       "      <td>0.925833</td>\n",
       "      <td>0.923827</td>\n",
       "      <td>0.922043</td>\n",
       "      <td>0.899190</td>\n",
       "      <td>0.844206</td>\n",
       "      <td>0.910473</td>\n",
       "    </tr>\n",
       "    <tr>\n",
       "      <th>11</th>\n",
       "      <td>Tunned KNN Clasifier</td>\n",
       "      <td>0.943871</td>\n",
       "      <td>0.927087</td>\n",
       "      <td>0.942884</td>\n",
       "      <td>0.886912</td>\n",
       "      <td>0.850838</td>\n",
       "      <td>0.914042</td>\n",
       "    </tr>\n",
       "    <tr>\n",
       "      <th>12</th>\n",
       "      <td>Tunned DecisionTreeClasifier</td>\n",
       "      <td>0.875183</td>\n",
       "      <td>0.869148</td>\n",
       "      <td>0.850595</td>\n",
       "      <td>0.849921</td>\n",
       "      <td>0.734065</td>\n",
       "      <td>0.850258</td>\n",
       "    </tr>\n",
       "    <tr>\n",
       "      <th>13</th>\n",
       "      <td>DecisionTreeClasifier with Top 5 Features</td>\n",
       "      <td>0.918078</td>\n",
       "      <td>0.917154</td>\n",
       "      <td>0.902160</td>\n",
       "      <td>0.905922</td>\n",
       "      <td>0.831154</td>\n",
       "      <td>0.904037</td>\n",
       "    </tr>\n",
       "  </tbody>\n",
       "</table>\n",
       "</div>"
      ],
      "text/plain": [
       "                                         Model Name  Train Accuracy  \\\n",
       "0                    Logistic_Regression_full_model        0.874413   \n",
       "1                                        GaussianNB        0.865453   \n",
       "2                             KNeighboursClassifier        0.958211   \n",
       "3                            DecisionTreeClassifier        1.000000   \n",
       "4                            RandomForestClassifier        1.000000   \n",
       "5                                AdaBoostClassifier        0.927356   \n",
       "6                    Tunned Random Forest Clasifier        0.928857   \n",
       "7       Random Forest Clasifier with Top 3 Features        0.891460   \n",
       "8   Tunned RandomForestClasifier with Top 3 Feature        0.891460   \n",
       "9       Random Forest Clasifier with Top 5 Features        0.925833   \n",
       "10  Tunned RandomForestClasifier with Top 5 Feature        0.925833   \n",
       "11                             Tunned KNN Clasifier        0.943871   \n",
       "12                     Tunned DecisionTreeClasifier        0.875183   \n",
       "13        DecisionTreeClasifier with Top 5 Features        0.918078   \n",
       "\n",
       "    Test Accuracy  Precision Score  Recall Score  Kappa Score  F1-score  \n",
       "0        0.875038         0.870161      0.839352     0.745049  0.854479  \n",
       "1        0.865260         0.865642      0.818830     0.724522  0.841586  \n",
       "2        0.923930         0.934650      0.888057     0.844547  0.910758  \n",
       "3        0.944141         0.937605      0.934384     0.886441  0.935992  \n",
       "4        0.960887         0.974307      0.935177     0.920158  0.954341  \n",
       "5        0.926971         0.927338      0.903734     0.851170  0.915384  \n",
       "6        0.926317         0.923546      0.906465     0.849953  0.914926  \n",
       "7        0.890283         0.859516      0.890908     0.777266  0.874931  \n",
       "8        0.890283         0.859516      0.890908     0.777266  0.874931  \n",
       "9        0.923827         0.922043      0.899190     0.844206  0.910473  \n",
       "10       0.923827         0.922043      0.899190     0.844206  0.910473  \n",
       "11       0.927087         0.942884      0.886912     0.850838  0.914042  \n",
       "12       0.869148         0.850595      0.849921     0.734065  0.850258  \n",
       "13       0.917154         0.902160      0.905922     0.831154  0.904037  "
      ]
     },
     "execution_count": 352,
     "metadata": {},
     "output_type": "execute_result"
    }
   ],
   "source": [
    "performance_table('DecisionTreeClasifier with Top 5 Features',DT_sf,sfs=True)"
   ]
  },
  {
   "cell_type": "markdown",
   "metadata": {},
   "source": [
    "### Model Performance Table With Highlighted Maximum Precision Value"
   ]
  },
  {
   "cell_type": "code",
   "execution_count": 366,
   "metadata": {},
   "outputs": [
    {
     "data": {
      "text/html": [
       "<style type=\"text/css\">\n",
       "#T_3f0f3_row4_col3 {\n",
       "  background-color: yellow;\n",
       "}\n",
       "</style>\n",
       "<table id=\"T_3f0f3_\">\n",
       "  <thead>\n",
       "    <tr>\n",
       "      <th class=\"blank level0\" >&nbsp;</th>\n",
       "      <th class=\"col_heading level0 col0\" >Model Name</th>\n",
       "      <th class=\"col_heading level0 col1\" >Train Accuracy</th>\n",
       "      <th class=\"col_heading level0 col2\" >Test Accuracy</th>\n",
       "      <th class=\"col_heading level0 col3\" >Precision Score</th>\n",
       "      <th class=\"col_heading level0 col4\" >Recall Score</th>\n",
       "      <th class=\"col_heading level0 col5\" >Kappa Score</th>\n",
       "      <th class=\"col_heading level0 col6\" >F1-score</th>\n",
       "    </tr>\n",
       "  </thead>\n",
       "  <tbody>\n",
       "    <tr>\n",
       "      <th id=\"T_3f0f3_level0_row0\" class=\"row_heading level0 row0\" >0</th>\n",
       "      <td id=\"T_3f0f3_row0_col0\" class=\"data row0 col0\" >Logistic_Regression_full_model</td>\n",
       "      <td id=\"T_3f0f3_row0_col1\" class=\"data row0 col1\" >0.874413</td>\n",
       "      <td id=\"T_3f0f3_row0_col2\" class=\"data row0 col2\" >0.875038</td>\n",
       "      <td id=\"T_3f0f3_row0_col3\" class=\"data row0 col3\" >0.870161</td>\n",
       "      <td id=\"T_3f0f3_row0_col4\" class=\"data row0 col4\" >0.839352</td>\n",
       "      <td id=\"T_3f0f3_row0_col5\" class=\"data row0 col5\" >0.745049</td>\n",
       "      <td id=\"T_3f0f3_row0_col6\" class=\"data row0 col6\" >0.854479</td>\n",
       "    </tr>\n",
       "    <tr>\n",
       "      <th id=\"T_3f0f3_level0_row1\" class=\"row_heading level0 row1\" >1</th>\n",
       "      <td id=\"T_3f0f3_row1_col0\" class=\"data row1 col0\" >GaussianNB</td>\n",
       "      <td id=\"T_3f0f3_row1_col1\" class=\"data row1 col1\" >0.865453</td>\n",
       "      <td id=\"T_3f0f3_row1_col2\" class=\"data row1 col2\" >0.865260</td>\n",
       "      <td id=\"T_3f0f3_row1_col3\" class=\"data row1 col3\" >0.865642</td>\n",
       "      <td id=\"T_3f0f3_row1_col4\" class=\"data row1 col4\" >0.818830</td>\n",
       "      <td id=\"T_3f0f3_row1_col5\" class=\"data row1 col5\" >0.724522</td>\n",
       "      <td id=\"T_3f0f3_row1_col6\" class=\"data row1 col6\" >0.841586</td>\n",
       "    </tr>\n",
       "    <tr>\n",
       "      <th id=\"T_3f0f3_level0_row2\" class=\"row_heading level0 row2\" >2</th>\n",
       "      <td id=\"T_3f0f3_row2_col0\" class=\"data row2 col0\" >KNeighboursClassifier</td>\n",
       "      <td id=\"T_3f0f3_row2_col1\" class=\"data row2 col1\" >0.958211</td>\n",
       "      <td id=\"T_3f0f3_row2_col2\" class=\"data row2 col2\" >0.923930</td>\n",
       "      <td id=\"T_3f0f3_row2_col3\" class=\"data row2 col3\" >0.934650</td>\n",
       "      <td id=\"T_3f0f3_row2_col4\" class=\"data row2 col4\" >0.888057</td>\n",
       "      <td id=\"T_3f0f3_row2_col5\" class=\"data row2 col5\" >0.844547</td>\n",
       "      <td id=\"T_3f0f3_row2_col6\" class=\"data row2 col6\" >0.910758</td>\n",
       "    </tr>\n",
       "    <tr>\n",
       "      <th id=\"T_3f0f3_level0_row3\" class=\"row_heading level0 row3\" >3</th>\n",
       "      <td id=\"T_3f0f3_row3_col0\" class=\"data row3 col0\" >DecisionTreeClassifier</td>\n",
       "      <td id=\"T_3f0f3_row3_col1\" class=\"data row3 col1\" >1.000000</td>\n",
       "      <td id=\"T_3f0f3_row3_col2\" class=\"data row3 col2\" >0.944141</td>\n",
       "      <td id=\"T_3f0f3_row3_col3\" class=\"data row3 col3\" >0.937605</td>\n",
       "      <td id=\"T_3f0f3_row3_col4\" class=\"data row3 col4\" >0.934384</td>\n",
       "      <td id=\"T_3f0f3_row3_col5\" class=\"data row3 col5\" >0.886441</td>\n",
       "      <td id=\"T_3f0f3_row3_col6\" class=\"data row3 col6\" >0.935992</td>\n",
       "    </tr>\n",
       "    <tr>\n",
       "      <th id=\"T_3f0f3_level0_row4\" class=\"row_heading level0 row4\" >4</th>\n",
       "      <td id=\"T_3f0f3_row4_col0\" class=\"data row4 col0\" >RandomForestClassifier</td>\n",
       "      <td id=\"T_3f0f3_row4_col1\" class=\"data row4 col1\" >1.000000</td>\n",
       "      <td id=\"T_3f0f3_row4_col2\" class=\"data row4 col2\" >0.960887</td>\n",
       "      <td id=\"T_3f0f3_row4_col3\" class=\"data row4 col3\" >0.974307</td>\n",
       "      <td id=\"T_3f0f3_row4_col4\" class=\"data row4 col4\" >0.935177</td>\n",
       "      <td id=\"T_3f0f3_row4_col5\" class=\"data row4 col5\" >0.920158</td>\n",
       "      <td id=\"T_3f0f3_row4_col6\" class=\"data row4 col6\" >0.954341</td>\n",
       "    </tr>\n",
       "    <tr>\n",
       "      <th id=\"T_3f0f3_level0_row5\" class=\"row_heading level0 row5\" >5</th>\n",
       "      <td id=\"T_3f0f3_row5_col0\" class=\"data row5 col0\" >AdaBoostClassifier</td>\n",
       "      <td id=\"T_3f0f3_row5_col1\" class=\"data row5 col1\" >0.927356</td>\n",
       "      <td id=\"T_3f0f3_row5_col2\" class=\"data row5 col2\" >0.926971</td>\n",
       "      <td id=\"T_3f0f3_row5_col3\" class=\"data row5 col3\" >0.927338</td>\n",
       "      <td id=\"T_3f0f3_row5_col4\" class=\"data row5 col4\" >0.903734</td>\n",
       "      <td id=\"T_3f0f3_row5_col5\" class=\"data row5 col5\" >0.851170</td>\n",
       "      <td id=\"T_3f0f3_row5_col6\" class=\"data row5 col6\" >0.915384</td>\n",
       "    </tr>\n",
       "    <tr>\n",
       "      <th id=\"T_3f0f3_level0_row6\" class=\"row_heading level0 row6\" >6</th>\n",
       "      <td id=\"T_3f0f3_row6_col0\" class=\"data row6 col0\" >Tunned Random Forest Clasifier</td>\n",
       "      <td id=\"T_3f0f3_row6_col1\" class=\"data row6 col1\" >0.928857</td>\n",
       "      <td id=\"T_3f0f3_row6_col2\" class=\"data row6 col2\" >0.926317</td>\n",
       "      <td id=\"T_3f0f3_row6_col3\" class=\"data row6 col3\" >0.923546</td>\n",
       "      <td id=\"T_3f0f3_row6_col4\" class=\"data row6 col4\" >0.906465</td>\n",
       "      <td id=\"T_3f0f3_row6_col5\" class=\"data row6 col5\" >0.849953</td>\n",
       "      <td id=\"T_3f0f3_row6_col6\" class=\"data row6 col6\" >0.914926</td>\n",
       "    </tr>\n",
       "    <tr>\n",
       "      <th id=\"T_3f0f3_level0_row7\" class=\"row_heading level0 row7\" >7</th>\n",
       "      <td id=\"T_3f0f3_row7_col0\" class=\"data row7 col0\" >Random Forest Clasifier with Top 3 Features</td>\n",
       "      <td id=\"T_3f0f3_row7_col1\" class=\"data row7 col1\" >0.891460</td>\n",
       "      <td id=\"T_3f0f3_row7_col2\" class=\"data row7 col2\" >0.890283</td>\n",
       "      <td id=\"T_3f0f3_row7_col3\" class=\"data row7 col3\" >0.859516</td>\n",
       "      <td id=\"T_3f0f3_row7_col4\" class=\"data row7 col4\" >0.890908</td>\n",
       "      <td id=\"T_3f0f3_row7_col5\" class=\"data row7 col5\" >0.777266</td>\n",
       "      <td id=\"T_3f0f3_row7_col6\" class=\"data row7 col6\" >0.874931</td>\n",
       "    </tr>\n",
       "    <tr>\n",
       "      <th id=\"T_3f0f3_level0_row8\" class=\"row_heading level0 row8\" >8</th>\n",
       "      <td id=\"T_3f0f3_row8_col0\" class=\"data row8 col0\" >Tunned RandomForestClasifier with Top 3 Feature</td>\n",
       "      <td id=\"T_3f0f3_row8_col1\" class=\"data row8 col1\" >0.891460</td>\n",
       "      <td id=\"T_3f0f3_row8_col2\" class=\"data row8 col2\" >0.890283</td>\n",
       "      <td id=\"T_3f0f3_row8_col3\" class=\"data row8 col3\" >0.859516</td>\n",
       "      <td id=\"T_3f0f3_row8_col4\" class=\"data row8 col4\" >0.890908</td>\n",
       "      <td id=\"T_3f0f3_row8_col5\" class=\"data row8 col5\" >0.777266</td>\n",
       "      <td id=\"T_3f0f3_row8_col6\" class=\"data row8 col6\" >0.874931</td>\n",
       "    </tr>\n",
       "    <tr>\n",
       "      <th id=\"T_3f0f3_level0_row9\" class=\"row_heading level0 row9\" >9</th>\n",
       "      <td id=\"T_3f0f3_row9_col0\" class=\"data row9 col0\" >Random Forest Clasifier with Top 5 Features</td>\n",
       "      <td id=\"T_3f0f3_row9_col1\" class=\"data row9 col1\" >0.925833</td>\n",
       "      <td id=\"T_3f0f3_row9_col2\" class=\"data row9 col2\" >0.923827</td>\n",
       "      <td id=\"T_3f0f3_row9_col3\" class=\"data row9 col3\" >0.922043</td>\n",
       "      <td id=\"T_3f0f3_row9_col4\" class=\"data row9 col4\" >0.899190</td>\n",
       "      <td id=\"T_3f0f3_row9_col5\" class=\"data row9 col5\" >0.844206</td>\n",
       "      <td id=\"T_3f0f3_row9_col6\" class=\"data row9 col6\" >0.910473</td>\n",
       "    </tr>\n",
       "    <tr>\n",
       "      <th id=\"T_3f0f3_level0_row10\" class=\"row_heading level0 row10\" >10</th>\n",
       "      <td id=\"T_3f0f3_row10_col0\" class=\"data row10 col0\" >Tunned RandomForestClasifier with Top 5 Feature</td>\n",
       "      <td id=\"T_3f0f3_row10_col1\" class=\"data row10 col1\" >0.925833</td>\n",
       "      <td id=\"T_3f0f3_row10_col2\" class=\"data row10 col2\" >0.923827</td>\n",
       "      <td id=\"T_3f0f3_row10_col3\" class=\"data row10 col3\" >0.922043</td>\n",
       "      <td id=\"T_3f0f3_row10_col4\" class=\"data row10 col4\" >0.899190</td>\n",
       "      <td id=\"T_3f0f3_row10_col5\" class=\"data row10 col5\" >0.844206</td>\n",
       "      <td id=\"T_3f0f3_row10_col6\" class=\"data row10 col6\" >0.910473</td>\n",
       "    </tr>\n",
       "    <tr>\n",
       "      <th id=\"T_3f0f3_level0_row11\" class=\"row_heading level0 row11\" >11</th>\n",
       "      <td id=\"T_3f0f3_row11_col0\" class=\"data row11 col0\" >Tunned KNN Clasifier</td>\n",
       "      <td id=\"T_3f0f3_row11_col1\" class=\"data row11 col1\" >0.943871</td>\n",
       "      <td id=\"T_3f0f3_row11_col2\" class=\"data row11 col2\" >0.927087</td>\n",
       "      <td id=\"T_3f0f3_row11_col3\" class=\"data row11 col3\" >0.942884</td>\n",
       "      <td id=\"T_3f0f3_row11_col4\" class=\"data row11 col4\" >0.886912</td>\n",
       "      <td id=\"T_3f0f3_row11_col5\" class=\"data row11 col5\" >0.850838</td>\n",
       "      <td id=\"T_3f0f3_row11_col6\" class=\"data row11 col6\" >0.914042</td>\n",
       "    </tr>\n",
       "    <tr>\n",
       "      <th id=\"T_3f0f3_level0_row12\" class=\"row_heading level0 row12\" >12</th>\n",
       "      <td id=\"T_3f0f3_row12_col0\" class=\"data row12 col0\" >Tunned DecisionTreeClasifier</td>\n",
       "      <td id=\"T_3f0f3_row12_col1\" class=\"data row12 col1\" >0.875183</td>\n",
       "      <td id=\"T_3f0f3_row12_col2\" class=\"data row12 col2\" >0.869148</td>\n",
       "      <td id=\"T_3f0f3_row12_col3\" class=\"data row12 col3\" >0.850595</td>\n",
       "      <td id=\"T_3f0f3_row12_col4\" class=\"data row12 col4\" >0.849921</td>\n",
       "      <td id=\"T_3f0f3_row12_col5\" class=\"data row12 col5\" >0.734065</td>\n",
       "      <td id=\"T_3f0f3_row12_col6\" class=\"data row12 col6\" >0.850258</td>\n",
       "    </tr>\n",
       "    <tr>\n",
       "      <th id=\"T_3f0f3_level0_row13\" class=\"row_heading level0 row13\" >13</th>\n",
       "      <td id=\"T_3f0f3_row13_col0\" class=\"data row13 col0\" >DecisionTreeClasifier with Top 5 Features</td>\n",
       "      <td id=\"T_3f0f3_row13_col1\" class=\"data row13 col1\" >0.918078</td>\n",
       "      <td id=\"T_3f0f3_row13_col2\" class=\"data row13 col2\" >0.917154</td>\n",
       "      <td id=\"T_3f0f3_row13_col3\" class=\"data row13 col3\" >0.902160</td>\n",
       "      <td id=\"T_3f0f3_row13_col4\" class=\"data row13 col4\" >0.905922</td>\n",
       "      <td id=\"T_3f0f3_row13_col5\" class=\"data row13 col5\" >0.831154</td>\n",
       "      <td id=\"T_3f0f3_row13_col6\" class=\"data row13 col6\" >0.904037</td>\n",
       "    </tr>\n",
       "  </tbody>\n",
       "</table>\n"
      ],
      "text/plain": [
       "<pandas.io.formats.style.Styler at 0x1ee9f797430>"
      ]
     },
     "execution_count": 366,
     "metadata": {},
     "output_type": "execute_result"
    }
   ],
   "source": [
    "p_table.style.highlight_max(['Precision Score'],axis=0)"
   ]
  },
  {
   "cell_type": "code",
   "execution_count": 367,
   "metadata": {},
   "outputs": [],
   "source": [
    "# p_table.to_excel('modal_scores.xlsx')"
   ]
  },
  {
   "cell_type": "markdown",
   "metadata": {},
   "source": [
    "### Bar Plot For Precision Score For Each Model"
   ]
  },
  {
   "cell_type": "code",
   "execution_count": 356,
   "metadata": {},
   "outputs": [
    {
     "data": {
      "image/png": "[encoded data removed]",
      "text/plain": [
       "<Figure size 1080x720 with 1 Axes>"
      ]
     },
     "metadata": {
      "needs_background": "light"
     },
     "output_type": "display_data"
    }
   ],
   "source": [
    "plt.figure(figsize=(15,10))\n",
    "plt.rcParams.update({'font.size': 15})\n",
    "sns.barplot(y=p_table['Model Name'],x=p_table['Precision Score'])\n",
    "plt.title('Bar Plot For Precision Score For Each Model',size=20)\n",
    "plt.xlabel('Precision Score',size=20)\n",
    "plt.ylabel('Model Name',size=20)\n",
    "plt.show()"
   ]
  },
  {
   "cell_type": "code",
   "execution_count": null,
   "metadata": {},
   "outputs": [],
   "source": []
  }
 ],
 "metadata": {
  "kernelspec": {
   "display_name": "Python 3 (ipykernel)",
   "language": "python",
   "name": "python3"
  },
  "language_info": {
   "codemirror_mode": {
    "name": "ipython",
    "version": 3
   },
   "file_extension": ".py",
   "mimetype": "text/x-python",
   "name": "python",
   "nbconvert_exporter": "python",
   "pygments_lexer": "ipython3",
   "version": "3.8.11"
  }
 },
 "nbformat": 4,
 "nbformat_minor": 4
}
